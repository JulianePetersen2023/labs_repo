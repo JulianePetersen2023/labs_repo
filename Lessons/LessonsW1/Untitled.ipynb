{
 "cells": [
  {
   "cell_type": "code",
   "execution_count": 2,
   "id": "0cd1fd1d",
   "metadata": {},
   "outputs": [],
   "source": [
    "import pandas as pd "
   ]
  },
  {
   "cell_type": "code",
   "execution_count": 3,
   "id": "46e551d3",
   "metadata": {},
   "outputs": [
    {
     "data": {
      "text/html": [
       "<div>\n",
       "<style scoped>\n",
       "    .dataframe tbody tr th:only-of-type {\n",
       "        vertical-align: middle;\n",
       "    }\n",
       "\n",
       "    .dataframe tbody tr th {\n",
       "        vertical-align: top;\n",
       "    }\n",
       "\n",
       "    .dataframe thead th {\n",
       "        text-align: right;\n",
       "    }\n",
       "</style>\n",
       "<table border=\"1\" class=\"dataframe\">\n",
       "  <thead>\n",
       "    <tr style=\"text-align: right;\">\n",
       "      <th></th>\n",
       "      <th>Artist</th>\n",
       "      <th>Title</th>\n",
       "    </tr>\n",
       "  </thead>\n",
       "  <tbody>\n",
       "    <tr>\n",
       "      <th>0</th>\n",
       "      <td>Taylor Swift</td>\n",
       "      <td>Cruel Summer</td>\n",
       "    </tr>\n",
       "    <tr>\n",
       "      <th>1</th>\n",
       "      <td>Jack Harlow</td>\n",
       "      <td>Lovin On Me</td>\n",
       "    </tr>\n",
       "    <tr>\n",
       "      <th>2</th>\n",
       "      <td>Doja Cat</td>\n",
       "      <td>Paint The Town Red</td>\n",
       "    </tr>\n",
       "    <tr>\n",
       "      <th>3</th>\n",
       "      <td>SZA</td>\n",
       "      <td>Snooze</td>\n",
       "    </tr>\n",
       "    <tr>\n",
       "      <th>4</th>\n",
       "      <td>Taylor Swift</td>\n",
       "      <td>Is It Over Now? (Taylor's Version) [From The V...</td>\n",
       "    </tr>\n",
       "    <tr>\n",
       "      <th>...</th>\n",
       "      <td>...</td>\n",
       "      <td>...</td>\n",
       "    </tr>\n",
       "    <tr>\n",
       "      <th>95</th>\n",
       "      <td>Karol G</td>\n",
       "      <td>Mi Ex Tenia Razon</td>\n",
       "    </tr>\n",
       "    <tr>\n",
       "      <th>96</th>\n",
       "      <td>Riley Green Featuring Luke Combs</td>\n",
       "      <td>Different 'Round Here</td>\n",
       "    </tr>\n",
       "    <tr>\n",
       "      <th>97</th>\n",
       "      <td>Luke Bryan</td>\n",
       "      <td>But I Got A Beer In My Hand</td>\n",
       "    </tr>\n",
       "    <tr>\n",
       "      <th>98</th>\n",
       "      <td>YoungBoy Never Broke Again &amp; Rod Wave</td>\n",
       "      <td>Better Than Ever</td>\n",
       "    </tr>\n",
       "    <tr>\n",
       "      <th>99</th>\n",
       "      <td>310babii</td>\n",
       "      <td>Soak City (Do It)</td>\n",
       "    </tr>\n",
       "  </tbody>\n",
       "</table>\n",
       "<p>100 rows × 2 columns</p>\n",
       "</div>"
      ],
      "text/plain": [
       "                                   Artist  \\\n",
       "0                            Taylor Swift   \n",
       "1                             Jack Harlow   \n",
       "2                                Doja Cat   \n",
       "3                                     SZA   \n",
       "4                            Taylor Swift   \n",
       "..                                    ...   \n",
       "95                                Karol G   \n",
       "96       Riley Green Featuring Luke Combs   \n",
       "97                             Luke Bryan   \n",
       "98  YoungBoy Never Broke Again & Rod Wave   \n",
       "99                               310babii   \n",
       "\n",
       "                                                Title  \n",
       "0                                        Cruel Summer  \n",
       "1                                         Lovin On Me  \n",
       "2                                  Paint The Town Red  \n",
       "3                                              Snooze  \n",
       "4   Is It Over Now? (Taylor's Version) [From The V...  \n",
       "..                                                ...  \n",
       "95                                  Mi Ex Tenia Razon  \n",
       "96                              Different 'Round Here  \n",
       "97                        But I Got A Beer In My Hand  \n",
       "98                                   Better Than Ever  \n",
       "99                                  Soak City (Do It)  \n",
       "\n",
       "[100 rows x 2 columns]"
      ]
     },
     "execution_count": 3,
     "metadata": {},
     "output_type": "execute_result"
    }
   ],
   "source": [
    "hot_100 = pd.read_csv(\"C:\\\\Users\\\\Juliane\\\\Documents\\\\GitHub\\\\labs_repo\\\\hot_100.csv\", on_bad_lines='skip')\n",
    "hot_100    #.to_csv(r'C:\\Users\\Juliane\\Documents\\GitHub\\labs_repo\\hot_100.csv', index=False)"
   ]
  },
  {
   "cell_type": "code",
   "execution_count": 4,
   "id": "bf481186",
   "metadata": {},
   "outputs": [
    {
     "data": {
      "text/html": [
       "<div>\n",
       "<style scoped>\n",
       "    .dataframe tbody tr th:only-of-type {\n",
       "        vertical-align: middle;\n",
       "    }\n",
       "\n",
       "    .dataframe tbody tr th {\n",
       "        vertical-align: top;\n",
       "    }\n",
       "\n",
       "    .dataframe thead th {\n",
       "        text-align: right;\n",
       "    }\n",
       "</style>\n",
       "<table border=\"1\" class=\"dataframe\">\n",
       "  <thead>\n",
       "    <tr style=\"text-align: right;\">\n",
       "      <th></th>\n",
       "      <th>Artist</th>\n",
       "      <th>Title</th>\n",
       "    </tr>\n",
       "  </thead>\n",
       "  <tbody>\n",
       "    <tr>\n",
       "      <th>0</th>\n",
       "      <td>Aretha_Franklin</td>\n",
       "      <td>Respect</td>\n",
       "    </tr>\n",
       "    <tr>\n",
       "      <th>1</th>\n",
       "      <td>The_Temptations</td>\n",
       "      <td>My Girl</td>\n",
       "    </tr>\n",
       "    <tr>\n",
       "      <th>2</th>\n",
       "      <td>Ben_E_King</td>\n",
       "      <td>Stand by Me</td>\n",
       "    </tr>\n",
       "    <tr>\n",
       "      <th>3</th>\n",
       "      <td>Marvin_Gaye</td>\n",
       "      <td>I Want You</td>\n",
       "    </tr>\n",
       "    <tr>\n",
       "      <th>4</th>\n",
       "      <td>Otis_Redding</td>\n",
       "      <td>Try a Little Tenderness</td>\n",
       "    </tr>\n",
       "    <tr>\n",
       "      <th>5</th>\n",
       "      <td>Stevie_Wonder</td>\n",
       "      <td>Living for the City</td>\n",
       "    </tr>\n",
       "    <tr>\n",
       "      <th>6</th>\n",
       "      <td>Etta_James</td>\n",
       "      <td>At Last</td>\n",
       "    </tr>\n",
       "    <tr>\n",
       "      <th>7</th>\n",
       "      <td>Ray_Charles</td>\n",
       "      <td>What’d I Say</td>\n",
       "    </tr>\n",
       "    <tr>\n",
       "      <th>8</th>\n",
       "      <td>Percy_Sledge</td>\n",
       "      <td>When a Man Loves a Woman</td>\n",
       "    </tr>\n",
       "    <tr>\n",
       "      <th>9</th>\n",
       "      <td>Michael_Jackson</td>\n",
       "      <td>Don’t Stop ‚Til You Get Enough</td>\n",
       "    </tr>\n",
       "    <tr>\n",
       "      <th>10</th>\n",
       "      <td>Diana_Ross</td>\n",
       "      <td>Ain’t No Mountain High Enough</td>\n",
       "    </tr>\n",
       "    <tr>\n",
       "      <th>11</th>\n",
       "      <td>Gladys_Knight_The_Pips</td>\n",
       "      <td>Midnight Train to Georgia</td>\n",
       "    </tr>\n",
       "    <tr>\n",
       "      <th>12</th>\n",
       "      <td>Smokey_Robinson_The_Miracles</td>\n",
       "      <td>The Tracks of My Tears</td>\n",
       "    </tr>\n",
       "    <tr>\n",
       "      <th>13</th>\n",
       "      <td>Sam_Cooke</td>\n",
       "      <td>A Change Is Gonna Come</td>\n",
       "    </tr>\n",
       "    <tr>\n",
       "      <th>14</th>\n",
       "      <td>The_Jackson_Five</td>\n",
       "      <td>I Want You Back</td>\n",
       "    </tr>\n",
       "    <tr>\n",
       "      <th>15</th>\n",
       "      <td>Al_Green</td>\n",
       "      <td>Let’s Stay Together</td>\n",
       "    </tr>\n",
       "    <tr>\n",
       "      <th>16</th>\n",
       "      <td>Aretha_Franklin</td>\n",
       "      <td>You Make Me Feel Like A Natural Woman</td>\n",
       "    </tr>\n",
       "    <tr>\n",
       "      <th>17</th>\n",
       "      <td>Marvin_Gaye</td>\n",
       "      <td>I Heard It Through The Grapevine</td>\n",
       "    </tr>\n",
       "    <tr>\n",
       "      <th>18</th>\n",
       "      <td>Sam_Dave</td>\n",
       "      <td>Soul Man</td>\n",
       "    </tr>\n",
       "    <tr>\n",
       "      <th>19</th>\n",
       "      <td>The_Flamingos</td>\n",
       "      <td>I Only Have Eyes For You</td>\n",
       "    </tr>\n",
       "  </tbody>\n",
       "</table>\n",
       "</div>"
      ],
      "text/plain": [
       "                          Artist                                  Title\n",
       "0                Aretha_Franklin                                Respect\n",
       "1                The_Temptations                                My Girl\n",
       "2                     Ben_E_King                            Stand by Me\n",
       "3                    Marvin_Gaye                             I Want You\n",
       "4                   Otis_Redding                Try a Little Tenderness\n",
       "5                  Stevie_Wonder                    Living for the City\n",
       "6                     Etta_James                                At Last\n",
       "7                    Ray_Charles                           What’d I Say\n",
       "8                   Percy_Sledge               When a Man Loves a Woman\n",
       "9                Michael_Jackson         Don’t Stop ‚Til You Get Enough\n",
       "10                    Diana_Ross          Ain’t No Mountain High Enough\n",
       "11        Gladys_Knight_The_Pips              Midnight Train to Georgia\n",
       "12  Smokey_Robinson_The_Miracles                 The Tracks of My Tears\n",
       "13                     Sam_Cooke                 A Change Is Gonna Come\n",
       "14              The_Jackson_Five                        I Want You Back\n",
       "15                      Al_Green                    Let’s Stay Together\n",
       "16               Aretha_Franklin  You Make Me Feel Like A Natural Woman\n",
       "17                   Marvin_Gaye       I Heard It Through The Grapevine\n",
       "18                      Sam_Dave                               Soul Man\n",
       "19                 The_Flamingos               I Only Have Eyes For You"
      ]
     },
     "execution_count": 4,
     "metadata": {},
     "output_type": "execute_result"
    }
   ],
   "source": [
    "top_soul = pd.read_csv(\"C:\\\\Users\\\\Juliane\\\\Documents\\\\GitHub\\\\labs_repo\\\\top_soul.csv\", on_bad_lines='skip')\n",
    "top_soul"
   ]
  },
  {
   "cell_type": "code",
   "execution_count": 6,
   "id": "9bcb8f72",
   "metadata": {},
   "outputs": [],
   "source": [
    "hot_lower = hot_100.applymap(lambda x: x.lower() if isinstance(x, str) else x)\n",
    "hot_lower.to_csv(r'C:\\Users\\Juliane\\Documents\\GitHub\\labs_repo\\hot_lower.csv', index=False)"
   ]
  },
  {
   "cell_type": "code",
   "execution_count": 7,
   "id": "068b6ac9",
   "metadata": {},
   "outputs": [],
   "source": [
    "soul_clean= top_soul.applymap(lambda x: x.lower() if isinstance(x, str) else x)\n",
    "soul_clean= top_soul.applymap(lambda x: x.replace('_', ' ') if isinstance(x, str) else x)\n",
    "soul_clean.to_csv(r'C:\\Users\\Juliane\\Documents\\GitHub\\labs_repo\\soul_clean.csv', index=False)"
   ]
  },
  {
   "cell_type": "code",
   "execution_count": 6,
   "id": "b075a2c7",
   "metadata": {},
   "outputs": [
    {
     "name": "stdout",
     "output_type": "stream",
     "text": [
      "Requirement already satisfied: fuzzywuzzy in c:\\users\\juliane\\anaconda3\\lib\\site-packages (0.18.0)\n",
      "Note: you may need to restart the kernel to use updated packages.\n"
     ]
    }
   ],
   "source": [
    "pip install fuzzywuzzy"
   ]
  },
  {
   "cell_type": "code",
   "execution_count": 12,
   "id": "4a3b0ab5",
   "metadata": {},
   "outputs": [
    {
     "name": "stdout",
     "output_type": "stream",
     "text": [
      "Enter your song!snoopze\n",
      "You typed snoopze, did you mean snooze? Then here is another HOT song for you:\n",
      "  Artist   Title\n",
      "3    sza  snooze\n"
     ]
    }
   ],
   "source": [
    "from fuzzywuzzy import process\n",
    "\n",
    "song = input(\"Enter your song!\").lower()\n",
    "\n",
    "# Get a list of all song titles in the DataFrame\n",
    "song_titles = hot_100['Title'].str.lower().tolist()\n",
    "\n",
    "# Use the process function to find the best match\n",
    "match, score = process.extractOne(song, song_titles)\n",
    "\n",
    "threshold = 80  \n",
    "\n",
    "if score >= threshold:\n",
    "    print(f\"You typed {song}, did you mean {match}? Then here is another HOT song for you:\")\n",
    "    # Now you can use match to find the corresponding row in your DataFrame\n",
    "    matching_row = hot_100[hot_100['Title'].str.lower() == match].sample()\n",
    "    print(matching_row)\n",
    "else:\n",
    "    print(\"No recommendation available. Please check the spelling or try another song.\")\n"
   ]
  },
  {
   "cell_type": "code",
   "execution_count": 24,
   "id": "44817f3d",
   "metadata": {},
   "outputs": [
    {
     "name": "stdout",
     "output_type": "stream",
     "text": [
      "Enter your song here: Snooze\n"
     ]
    }
   ],
   "source": [
    "# fuzzy wuzzy\n",
    "\n",
    "song = input(\"Enter your song here: \").lower()"
   ]
  },
  {
   "cell_type": "code",
   "execution_count": 25,
   "id": "81e92823",
   "metadata": {},
   "outputs": [
    {
     "name": "stdout",
     "output_type": "stream",
     "text": [
      "Great, snooze is in the HOT 100 list. Here is another HOT song for you: \n",
      "   Artist           Title\n",
      "31  wham!  last christmas\n"
     ]
    }
   ],
   "source": [
    "if song in hot_100['Title'].values:\n",
    "    print(f\"Great, {song} is in the HOT 100 list. Here is another HOT song for you: \")\n",
    "    random_row = hot_100.sample()\n",
    "    print(random_row)\n",
    "    \n",
    "else:\n",
    "    print (f\"Sorry your song is not hot\")   "
   ]
  },
  {
   "cell_type": "code",
   "execution_count": null,
   "id": "cd32af2c",
   "metadata": {},
   "outputs": [],
   "source": [
    "if song in hot_100['Title'].values:\n",
    "    print(f\"Great, {song} is in the HOT 100 list. Here is another HOT song for you: \")\n",
    "    rec_song = random.choice(HOT_100)\n",
    "    results = sp.search(q=\"rec_song\")\n",
    "    track_id = results[\"tracks\"[item][0][id]\n",
    "    play song (...id...)"
   ]
  },
  {
   "cell_type": "code",
   "execution_count": 32,
   "id": "1837ad07",
   "metadata": {},
   "outputs": [
    {
     "ename": "SyntaxError",
     "evalue": "invalid syntax (1800880067.py, line 7)",
     "output_type": "error",
     "traceback": [
      "\u001b[1;36m  Cell \u001b[1;32mIn[32], line 7\u001b[1;36m\u001b[0m\n\u001b[1;33m    elif song in\u001b[0m\n\u001b[1;37m                 ^\u001b[0m\n\u001b[1;31mSyntaxError\u001b[0m\u001b[1;31m:\u001b[0m invalid syntax\n"
     ]
    }
   ],
   "source": [
    "if song in hot_100['Title'].values:\n",
    "    print(f\"Great, {song} is in the HOT 100 list. Here is another HOT song for you: \")\n",
    "    random_row = hot_100.sample()\n",
    "    print(\"Random Song Recommendation:\")\n",
    "    print(random_row)\n",
    "\n",
    "elif song in \n",
    "    \n",
    "else:\n",
    "    print (f\"No recommendation available\")   "
   ]
  },
  {
   "cell_type": "code",
   "execution_count": null,
   "id": "68fc0704",
   "metadata": {},
   "outputs": [],
   "source": []
  },
  {
   "cell_type": "code",
   "execution_count": null,
   "id": "41ba26d1",
   "metadata": {},
   "outputs": [],
   "source": [
    "#case sensitive\n",
    "#what if two times same name\n",
    "#handle typos"
   ]
  },
  {
   "cell_type": "code",
   "execution_count": null,
   "id": "10501faf",
   "metadata": {},
   "outputs": [],
   "source": []
  }
 ],
 "metadata": {
  "kernelspec": {
   "display_name": "Python 3 (ipykernel)",
   "language": "python",
   "name": "python3"
  },
  "language_info": {
   "codemirror_mode": {
    "name": "ipython",
    "version": 3
   },
   "file_extension": ".py",
   "mimetype": "text/x-python",
   "name": "python",
   "nbconvert_exporter": "python",
   "pygments_lexer": "ipython3",
   "version": "3.11.4"
  }
 },
 "nbformat": 4,
 "nbformat_minor": 5
}
