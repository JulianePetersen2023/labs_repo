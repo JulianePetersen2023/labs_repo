{
 "cells": [
  {
   "cell_type": "markdown",
   "id": "d3bfc191-8885-42ee-b0a0-bbab867c6f9f",
   "metadata": {
    "tags": []
   },
   "source": [
    "# Lab | Flow Control"
   ]
  },
  {
   "cell_type": "markdown",
   "id": "3851fcd1-cf98-4653-9c89-e003b7ec9400",
   "metadata": {},
   "source": [
    "## Exercise: Managing Customer Orders Optimized\n",
    "\n",
    "In the last lab, you were starting an online store that sells various products. To ensure smooth operations, you developed a program that manages customer orders and inventory.\n",
    "\n",
    "You did so without using flow control. Let's go a step further and improve this code.\n",
    "\n",
    "Follow the steps below to complete the exercise:\n",
    "\n",
    "1. Look at your code from the lab data structures, and improve repeated code with loops.\n",
    "\n",
    "2. Instead of asking the user to input the name of three products that a customer wants to order, do the following:\n",
    "    \n",
    "    a. Prompt the user to enter the name of a product that a customer wants to order.\n",
    "    \n",
    "    b. Add the product name to the \"customer_orders\" set.\n",
    "    \n",
    "    c. Ask the user if they want to add another product (yes/no).\n",
    "    \n",
    "    d. Continue the loop until the user does not want to add another product.\n",
    "\n",
    "3. Instead of updating the inventory by subtracting 1 from the quantity of each product, only do it for  the products that were ordered (those in \"customer_orders\")."
   ]
  },
  {
   "cell_type": "code",
   "execution_count": 1,
   "id": "331ab484",
   "metadata": {},
   "outputs": [
    {
     "name": "stdout",
     "output_type": "stream",
     "text": [
      "Enter quantity of t-shirt: 2\n",
      "{'t-shirt': 2}\n",
      "Enter quantity of mug: 3\n",
      "{'t-shirt': 2, 'mug': 3}\n",
      "Enter quantity of hat: 4\n",
      "{'t-shirt': 2, 'mug': 3, 'hat': 4}\n",
      "Enter quantity of book: 5\n",
      "{'t-shirt': 2, 'mug': 3, 'hat': 4, 'book': 5}\n",
      "Enter quantity of keychain: 6\n",
      "{'t-shirt': 2, 'mug': 3, 'hat': 4, 'book': 5, 'keychain': 6}\n"
     ]
    }
   ],
   "source": [
    "products= [\"t-shirt\", \"mug\", \"hat\", \"book\", \"keychain\"]\n",
    "inventory = {}\n",
    "for item in products:\n",
    "    quantity = int(input(f\"Enter quantity of {item}: \"))\n",
    "    inventory.update({item:quantity})\n",
    "    print(inventory)"
   ]
  },
  {
   "cell_type": "code",
   "execution_count": 6,
   "id": "11b905e9",
   "metadata": {},
   "outputs": [],
   "source": [
    "#2 first try\n",
    "def get_customer_orders():\n",
    "    customer_orders_set = set()  \n",
    "    products = input(\"Please enter a product for order: \")\n",
    "    customer_orders_set.add(products)\n",
    "    print(\"Your orders: \", customer_orders_set)\n",
    "    another = input(\"Do you want another product? (Enter yes or no)\")\n",
    "    while another == \"yes\":\n",
    "        products = input(\"Please enter a product for order: \")\n",
    "        customer_orders_set.add(products)\n",
    "        print(\"Your orders: \", customer_orders_set)\n",
    "        next = input(\"Do you want another product? (Enter yes or no)\")\n",
    "        if next == \"yes\":\n",
    "            products = input(\"Please enter a product for order: \")\n",
    "            customer_orders_set.add(products)\n",
    "            print(\"Your orders: \", customer_orders_set)     \n",
    "        if next == \"no\":\n",
    "            print (\"Thank you for your order\")\n",
    "            print(\"Your orders: \", customer_orders_set)\n",
    "            return(customer_orders_set)"
   ]
  },
  {
   "cell_type": "code",
   "execution_count": 7,
   "id": "2c496833",
   "metadata": {},
   "outputs": [
    {
     "name": "stdout",
     "output_type": "stream",
     "text": [
      "Please enter a product for order: hat\n",
      "Your orders:  {'hat'}\n",
      "Do you want another product? (Enter yes or no)yes\n",
      "Please enter a product for order: book\n",
      "Your orders:  {'hat', 'book'}\n",
      "Do you want another product? (Enter yes or no)yes\n",
      "Please enter a product for order: t-shirt\n",
      "Your orders:  {'t-shirt', 'hat', 'book'}\n"
     ]
    },
    {
     "ename": "KeyboardInterrupt",
     "evalue": "Interrupted by user",
     "output_type": "error",
     "traceback": [
      "\u001b[1;31m---------------------------------------------------------------------------\u001b[0m",
      "\u001b[1;31mKeyboardInterrupt\u001b[0m                         Traceback (most recent call last)",
      "Cell \u001b[1;32mIn[7], line 1\u001b[0m\n\u001b[1;32m----> 1\u001b[0m get_customer_orders()\n",
      "Cell \u001b[1;32mIn[6], line 9\u001b[0m, in \u001b[0;36mget_customer_orders\u001b[1;34m()\u001b[0m\n\u001b[0;32m      7\u001b[0m another \u001b[38;5;241m=\u001b[39m \u001b[38;5;28minput\u001b[39m(\u001b[38;5;124m\"\u001b[39m\u001b[38;5;124mDo you want another product? (Enter yes or no)\u001b[39m\u001b[38;5;124m\"\u001b[39m)\n\u001b[0;32m      8\u001b[0m \u001b[38;5;28;01mwhile\u001b[39;00m another \u001b[38;5;241m==\u001b[39m \u001b[38;5;124m\"\u001b[39m\u001b[38;5;124myes\u001b[39m\u001b[38;5;124m\"\u001b[39m:\n\u001b[1;32m----> 9\u001b[0m     products \u001b[38;5;241m=\u001b[39m \u001b[38;5;28minput\u001b[39m(\u001b[38;5;124m\"\u001b[39m\u001b[38;5;124mPlease enter a product for order: \u001b[39m\u001b[38;5;124m\"\u001b[39m)\n\u001b[0;32m     10\u001b[0m     customer_orders_set\u001b[38;5;241m.\u001b[39madd(products)\n\u001b[0;32m     11\u001b[0m     \u001b[38;5;28mprint\u001b[39m(\u001b[38;5;124m\"\u001b[39m\u001b[38;5;124mYour orders: \u001b[39m\u001b[38;5;124m\"\u001b[39m, customer_orders_set)\n",
      "File \u001b[1;32m~\\anaconda3\\Lib\\site-packages\\ipykernel\\kernelbase.py:1175\u001b[0m, in \u001b[0;36mKernel.raw_input\u001b[1;34m(self, prompt)\u001b[0m\n\u001b[0;32m   1171\u001b[0m \u001b[38;5;28;01mif\u001b[39;00m \u001b[38;5;129;01mnot\u001b[39;00m \u001b[38;5;28mself\u001b[39m\u001b[38;5;241m.\u001b[39m_allow_stdin:\n\u001b[0;32m   1172\u001b[0m     \u001b[38;5;28;01mraise\u001b[39;00m StdinNotImplementedError(\n\u001b[0;32m   1173\u001b[0m         \u001b[38;5;124m\"\u001b[39m\u001b[38;5;124mraw_input was called, but this frontend does not support input requests.\u001b[39m\u001b[38;5;124m\"\u001b[39m\n\u001b[0;32m   1174\u001b[0m     )\n\u001b[1;32m-> 1175\u001b[0m \u001b[38;5;28;01mreturn\u001b[39;00m \u001b[38;5;28mself\u001b[39m\u001b[38;5;241m.\u001b[39m_input_request(\n\u001b[0;32m   1176\u001b[0m     \u001b[38;5;28mstr\u001b[39m(prompt),\n\u001b[0;32m   1177\u001b[0m     \u001b[38;5;28mself\u001b[39m\u001b[38;5;241m.\u001b[39m_parent_ident[\u001b[38;5;124m\"\u001b[39m\u001b[38;5;124mshell\u001b[39m\u001b[38;5;124m\"\u001b[39m],\n\u001b[0;32m   1178\u001b[0m     \u001b[38;5;28mself\u001b[39m\u001b[38;5;241m.\u001b[39mget_parent(\u001b[38;5;124m\"\u001b[39m\u001b[38;5;124mshell\u001b[39m\u001b[38;5;124m\"\u001b[39m),\n\u001b[0;32m   1179\u001b[0m     password\u001b[38;5;241m=\u001b[39m\u001b[38;5;28;01mFalse\u001b[39;00m,\n\u001b[0;32m   1180\u001b[0m )\n",
      "File \u001b[1;32m~\\anaconda3\\Lib\\site-packages\\ipykernel\\kernelbase.py:1217\u001b[0m, in \u001b[0;36mKernel._input_request\u001b[1;34m(self, prompt, ident, parent, password)\u001b[0m\n\u001b[0;32m   1214\u001b[0m             \u001b[38;5;28;01mbreak\u001b[39;00m\n\u001b[0;32m   1215\u001b[0m \u001b[38;5;28;01mexcept\u001b[39;00m \u001b[38;5;167;01mKeyboardInterrupt\u001b[39;00m:\n\u001b[0;32m   1216\u001b[0m     \u001b[38;5;66;03m# re-raise KeyboardInterrupt, to truncate traceback\u001b[39;00m\n\u001b[1;32m-> 1217\u001b[0m     \u001b[38;5;28;01mraise\u001b[39;00m \u001b[38;5;167;01mKeyboardInterrupt\u001b[39;00m(\u001b[38;5;124m\"\u001b[39m\u001b[38;5;124mInterrupted by user\u001b[39m\u001b[38;5;124m\"\u001b[39m) \u001b[38;5;28;01mfrom\u001b[39;00m \u001b[38;5;28;01mNone\u001b[39;00m\n\u001b[0;32m   1218\u001b[0m \u001b[38;5;28;01mexcept\u001b[39;00m \u001b[38;5;167;01mException\u001b[39;00m:\n\u001b[0;32m   1219\u001b[0m     \u001b[38;5;28mself\u001b[39m\u001b[38;5;241m.\u001b[39mlog\u001b[38;5;241m.\u001b[39mwarning(\u001b[38;5;124m\"\u001b[39m\u001b[38;5;124mInvalid Message:\u001b[39m\u001b[38;5;124m\"\u001b[39m, exc_info\u001b[38;5;241m=\u001b[39m\u001b[38;5;28;01mTrue\u001b[39;00m)\n",
      "\u001b[1;31mKeyboardInterrupt\u001b[0m: Interrupted by user"
     ]
    }
   ],
   "source": [
    "get_customer_orders()"
   ]
  },
  {
   "cell_type": "code",
   "execution_count": 4,
   "id": "1da081a8",
   "metadata": {},
   "outputs": [],
   "source": [
    "#2 next try\n",
    "def order():\n",
    "    customer_orders = set()\n",
    "    products= [\"t-shirt\", \"mug\", \"hat\", \"book\", \"keychain\"]\n",
    "    for i in products:\n",
    "        another=input(\"Do you want another product? (Enter yes or no): \") \n",
    "        if another == \"yes\":  \n",
    "            product = input(\"Please enter a product for order: \")\n",
    "            customer_orders.add(product)\n",
    "            print(\"Your orders: \", customer_orders)\n",
    "        else:\n",
    "            print(\"Your orders: \", customer_orders)\n",
    "            break"
   ]
  },
  {
   "cell_type": "code",
   "execution_count": 5,
   "id": "60fd76f7",
   "metadata": {},
   "outputs": [
    {
     "name": "stdout",
     "output_type": "stream",
     "text": [
      "Do you want another product? (Enter yes or no): yes\n",
      "Please enter a product for order: hat\n",
      "Your orders:  {'hat'}\n",
      "Do you want another product? (Enter yes or no): yes\n",
      "Please enter a product for order: book\n",
      "Your orders:  {'hat', 'book'}\n",
      "Do you want another product? (Enter yes or no): yes\n",
      "Please enter a product for order: t-shirt\n",
      "Your orders:  {'t-shirt', 'hat', 'book'}\n",
      "Do you want another product? (Enter yes or no): no\n",
      "Your orders:  {'t-shirt', 'hat', 'book'}\n"
     ]
    }
   ],
   "source": [
    "order()"
   ]
  },
  {
   "cell_type": "code",
   "execution_count": 14,
   "id": "71fc97b9",
   "metadata": {},
   "outputs": [
    {
     "name": "stdout",
     "output_type": "stream",
     "text": [
      "{'t-shirt': 1, 'mug': 3, 'hat': 3, 'book': 4, 'keychain': 6}\n"
     ]
    }
   ],
   "source": [
    "# 3. Instead of updating the inventory by subtracting 1 from the quantity of each product, only do it for the products that were ordered (those in \"customer_orders\").\n",
    "inventory = {'t-shirt': 2, 'mug': 3, 'hat': 4, 'book': 5, 'keychain': 6}\n",
    "customer_orders: {'t-shirt', 'hat', 'book'}\n",
    "for prod, quant in inventory.items():\n",
    "    if prod == \"t-shirt\" or prod == \"hat\" or prod == \"book\":\n",
    "        inventory.update({prod:(quant-1)})\n",
    "print(inventory)"
   ]
  },
  {
   "cell_type": "code",
   "execution_count": 15,
   "id": "11af4cba",
   "metadata": {},
   "outputs": [
    {
     "ename": "SyntaxError",
     "evalue": "Missing parentheses in call to 'print'. Did you mean print(...)? (3638674939.py, line 4)",
     "output_type": "error",
     "traceback": [
      "\u001b[1;36m  Cell \u001b[1;32mIn[15], line 4\u001b[1;36m\u001b[0m\n\u001b[1;33m    print inventory\u001b[0m\n\u001b[1;37m    ^\u001b[0m\n\u001b[1;31mSyntaxError\u001b[0m\u001b[1;31m:\u001b[0m Missing parentheses in call to 'print'. Did you mean print(...)?\n"
     ]
    }
   ],
   "source": [
    "for order in customer_orders:\n",
    "    if order in inventory.keys():\n",
    "        inventory [order] -= 1\n",
    "print inventory\n",
    "    "
   ]
  },
  {
   "cell_type": "code",
   "execution_count": 25,
   "id": "aec02c39",
   "metadata": {},
   "outputs": [
    {
     "name": "stdout",
     "output_type": "stream",
     "text": [
      "['SACHAM', 'SAUL', 'SEB']\n"
     ]
    }
   ],
   "source": [
    "name_list = ['Sacham', 'Saul', 'Juli', 'Seb', 'Dominik']\n",
    "s_names = []\n",
    "for i in name_list:\n",
    "    if i[0] == 'S':\n",
    "        upper_name = i.upper()\n",
    "        s_names.append(upper_name)\n",
    "print(s_names)"
   ]
  },
  {
   "cell_type": "code",
   "execution_count": 27,
   "id": "3f013551",
   "metadata": {},
   "outputs": [],
   "source": [
    "def letter_names(list):\n",
    "    s_names = []\n",
    "    for i in name_list:\n",
    "        if i[0] == 'S':\n",
    "            upper_name = i.upper()\n",
    "            s_names.append(upper_name)\n",
    "    return(s_names)\n",
    "    "
   ]
  },
  {
   "cell_type": "code",
   "execution_count": null,
   "id": "cff0f277",
   "metadata": {},
   "outputs": [],
   "source": []
  }
 ],
 "metadata": {
  "kernelspec": {
   "display_name": "Python 3 (ipykernel)",
   "language": "python",
   "name": "python3"
  },
  "language_info": {
   "codemirror_mode": {
    "name": "ipython",
    "version": 3
   },
   "file_extension": ".py",
   "mimetype": "text/x-python",
   "name": "python",
   "nbconvert_exporter": "python",
   "pygments_lexer": "ipython3",
   "version": "3.11.4"
  }
 },
 "nbformat": 4,
 "nbformat_minor": 5
}
