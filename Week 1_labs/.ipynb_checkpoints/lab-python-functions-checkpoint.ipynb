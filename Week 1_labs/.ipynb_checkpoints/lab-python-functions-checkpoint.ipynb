{
 "cells": [
  {
   "cell_type": "markdown",
   "id": "25d7736c-ba17-4aff-b6bb-66eba20fbf4e",
   "metadata": {},
   "source": [
    "# Lab | Functions"
   ]
  },
  {
   "cell_type": "markdown",
   "id": "0c581062-8967-4d93-b06e-62833222f930",
   "metadata": {
    "tags": []
   },
   "source": [
    "## Exercise: Managing Customer Orders with Functions\n",
    "\n",
    "In the previous exercise, you improved the code for managing customer orders by using loops and flow control. Now, let's take it a step further and refactor the code by introducing functions.\n",
    "\n",
    "Follow the steps below to complete the exercise:\n",
    "\n",
    "1. Define a function named `initialize_inventory` that takes `products` as a parameter. Inside the function, implement the code for initializing the inventory dictionary using a loop and user input.\n",
    "\n",
    "2. Define a function named `get_customer_orders` that takes no parameters. Inside the function, implement the code for prompting the user to enter the product names using a loop. The function should return the `customer_orders` set.\n",
    "\n",
    "3. Define a function named `update_inventory` that takes `customer_orders` and `inventory` as parameters. Inside the function, implement the code for updating the inventory dictionary based on the customer orders.\n",
    "\n",
    "4. Define a function named `calculate_order_statistics` that takes `customer_orders` and `products` as parameters. Inside the function, implement the code for calculating the order statistics (total products ordered, and percentage of unique products ordered). The function should return these values.\n",
    "\n",
    "5. Define a function named `print_order_statistics` that takes `order_statistics` as a parameter. Inside the function, implement the code for printing the order statistics.\n",
    "\n",
    "6. Define a function named `print_updated_inventory` that takes `inventory` as a parameter. Inside the function, implement the code for printing the updated inventory.\n",
    "\n",
    "7. Call the functions in the appropriate sequence to execute the program and manage customer orders.\n",
    "\n",
    "Hints for functions:\n",
    "\n",
    "- Consider the input parameters required for each function and their return values.\n",
    "- Utilize function parameters and return values to transfer data between functions.\n",
    "- Test your functions individually to ensure they work correctly.\n",
    "\n",
    "\n"
   ]
  },
  {
   "cell_type": "markdown",
   "id": "81793e38",
   "metadata": {},
   "source": [
    "# 1. Define a function named initialize_inventory that takes products as a parameter. Inside the function, implement the code for initializing the inventory dictionary using a loop and user input."
   ]
  },
  {
   "cell_type": "code",
   "execution_count": 23,
   "id": "66ebc7d1",
   "metadata": {},
   "outputs": [],
   "source": [
    "def initialize_inventory(products):\n",
    "    product = input(\"Enter product \")\n",
    "    quantity = int(input(f\"Enter quantity of {product}: \"))\n",
    "    inventory = {} \n",
    "    inventory.update({product:quantity})\n",
    "    print(inventory)\n",
    "    "
   ]
  },
  {
   "cell_type": "code",
   "execution_count": 24,
   "id": "f4c5e912",
   "metadata": {},
   "outputs": [
    {
     "name": "stdout",
     "output_type": "stream",
     "text": [
      "Enter product hat\n",
      "Enter quantity of hat: 10\n",
      "{'hat': 10}\n"
     ]
    }
   ],
   "source": [
    "initialize_inventory()"
   ]
  },
  {
   "cell_type": "code",
   "execution_count": 25,
   "id": "882b4d40",
   "metadata": {},
   "outputs": [
    {
     "name": "stdout",
     "output_type": "stream",
     "text": [
      "Enter quantity of t-shirt: 3\n",
      "{'t-shirt': 3}\n",
      "Enter quantity of mug: 4\n",
      "{'t-shirt': 3, 'mug': 4}\n",
      "Enter quantity of hat: 5\n",
      "{'t-shirt': 3, 'mug': 4, 'hat': 5}\n",
      "Enter quantity of book: 6\n",
      "{'t-shirt': 3, 'mug': 4, 'hat': 5, 'book': 6}\n",
      "Enter quantity of keychain: 7\n",
      "{'t-shirt': 3, 'mug': 4, 'hat': 5, 'book': 6, 'keychain': 7}\n"
     ]
    }
   ],
   "source": [
    "products= [\"t-shirt\", \"mug\", \"hat\", \"book\", \"keychain\"]\n",
    "inventory = {}\n",
    "for item in products:\n",
    "    quantity = int(input(f\"Enter quantity of {item}: \"))\n",
    "    inventory.update({item:quantity})\n",
    "    print(inventory)"
   ]
  },
  {
   "cell_type": "markdown",
   "id": "7b7ad3b6",
   "metadata": {},
   "source": [
    "# 2. Define a function named get_customer_orders that takes no parameters. Inside the function, implement the code for prompting the user to enter the product names using a loop. The function should return the customer_orders set."
   ]
  },
  {
   "cell_type": "code",
   "execution_count": null,
   "id": "70e8c4a6",
   "metadata": {},
   "outputs": [],
   "source": [
    "def get_customer_orders():\n",
    "    customer_orders_set = set()  \n",
    "    products = input(\"Please enter a product for order: \")\n",
    "    customer_orders_set.add(products)\n",
    "    print(\"Your orders: \", customer_orders_set)\n",
    "    another = input(\"Do you want another product? (Enter yes or no)\")\n",
    "    while another == \"yes\":\n",
    "        products = input(\"Please enter a product for order: \")\n",
    "        customer_orders_set.add(products)\n",
    "        print(\"Your orders: \", customer_orders_set)\n",
    "        next = input(\"Do you want another product? (Enter yes or no)\")\n",
    "        if next == \"yes\":\n",
    "            products = input(\"Please enter a product for order: \")\n",
    "            customer_orders_set.add(products)\n",
    "            print(\"Your orders: \", customer_orders_set)     \n",
    "        if next == \"no\":\n",
    "            print (\"Thank you for your order\")\n",
    "            print(\"Your orders: \", customer_orders_set)\n",
    "            return(customer_orders_set)\n"
   ]
  },
  {
   "cell_type": "code",
   "execution_count": null,
   "id": "ce2a0851",
   "metadata": {},
   "outputs": [
    {
     "name": "stdout",
     "output_type": "stream",
     "text": [
      "Please enter a product for order: hat\n",
      "Your orders:  {'hat'}\n",
      "Do you want another product? (Enter yes or no)yes\n",
      "Please enter a product for order: book\n",
      "Your orders:  {'book', 'hat'}\n",
      "Do you want another product? (Enter yes or no)yes\n",
      "Please enter a product for order: t-shirt\n",
      "Your orders:  {'book', 'hat'}\n",
      "Do you want another product? (Enter yes or no)no\n",
      "Thank you for your order\n"
     ]
    }
   ],
   "source": [
    "get_customer_orders()"
   ]
  },
  {
   "cell_type": "code",
   "execution_count": null,
   "id": "becf1709",
   "metadata": {},
   "outputs": [],
   "source": []
  }
 ],
 "metadata": {
  "kernelspec": {
   "display_name": "Python 3 (ipykernel)",
   "language": "python",
   "name": "python3"
  },
  "language_info": {
   "codemirror_mode": {
    "name": "ipython",
    "version": 3
   },
   "file_extension": ".py",
   "mimetype": "text/x-python",
   "name": "python",
   "nbconvert_exporter": "python",
   "pygments_lexer": "ipython3",
   "version": "3.11.4"
  }
 },
 "nbformat": 4,
 "nbformat_minor": 5
}
