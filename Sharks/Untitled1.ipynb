{
 "cells": [
  {
   "cell_type": "code",
   "execution_count": 1,
   "id": "eb786548",
   "metadata": {},
   "outputs": [],
   "source": [
    "import pandas as pd"
   ]
  },
  {
   "cell_type": "code",
   "execution_count": 2,
   "id": "d00625c9",
   "metadata": {
    "scrolled": true
   },
   "outputs": [
    {
     "name": "stdout",
     "output_type": "stream",
     "text": [
      "     Pos                     Name       Value\n",
      "0      1                    China  1367485388\n",
      "1      2                    India  1251695584\n",
      "2      3           European Union   513949445\n",
      "3      4            United States   321368864\n",
      "4      5                Indonesia   255993674\n",
      "..   ...                      ...         ...\n",
      "233  234                  Tokelau        1337\n",
      "234  235                     Niue        1190\n",
      "235  236  Holy See (Vatican City)         842\n",
      "236  237  Cocos (Keeling) Islands         596\n",
      "237  238         Pitcairn Islands          48\n",
      "\n",
      "[238 rows x 3 columns]\n"
     ]
    }
   ],
   "source": [
    "df1=pd.read_csv(r\"C:\\Users\\Juliane\\Documents\\GitHub\\labs_repo\\Sharks\\c2119.csv\")\n",
    "df2=pd.read_csv(r\"C:\\Users\\Juliane\\Documents\\GitHub\\labs_repo\\Sharks\\c2228.csv\")\n",
    "print (df1)"
   ]
  },
  {
   "cell_type": "code",
   "execution_count": 3,
   "id": "40d1059f",
   "metadata": {},
   "outputs": [
    {
     "data": {
      "text/html": [
       "<div>\n",
       "<style scoped>\n",
       "    .dataframe tbody tr th:only-of-type {\n",
       "        vertical-align: middle;\n",
       "    }\n",
       "\n",
       "    .dataframe tbody tr th {\n",
       "        vertical-align: top;\n",
       "    }\n",
       "\n",
       "    .dataframe thead th {\n",
       "        text-align: right;\n",
       "    }\n",
       "</style>\n",
       "<table border=\"1\" class=\"dataframe\">\n",
       "  <thead>\n",
       "    <tr style=\"text-align: right;\">\n",
       "      <th></th>\n",
       "      <th>Pos</th>\n",
       "      <th>Name</th>\n",
       "      <th>Value</th>\n",
       "    </tr>\n",
       "  </thead>\n",
       "  <tbody>\n",
       "    <tr>\n",
       "      <th>0</th>\n",
       "      <td>1</td>\n",
       "      <td>China</td>\n",
       "      <td>1367485388</td>\n",
       "    </tr>\n",
       "    <tr>\n",
       "      <th>1</th>\n",
       "      <td>2</td>\n",
       "      <td>India</td>\n",
       "      <td>1251695584</td>\n",
       "    </tr>\n",
       "    <tr>\n",
       "      <th>2</th>\n",
       "      <td>3</td>\n",
       "      <td>European Union</td>\n",
       "      <td>513949445</td>\n",
       "    </tr>\n",
       "  </tbody>\n",
       "</table>\n",
       "</div>"
      ],
      "text/plain": [
       "   Pos            Name       Value\n",
       "0    1           China  1367485388\n",
       "1    2           India  1251695584\n",
       "2    3  European Union   513949445"
      ]
     },
     "execution_count": 3,
     "metadata": {},
     "output_type": "execute_result"
    }
   ],
   "source": [
    "df1.head(3)"
   ]
  },
  {
   "cell_type": "code",
   "execution_count": 4,
   "id": "5f16b3ee",
   "metadata": {},
   "outputs": [
    {
     "data": {
      "text/html": [
       "<div>\n",
       "<style scoped>\n",
       "    .dataframe tbody tr th:only-of-type {\n",
       "        vertical-align: middle;\n",
       "    }\n",
       "\n",
       "    .dataframe tbody tr th {\n",
       "        vertical-align: top;\n",
       "    }\n",
       "\n",
       "    .dataframe thead th {\n",
       "        text-align: right;\n",
       "    }\n",
       "</style>\n",
       "<table border=\"1\" class=\"dataframe\">\n",
       "  <thead>\n",
       "    <tr style=\"text-align: right;\">\n",
       "      <th></th>\n",
       "      <th>Pos</th>\n",
       "      <th>Name</th>\n",
       "      <th>Value</th>\n",
       "    </tr>\n",
       "  </thead>\n",
       "  <tbody>\n",
       "    <tr>\n",
       "      <th>0</th>\n",
       "      <td>1</td>\n",
       "      <td>American Samoa</td>\n",
       "      <td>74.6</td>\n",
       "    </tr>\n",
       "    <tr>\n",
       "      <th>1</th>\n",
       "      <td>2</td>\n",
       "      <td>Nauru</td>\n",
       "      <td>71.1</td>\n",
       "    </tr>\n",
       "    <tr>\n",
       "      <th>2</th>\n",
       "      <td>3</td>\n",
       "      <td>Cook Islands</td>\n",
       "      <td>63.7</td>\n",
       "    </tr>\n",
       "  </tbody>\n",
       "</table>\n",
       "</div>"
      ],
      "text/plain": [
       "   Pos            Name  Value\n",
       "0    1  American Samoa   74.6\n",
       "1    2           Nauru   71.1\n",
       "2    3    Cook Islands   63.7"
      ]
     },
     "execution_count": 4,
     "metadata": {},
     "output_type": "execute_result"
    }
   ],
   "source": [
    "df2.head(3)"
   ]
  },
  {
   "cell_type": "code",
   "execution_count": 5,
   "id": "66653999",
   "metadata": {},
   "outputs": [
    {
     "data": {
      "text/plain": [
       "Index(['Pos', 'Name', 'Value'], dtype='object')"
      ]
     },
     "execution_count": 5,
     "metadata": {},
     "output_type": "execute_result"
    }
   ],
   "source": [
    "df1.columns"
   ]
  },
  {
   "cell_type": "code",
   "execution_count": 6,
   "id": "114edc4d",
   "metadata": {},
   "outputs": [],
   "source": [
    "comb_df = pd.concat([df1, df2], ignore_index=True)"
   ]
  },
  {
   "cell_type": "code",
   "execution_count": 7,
   "id": "4870cff7",
   "metadata": {},
   "outputs": [],
   "source": [
    "df1.rename(columns={\"Name\": \"Country\", \"Value\": \"Population\"}, inplace=True)\n",
    "df2.rename(columns={\"Name\": \"Country\", \"Value\": \"Obesity Rate\"}, inplace=True)"
   ]
  },
  {
   "cell_type": "code",
   "execution_count": 17,
   "id": "b78b73b4",
   "metadata": {},
   "outputs": [],
   "source": [
    "comb_df = pd.merge(df1, df2,on=\"Country\", how=\"inner\")\n"
   ]
  },
  {
   "cell_type": "code",
   "execution_count": 18,
   "id": "17980463",
   "metadata": {},
   "outputs": [
    {
     "data": {
      "text/html": [
       "<div>\n",
       "<style scoped>\n",
       "    .dataframe tbody tr th:only-of-type {\n",
       "        vertical-align: middle;\n",
       "    }\n",
       "\n",
       "    .dataframe tbody tr th {\n",
       "        vertical-align: top;\n",
       "    }\n",
       "\n",
       "    .dataframe thead th {\n",
       "        text-align: right;\n",
       "    }\n",
       "</style>\n",
       "<table border=\"1\" class=\"dataframe\">\n",
       "  <thead>\n",
       "    <tr style=\"text-align: right;\">\n",
       "      <th></th>\n",
       "      <th>Pos_x</th>\n",
       "      <th>Country</th>\n",
       "      <th>Population</th>\n",
       "      <th>Pos_y</th>\n",
       "      <th>Obesity Rate</th>\n",
       "    </tr>\n",
       "  </thead>\n",
       "  <tbody>\n",
       "    <tr>\n",
       "      <th>0</th>\n",
       "      <td>1</td>\n",
       "      <td>China</td>\n",
       "      <td>1367485388</td>\n",
       "      <td>152</td>\n",
       "      <td>5.7</td>\n",
       "    </tr>\n",
       "    <tr>\n",
       "      <th>1</th>\n",
       "      <td>2</td>\n",
       "      <td>India</td>\n",
       "      <td>1251695584</td>\n",
       "      <td>184</td>\n",
       "      <td>1.9</td>\n",
       "    </tr>\n",
       "    <tr>\n",
       "      <th>2</th>\n",
       "      <td>4</td>\n",
       "      <td>United States</td>\n",
       "      <td>321368864</td>\n",
       "      <td>18</td>\n",
       "      <td>33.0</td>\n",
       "    </tr>\n",
       "    <tr>\n",
       "      <th>3</th>\n",
       "      <td>5</td>\n",
       "      <td>Indonesia</td>\n",
       "      <td>255993674</td>\n",
       "      <td>160</td>\n",
       "      <td>4.8</td>\n",
       "    </tr>\n",
       "    <tr>\n",
       "      <th>4</th>\n",
       "      <td>6</td>\n",
       "      <td>Brazil</td>\n",
       "      <td>204259812</td>\n",
       "      <td>102</td>\n",
       "      <td>18.8</td>\n",
       "    </tr>\n",
       "    <tr>\n",
       "      <th>...</th>\n",
       "      <td>...</td>\n",
       "      <td>...</td>\n",
       "      <td>...</td>\n",
       "      <td>...</td>\n",
       "      <td>...</td>\n",
       "    </tr>\n",
       "    <tr>\n",
       "      <th>186</th>\n",
       "      <td>210</td>\n",
       "      <td>Saint Kitts and Nevis</td>\n",
       "      <td>51936</td>\n",
       "      <td>11</td>\n",
       "      <td>40.7</td>\n",
       "    </tr>\n",
       "    <tr>\n",
       "      <th>187</th>\n",
       "      <td>220</td>\n",
       "      <td>Palau</td>\n",
       "      <td>21265</td>\n",
       "      <td>7</td>\n",
       "      <td>48.9</td>\n",
       "    </tr>\n",
       "    <tr>\n",
       "      <th>188</th>\n",
       "      <td>224</td>\n",
       "      <td>Cook Islands</td>\n",
       "      <td>9838</td>\n",
       "      <td>3</td>\n",
       "      <td>63.7</td>\n",
       "    </tr>\n",
       "    <tr>\n",
       "      <th>189</th>\n",
       "      <td>225</td>\n",
       "      <td>Nauru</td>\n",
       "      <td>9540</td>\n",
       "      <td>2</td>\n",
       "      <td>71.1</td>\n",
       "    </tr>\n",
       "    <tr>\n",
       "      <th>190</th>\n",
       "      <td>234</td>\n",
       "      <td>Tokelau</td>\n",
       "      <td>1337</td>\n",
       "      <td>4</td>\n",
       "      <td>63.4</td>\n",
       "    </tr>\n",
       "  </tbody>\n",
       "</table>\n",
       "<p>191 rows × 5 columns</p>\n",
       "</div>"
      ],
      "text/plain": [
       "     Pos_x                Country  Population  Pos_y  Obesity Rate\n",
       "0        1                  China  1367485388    152           5.7\n",
       "1        2                  India  1251695584    184           1.9\n",
       "2        4          United States   321368864     18          33.0\n",
       "3        5              Indonesia   255993674    160           4.8\n",
       "4        6                 Brazil   204259812    102          18.8\n",
       "..     ...                    ...         ...    ...           ...\n",
       "186    210  Saint Kitts and Nevis       51936     11          40.7\n",
       "187    220                  Palau       21265      7          48.9\n",
       "188    224           Cook Islands        9838      3          63.7\n",
       "189    225                  Nauru        9540      2          71.1\n",
       "190    234                Tokelau        1337      4          63.4\n",
       "\n",
       "[191 rows x 5 columns]"
      ]
     },
     "execution_count": 18,
     "metadata": {},
     "output_type": "execute_result"
    }
   ],
   "source": [
    "comb_df"
   ]
  },
  {
   "cell_type": "code",
   "execution_count": 19,
   "id": "b34374c8",
   "metadata": {},
   "outputs": [],
   "source": [
    "# Select countries with obesity rates higher than 20 percent and populations larger than 10,000,000 (107)\n",
    "\n",
    "filt = comb_df[(comb_df[\"Obesity Rate\"]>1) & (comb_df[\"Population\"]> 10000000)]"
   ]
  },
  {
   "cell_type": "code",
   "execution_count": 20,
   "id": "06455cac",
   "metadata": {},
   "outputs": [
    {
     "data": {
      "text/html": [
       "<div>\n",
       "<style scoped>\n",
       "    .dataframe tbody tr th:only-of-type {\n",
       "        vertical-align: middle;\n",
       "    }\n",
       "\n",
       "    .dataframe tbody tr th {\n",
       "        vertical-align: top;\n",
       "    }\n",
       "\n",
       "    .dataframe thead th {\n",
       "        text-align: right;\n",
       "    }\n",
       "</style>\n",
       "<table border=\"1\" class=\"dataframe\">\n",
       "  <thead>\n",
       "    <tr style=\"text-align: right;\">\n",
       "      <th></th>\n",
       "      <th>Pos_x</th>\n",
       "      <th>Country</th>\n",
       "      <th>Population</th>\n",
       "      <th>Pos_y</th>\n",
       "      <th>Obesity Rate</th>\n",
       "    </tr>\n",
       "  </thead>\n",
       "  <tbody>\n",
       "    <tr>\n",
       "      <th>0</th>\n",
       "      <td>1</td>\n",
       "      <td>China</td>\n",
       "      <td>1367485388</td>\n",
       "      <td>152</td>\n",
       "      <td>5.7</td>\n",
       "    </tr>\n",
       "    <tr>\n",
       "      <th>1</th>\n",
       "      <td>2</td>\n",
       "      <td>India</td>\n",
       "      <td>1251695584</td>\n",
       "      <td>184</td>\n",
       "      <td>1.9</td>\n",
       "    </tr>\n",
       "    <tr>\n",
       "      <th>2</th>\n",
       "      <td>4</td>\n",
       "      <td>United States</td>\n",
       "      <td>321368864</td>\n",
       "      <td>18</td>\n",
       "      <td>33.0</td>\n",
       "    </tr>\n",
       "    <tr>\n",
       "      <th>3</th>\n",
       "      <td>5</td>\n",
       "      <td>Indonesia</td>\n",
       "      <td>255993674</td>\n",
       "      <td>160</td>\n",
       "      <td>4.8</td>\n",
       "    </tr>\n",
       "    <tr>\n",
       "      <th>4</th>\n",
       "      <td>6</td>\n",
       "      <td>Brazil</td>\n",
       "      <td>204259812</td>\n",
       "      <td>102</td>\n",
       "      <td>18.8</td>\n",
       "    </tr>\n",
       "    <tr>\n",
       "      <th>...</th>\n",
       "      <td>...</td>\n",
       "      <td>...</td>\n",
       "      <td>...</td>\n",
       "      <td>...</td>\n",
       "      <td>...</td>\n",
       "    </tr>\n",
       "    <tr>\n",
       "      <th>81</th>\n",
       "      <td>85</td>\n",
       "      <td>Czech Republic</td>\n",
       "      <td>10644842</td>\n",
       "      <td>21</td>\n",
       "      <td>32.7</td>\n",
       "    </tr>\n",
       "    <tr>\n",
       "      <th>82</th>\n",
       "      <td>86</td>\n",
       "      <td>Somalia</td>\n",
       "      <td>10616380</td>\n",
       "      <td>162</td>\n",
       "      <td>4.8</td>\n",
       "    </tr>\n",
       "    <tr>\n",
       "      <th>83</th>\n",
       "      <td>87</td>\n",
       "      <td>Dominican Republic</td>\n",
       "      <td>10478756</td>\n",
       "      <td>90</td>\n",
       "      <td>21.2</td>\n",
       "    </tr>\n",
       "    <tr>\n",
       "      <th>84</th>\n",
       "      <td>88</td>\n",
       "      <td>Benin</td>\n",
       "      <td>10448647</td>\n",
       "      <td>151</td>\n",
       "      <td>6.0</td>\n",
       "    </tr>\n",
       "    <tr>\n",
       "      <th>85</th>\n",
       "      <td>89</td>\n",
       "      <td>Haiti</td>\n",
       "      <td>10110019</td>\n",
       "      <td>137</td>\n",
       "      <td>7.9</td>\n",
       "    </tr>\n",
       "  </tbody>\n",
       "</table>\n",
       "<p>86 rows × 5 columns</p>\n",
       "</div>"
      ],
      "text/plain": [
       "    Pos_x             Country  Population  Pos_y  Obesity Rate\n",
       "0       1               China  1367485388    152           5.7\n",
       "1       2               India  1251695584    184           1.9\n",
       "2       4       United States   321368864     18          33.0\n",
       "3       5           Indonesia   255993674    160           4.8\n",
       "4       6              Brazil   204259812    102          18.8\n",
       "..    ...                 ...         ...    ...           ...\n",
       "81     85      Czech Republic    10644842     21          32.7\n",
       "82     86             Somalia    10616380    162           4.8\n",
       "83     87  Dominican Republic    10478756     90          21.2\n",
       "84     88               Benin    10448647    151           6.0\n",
       "85     89               Haiti    10110019    137           7.9\n",
       "\n",
       "[86 rows x 5 columns]"
      ]
     },
     "execution_count": 20,
     "metadata": {},
     "output_type": "execute_result"
    }
   ],
   "source": [
    "filt"
   ]
  },
  {
   "cell_type": "code",
   "execution_count": 21,
   "id": "1cf77fa5",
   "metadata": {},
   "outputs": [],
   "source": [
    "sort = filt.sort_values(by ='Obesity Rate', ascending=False)"
   ]
  },
  {
   "cell_type": "code",
   "execution_count": 23,
   "id": "df23b2d7",
   "metadata": {},
   "outputs": [
    {
     "data": {
      "text/html": [
       "<div>\n",
       "<style scoped>\n",
       "    .dataframe tbody tr th:only-of-type {\n",
       "        vertical-align: middle;\n",
       "    }\n",
       "\n",
       "    .dataframe tbody tr th {\n",
       "        vertical-align: top;\n",
       "    }\n",
       "\n",
       "    .dataframe thead th {\n",
       "        text-align: right;\n",
       "    }\n",
       "</style>\n",
       "<table border=\"1\" class=\"dataframe\">\n",
       "  <thead>\n",
       "    <tr style=\"text-align: right;\">\n",
       "      <th></th>\n",
       "      <th>Pos_x</th>\n",
       "      <th>Country</th>\n",
       "      <th>Population</th>\n",
       "      <th>Pos_y</th>\n",
       "      <th>Obesity Rate</th>\n",
       "    </tr>\n",
       "  </thead>\n",
       "  <tbody>\n",
       "    <tr>\n",
       "      <th>14</th>\n",
       "      <td>16</td>\n",
       "      <td>Egypt</td>\n",
       "      <td>88487396</td>\n",
       "      <td>17</td>\n",
       "      <td>33.1</td>\n",
       "    </tr>\n",
       "    <tr>\n",
       "      <th>2</th>\n",
       "      <td>4</td>\n",
       "      <td>United States</td>\n",
       "      <td>321368864</td>\n",
       "      <td>18</td>\n",
       "      <td>33.0</td>\n",
       "    </tr>\n",
       "    <tr>\n",
       "      <th>45</th>\n",
       "      <td>47</td>\n",
       "      <td>Saudi Arabia</td>\n",
       "      <td>27752316</td>\n",
       "      <td>19</td>\n",
       "      <td>33.0</td>\n",
       "    </tr>\n",
       "  </tbody>\n",
       "</table>\n",
       "</div>"
      ],
      "text/plain": [
       "    Pos_x        Country  Population  Pos_y  Obesity Rate\n",
       "14     16          Egypt    88487396     17          33.1\n",
       "2       4  United States   321368864     18          33.0\n",
       "45     47   Saudi Arabia    27752316     19          33.0"
      ]
     },
     "execution_count": 23,
     "metadata": {},
     "output_type": "execute_result"
    }
   ],
   "source": [
    "sort.head(3)"
   ]
  },
  {
   "cell_type": "code",
   "execution_count": 22,
   "id": "4cf4811b",
   "metadata": {},
   "outputs": [
    {
     "data": {
      "text/html": [
       "<div>\n",
       "<style scoped>\n",
       "    .dataframe tbody tr th:only-of-type {\n",
       "        vertical-align: middle;\n",
       "    }\n",
       "\n",
       "    .dataframe tbody tr th {\n",
       "        vertical-align: top;\n",
       "    }\n",
       "\n",
       "    .dataframe thead th {\n",
       "        text-align: right;\n",
       "    }\n",
       "</style>\n",
       "<table border=\"1\" class=\"dataframe\">\n",
       "  <thead>\n",
       "    <tr style=\"text-align: right;\">\n",
       "      <th></th>\n",
       "      <th>Pos_x</th>\n",
       "      <th>Country</th>\n",
       "      <th>Population</th>\n",
       "      <th>Pos_y</th>\n",
       "      <th>Obesity Rate</th>\n",
       "      <th>0</th>\n",
       "    </tr>\n",
       "  </thead>\n",
       "  <tbody>\n",
       "    <tr>\n",
       "      <th>0</th>\n",
       "      <td>1</td>\n",
       "      <td>China</td>\n",
       "      <td>1367485388</td>\n",
       "      <td>152</td>\n",
       "      <td>5.7</td>\n",
       "      <td>1</td>\n",
       "    </tr>\n",
       "    <tr>\n",
       "      <th>1</th>\n",
       "      <td>57</td>\n",
       "      <td>Sri Lanka</td>\n",
       "      <td>22053488</td>\n",
       "      <td>155</td>\n",
       "      <td>5.1</td>\n",
       "      <td>1</td>\n",
       "    </tr>\n",
       "    <tr>\n",
       "      <th>2</th>\n",
       "      <td>65</td>\n",
       "      <td>Syria</td>\n",
       "      <td>17064854</td>\n",
       "      <td>41</td>\n",
       "      <td>27.1</td>\n",
       "      <td>1</td>\n",
       "    </tr>\n",
       "  </tbody>\n",
       "</table>\n",
       "</div>"
      ],
      "text/plain": [
       "   Pos_x    Country  Population  Pos_y  Obesity Rate  0\n",
       "0      1      China  1367485388    152           5.7  1\n",
       "1     57  Sri Lanka    22053488    155           5.1  1\n",
       "2     65      Syria    17064854     41          27.1  1"
      ]
     },
     "execution_count": 22,
     "metadata": {},
     "output_type": "execute_result"
    }
   ],
   "source": [
    "top_10 = sort.value_counts().reset_index()\n",
    "top_10.head(3)"
   ]
  },
  {
   "cell_type": "code",
   "execution_count": null,
   "id": "1838ce50",
   "metadata": {},
   "outputs": [],
   "source": []
  },
  {
   "cell_type": "code",
   "execution_count": null,
   "id": "0055f4e1",
   "metadata": {},
   "outputs": [],
   "source": [
    "Index the result from 1-10\n",
    "Return the dataframe."
   ]
  },
  {
   "cell_type": "code",
   "execution_count": null,
   "id": "7d4f6984",
   "metadata": {},
   "outputs": [],
   "source": []
  },
  {
   "cell_type": "code",
   "execution_count": null,
   "id": "4464390e",
   "metadata": {},
   "outputs": [],
   "source": [
    "def analyze('df1', 'df2'):\n",
    "    pd.series\n",
    "    # Select only the \"Country\" and \"Population\" columns from the population dataframe\n",
    "    population_data = population_data[[\"Country\", \"Population\"]]\n",
    "\n",
    "    # Select only the \"Country\" and \"Obesity Rate\" columns from the obesity dataframe\n",
    "    obesity_data = obesity_data[[\"Country\", \"Obesity Rate\"]]\n",
    "\n",
    "    return population_data, obesity_data"
   ]
  },
  {
   "cell_type": "code",
   "execution_count": null,
   "id": "2a4d7568",
   "metadata": {},
   "outputs": [],
   "source": [
    "analyze()"
   ]
  },
  {
   "cell_type": "code",
   "execution_count": null,
   "id": "b6b95f3c",
   "metadata": {},
   "outputs": [],
   "source": [
    "# Rename columns in each DataFrame if needed\n",
    "df1.rename(columns={\"Name\": \"Country\", \"2021\": \"Population\", \"Obesity Rate\": \"Obesity Rate\"}, inplace=True)\n",
    "df2.rename(columns={\"Name\": \"Country\", \"2021\": \"Population\", \"Obesity Rate\": \"Obesity Rate\"}, inplace=True)\n",
    "\n",
    "# Concatenate the two DataFrames to combine them\n",
    "combined_df = pd.concat([df1, df2], ignore_index=True)\n",
    "\n",
    "# Display the resulting DataFrame\n",
    "print(combined_df)"
   ]
  },
  {
   "cell_type": "code",
   "execution_count": null,
   "id": "c9bb20fd",
   "metadata": {},
   "outputs": [],
   "source": [
    "df.index = "
   ]
  }
 ],
 "metadata": {
  "kernelspec": {
   "display_name": "Python 3 (ipykernel)",
   "language": "python",
   "name": "python3"
  },
  "language_info": {
   "codemirror_mode": {
    "name": "ipython",
    "version": 3
   },
   "file_extension": ".py",
   "mimetype": "text/x-python",
   "name": "python",
   "nbconvert_exporter": "python",
   "pygments_lexer": "ipython3",
   "version": "3.11.4"
  }
 },
 "nbformat": 4,
 "nbformat_minor": 5
}
