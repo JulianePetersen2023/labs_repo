{
 "cells": [
  {
   "cell_type": "markdown",
   "id": "25d7736c-ba17-4aff-b6bb-66eba20fbf4e",
   "metadata": {},
   "source": [
    "# Lab | Functions"
   ]
  },
  {
   "cell_type": "markdown",
   "id": "0c581062-8967-4d93-b06e-62833222f930",
   "metadata": {
    "tags": []
   },
   "source": [
    "## Exercise: Managing Customer Orders with Functions\n",
    "\n",
    "In the previous exercise, you improved the code for managing customer orders by using loops and flow control. Now, let's take it a step further and refactor the code by introducing functions.\n",
    "\n",
    "Follow the steps below to complete the exercise:\n",
    "\n",
    "1. Define a function named `initialize_inventory` that takes `products` as a parameter. Inside the function, implement the code for initializing the inventory dictionary using a loop and user input.\n",
    "\n",
    "2. Define a function named `get_customer_orders` that takes no parameters. Inside the function, implement the code for prompting the user to enter the product names using a loop. The function should return the `customer_orders` set.\n",
    "\n",
    "3. Define a function named `update_inventory` that takes `customer_orders` and `inventory` as parameters. Inside the function, implement the code for updating the inventory dictionary based on the customer orders.\n",
    "\n",
    "4. Define a function named `calculate_order_statistics` that takes `customer_orders` and `products` as parameters. Inside the function, implement the code for calculating the order statistics (total products ordered, and percentage of unique products ordered). The function should return these values.\n",
    "\n",
    "5. Define a function named `print_order_statistics` that takes `order_statistics` as a parameter. Inside the function, implement the code for printing the order statistics.\n",
    "\n",
    "6. Define a function named `print_updated_inventory` that takes `inventory` as a parameter. Inside the function, implement the code for printing the updated inventory.\n",
    "\n",
    "7. Call the functions in the appropriate sequence to execute the program and manage customer orders.\n",
    "\n",
    "Hints for functions:\n",
    "\n",
    "- Consider the input parameters required for each function and their return values.\n",
    "- Utilize function parameters and return values to transfer data between functions.\n",
    "- Test your functions individually to ensure they work correctly.\n",
    "\n",
    "\n"
   ]
  },
  {
   "cell_type": "markdown",
   "id": "81793e38",
   "metadata": {},
   "source": [
    "# 1. Define a function named initialize_inventory that takes products as a parameter. Inside the function, implement the code for initializing the inventory dictionary using a loop and user input."
   ]
  },
  {
   "cell_type": "code",
   "execution_count": 25,
   "id": "66ebc7d1",
   "metadata": {},
   "outputs": [],
   "source": [
    "def initialize_inventory(products):\n",
    "    products= [\"t-shirt\", \"mug\", \"hat\", \"book\", \"keychain\"]\n",
    "    inventory = {} \n",
    "    for item in products:\n",
    "        quantity = int(input(f\"Enter quantity of {item}: \"))\n",
    "        inventory.update({item:quantity})\n",
    "        print(inventory)"
   ]
  },
  {
   "cell_type": "code",
   "execution_count": 39,
   "id": "b4eb7b38",
   "metadata": {},
   "outputs": [],
   "source": [
    "products= [\"t-shirt\", \"mug\", \"hat\", \"book\", \"keychain\"]\n",
    "\n",
    "def initialize_inventory(products):\n",
    "    inventory = {product: int(input(f\"Enter quantity of {product}s available: \")) for product in products}\n",
    "    return inventory"
   ]
  },
  {
   "cell_type": "raw",
   "id": "64d6548d",
   "metadata": {},
   "source": [
    "initialize_inventory(products)"
   ]
  },
  {
   "cell_type": "code",
   "execution_count": 26,
   "id": "f4c5e912",
   "metadata": {},
   "outputs": [
    {
     "name": "stdout",
     "output_type": "stream",
     "text": [
      "Enter quantity of t-shirt: 4\n",
      "{'t-shirt': 4}\n",
      "Enter quantity of mug: 5\n",
      "{'t-shirt': 4, 'mug': 5}\n",
      "Enter quantity of hat: 6\n",
      "{'t-shirt': 4, 'mug': 5, 'hat': 6}\n",
      "Enter quantity of book: 7\n",
      "{'t-shirt': 4, 'mug': 5, 'hat': 6, 'book': 7}\n",
      "Enter quantity of keychain: 8\n",
      "{'t-shirt': 4, 'mug': 5, 'hat': 6, 'book': 7, 'keychain': 8}\n"
     ]
    },
    {
     "ename": "KeyboardInterrupt",
     "evalue": "Interrupted by user",
     "output_type": "error",
     "traceback": [
      "\u001b[1;31m---------------------------------------------------------------------------\u001b[0m",
      "\u001b[1;31mKeyboardInterrupt\u001b[0m                         Traceback (most recent call last)",
      "Cell \u001b[1;32mIn[26], line 2\u001b[0m\n\u001b[0;32m      1\u001b[0m initialize_inventory(\u001b[38;5;124m\"\u001b[39m\u001b[38;5;124mt-shirt\u001b[39m\u001b[38;5;124m\"\u001b[39m)\n\u001b[1;32m----> 2\u001b[0m initialize_inventory(\u001b[38;5;124m\"\u001b[39m\u001b[38;5;124mmug\u001b[39m\u001b[38;5;124m\"\u001b[39m)\n\u001b[0;32m      3\u001b[0m initialize_inventory(\u001b[38;5;124m\"\u001b[39m\u001b[38;5;124mhat\u001b[39m\u001b[38;5;124m\"\u001b[39m)\n\u001b[0;32m      4\u001b[0m initialize_inventory(\u001b[38;5;124m\"\u001b[39m\u001b[38;5;124mbook\u001b[39m\u001b[38;5;124m\"\u001b[39m)\n",
      "Cell \u001b[1;32mIn[25], line 5\u001b[0m, in \u001b[0;36minitialize_inventory\u001b[1;34m(products)\u001b[0m\n\u001b[0;32m      3\u001b[0m inventory \u001b[38;5;241m=\u001b[39m {} \n\u001b[0;32m      4\u001b[0m \u001b[38;5;28;01mfor\u001b[39;00m item \u001b[38;5;129;01min\u001b[39;00m products:\n\u001b[1;32m----> 5\u001b[0m     quantity \u001b[38;5;241m=\u001b[39m \u001b[38;5;28mint\u001b[39m(\u001b[38;5;28minput\u001b[39m(\u001b[38;5;124mf\u001b[39m\u001b[38;5;124m\"\u001b[39m\u001b[38;5;124mEnter quantity of \u001b[39m\u001b[38;5;132;01m{\u001b[39;00mitem\u001b[38;5;132;01m}\u001b[39;00m\u001b[38;5;124m: \u001b[39m\u001b[38;5;124m\"\u001b[39m))\n\u001b[0;32m      6\u001b[0m     inventory\u001b[38;5;241m.\u001b[39mupdate({item:quantity})\n\u001b[0;32m      7\u001b[0m     \u001b[38;5;28mprint\u001b[39m(inventory)\n",
      "File \u001b[1;32m~\\anaconda3\\Lib\\site-packages\\ipykernel\\kernelbase.py:1175\u001b[0m, in \u001b[0;36mKernel.raw_input\u001b[1;34m(self, prompt)\u001b[0m\n\u001b[0;32m   1171\u001b[0m \u001b[38;5;28;01mif\u001b[39;00m \u001b[38;5;129;01mnot\u001b[39;00m \u001b[38;5;28mself\u001b[39m\u001b[38;5;241m.\u001b[39m_allow_stdin:\n\u001b[0;32m   1172\u001b[0m     \u001b[38;5;28;01mraise\u001b[39;00m StdinNotImplementedError(\n\u001b[0;32m   1173\u001b[0m         \u001b[38;5;124m\"\u001b[39m\u001b[38;5;124mraw_input was called, but this frontend does not support input requests.\u001b[39m\u001b[38;5;124m\"\u001b[39m\n\u001b[0;32m   1174\u001b[0m     )\n\u001b[1;32m-> 1175\u001b[0m \u001b[38;5;28;01mreturn\u001b[39;00m \u001b[38;5;28mself\u001b[39m\u001b[38;5;241m.\u001b[39m_input_request(\n\u001b[0;32m   1176\u001b[0m     \u001b[38;5;28mstr\u001b[39m(prompt),\n\u001b[0;32m   1177\u001b[0m     \u001b[38;5;28mself\u001b[39m\u001b[38;5;241m.\u001b[39m_parent_ident[\u001b[38;5;124m\"\u001b[39m\u001b[38;5;124mshell\u001b[39m\u001b[38;5;124m\"\u001b[39m],\n\u001b[0;32m   1178\u001b[0m     \u001b[38;5;28mself\u001b[39m\u001b[38;5;241m.\u001b[39mget_parent(\u001b[38;5;124m\"\u001b[39m\u001b[38;5;124mshell\u001b[39m\u001b[38;5;124m\"\u001b[39m),\n\u001b[0;32m   1179\u001b[0m     password\u001b[38;5;241m=\u001b[39m\u001b[38;5;28;01mFalse\u001b[39;00m,\n\u001b[0;32m   1180\u001b[0m )\n",
      "File \u001b[1;32m~\\anaconda3\\Lib\\site-packages\\ipykernel\\kernelbase.py:1217\u001b[0m, in \u001b[0;36mKernel._input_request\u001b[1;34m(self, prompt, ident, parent, password)\u001b[0m\n\u001b[0;32m   1214\u001b[0m             \u001b[38;5;28;01mbreak\u001b[39;00m\n\u001b[0;32m   1215\u001b[0m \u001b[38;5;28;01mexcept\u001b[39;00m \u001b[38;5;167;01mKeyboardInterrupt\u001b[39;00m:\n\u001b[0;32m   1216\u001b[0m     \u001b[38;5;66;03m# re-raise KeyboardInterrupt, to truncate traceback\u001b[39;00m\n\u001b[1;32m-> 1217\u001b[0m     \u001b[38;5;28;01mraise\u001b[39;00m \u001b[38;5;167;01mKeyboardInterrupt\u001b[39;00m(\u001b[38;5;124m\"\u001b[39m\u001b[38;5;124mInterrupted by user\u001b[39m\u001b[38;5;124m\"\u001b[39m) \u001b[38;5;28;01mfrom\u001b[39;00m \u001b[38;5;28;01mNone\u001b[39;00m\n\u001b[0;32m   1218\u001b[0m \u001b[38;5;28;01mexcept\u001b[39;00m \u001b[38;5;167;01mException\u001b[39;00m:\n\u001b[0;32m   1219\u001b[0m     \u001b[38;5;28mself\u001b[39m\u001b[38;5;241m.\u001b[39mlog\u001b[38;5;241m.\u001b[39mwarning(\u001b[38;5;124m\"\u001b[39m\u001b[38;5;124mInvalid Message:\u001b[39m\u001b[38;5;124m\"\u001b[39m, exc_info\u001b[38;5;241m=\u001b[39m\u001b[38;5;28;01mTrue\u001b[39;00m)\n",
      "\u001b[1;31mKeyboardInterrupt\u001b[0m: Interrupted by user"
     ]
    }
   ],
   "source": [
    "initialize_inventory(\"t-shirt\")\n",
    "initialize_inventory(\"mug\")\n",
    "initialize_inventory(\"hat\")\n",
    "initialize_inventory(\"book\")\n",
    "initialize_inventory(\"keychain\")"
   ]
  },
  {
   "cell_type": "code",
   "execution_count": null,
   "id": "280d92ba",
   "metadata": {},
   "outputs": [],
   "source": []
  },
  {
   "cell_type": "markdown",
   "id": "7b7ad3b6",
   "metadata": {},
   "source": [
    "# 2. Define a function named get_customer_orders that takes no parameters. Inside the function, implement the code for prompting the user to enter the product names using a loop. The function should return the customer_orders set."
   ]
  },
  {
   "cell_type": "code",
   "execution_count": 27,
   "id": "1e5e0812",
   "metadata": {},
   "outputs": [],
   "source": [
    "def get_customer_orders():\n",
    "    customer_orders_set = set()\n",
    "    products= [\"t-shirt\", \"mug\", \"hat\", \"book\", \"keychain\"]\n",
    "    while input(\"Do you want another product? (Enter yes or no): \") == \"yes\":\n",
    "        product = input(\"Please enter a product for order: \")\n",
    "        customer_orders_set.add(product)\n",
    "    else:\n",
    "        print(\"Thank you for your order\")\n",
    "    return (customer_orders_set)            "
   ]
  },
  {
   "cell_type": "code",
   "execution_count": 28,
   "id": "d2e60846",
   "metadata": {},
   "outputs": [
    {
     "name": "stdout",
     "output_type": "stream",
     "text": [
      "Do you want another product? (Enter yes or no): yes\n",
      "Please enter a product for order: book\n",
      "Do you want another product? (Enter yes or no): yes\n",
      "Please enter a product for order: hat\n",
      "Do you want another product? (Enter yes or no): no\n",
      "Thank you for your order\n"
     ]
    },
    {
     "data": {
      "text/plain": [
       "{'book', 'hat'}"
      ]
     },
     "execution_count": 28,
     "metadata": {},
     "output_type": "execute_result"
    }
   ],
   "source": [
    "get_customer_orders()"
   ]
  },
  {
   "cell_type": "code",
   "execution_count": null,
   "id": "cab9aa6e",
   "metadata": {},
   "outputs": [],
   "source": []
  },
  {
   "cell_type": "markdown",
   "id": "63c934c1",
   "metadata": {},
   "source": [
    "# 3. Define a function named update_inventory that takes customer_orders and inventory as parameters. Inside the function, implement the code for updating the inventory dictionary based on the customer orders."
   ]
  },
  {
   "cell_type": "code",
   "execution_count": 82,
   "id": "edfa80f2",
   "metadata": {},
   "outputs": [],
   "source": [
    "def update_inventory(customer_orders, inventory):\n",
    "    inventory = {'t-shirt': 2, 'mug': 3, 'hat': 4, 'book': 5, 'keychain': 6}\n",
    "    for prod, quant in inventory.items():\n",
    "        if prod == customer_orders:\n",
    "            inventory.update({prod:(quant-1)})\n",
    "    return(inventory)"
   ]
  },
  {
   "cell_type": "code",
   "execution_count": 87,
   "id": "c1099d36",
   "metadata": {},
   "outputs": [],
   "source": [
    "#new:\n",
    "inventory = {'t-shirt': 3, 'mug': 4, 'hat': 5, 'book': 6, 'keychain': 7}\n",
    "customer_orders = {'book', 'hat'}\n",
    "\n",
    "def update_i(customer_orders):\n",
    "    update_inv = {prod:(quant-1) for prod, quant in inventory.items() if prod == customer_orders}\n",
    "    return update_inv"
   ]
  },
  {
   "cell_type": "code",
   "execution_count": 89,
   "id": "dffe9f4e",
   "metadata": {},
   "outputs": [
    {
     "data": {
      "text/plain": [
       "{}"
      ]
     },
     "execution_count": 89,
     "metadata": {},
     "output_type": "execute_result"
    }
   ],
   "source": [
    "update_i(customer_orders)"
   ]
  },
  {
   "cell_type": "markdown",
   "id": "62fe0122",
   "metadata": {},
   "source": [
    "# 4. Define a function named calculate_order_statistics that takes customer_orders and products as parameters. Inside the function, implement the code for calculating the order statistics (total products ordered, and percentage of unique products ordered). The function should return these values."
   ]
  },
  {
   "cell_type": "code",
   "execution_count": 60,
   "id": "9c91e992",
   "metadata": {},
   "outputs": [],
   "source": [
    "customer_orders_set = {'book', 'hat'}\n",
    "inventory = {'t-shirt': 4, 'mug': 5, 'hat': 6, 'book': 7, 'keychain': 8}\n",
    "products = [\"t-shirt\", \"mug\", \"hat\", \"book\", \"keychain\"]\n",
    "\n",
    "def calculate_order_statistics(customer_orders, products):\n",
    "    total_products_ordered = len(customer_orders_set)\n",
    "    percentage_of_unique_products_ordered = (len(customer_orders_set)/len(products))*100  \n",
    "    return total_products_ordered, percentage_of_unique_products_ordered"
   ]
  },
  {
   "cell_type": "code",
   "execution_count": 41,
   "id": "6415ac4b",
   "metadata": {},
   "outputs": [
    {
     "data": {
      "text/plain": [
       "2"
      ]
     },
     "execution_count": 41,
     "metadata": {},
     "output_type": "execute_result"
    }
   ],
   "source": [
    "len(customer_orders_set)"
   ]
  },
  {
   "cell_type": "code",
   "execution_count": 44,
   "id": "f2dca44c",
   "metadata": {},
   "outputs": [
    {
     "data": {
      "text/plain": [
       "40.0"
      ]
     },
     "execution_count": 44,
     "metadata": {},
     "output_type": "execute_result"
    }
   ],
   "source": [
    "(len(customer_orders_set)/len(products))*100"
   ]
  },
  {
   "cell_type": "code",
   "execution_count": 52,
   "id": "96e2ba60",
   "metadata": {},
   "outputs": [
    {
     "data": {
      "text/plain": [
       "(2, 40.0)"
      ]
     },
     "execution_count": 52,
     "metadata": {},
     "output_type": "execute_result"
    }
   ],
   "source": [
    "calculate_order_statistics(customer_orders_set, products)"
   ]
  },
  {
   "cell_type": "markdown",
   "id": "fb9d748e",
   "metadata": {},
   "source": [
    "# 5. Define a function named print_order_statistics that takes order_statistics as a parameter. Inside the function, implement the code for printing the order statistics."
   ]
  },
  {
   "cell_type": "code",
   "execution_count": 64,
   "id": "c49056de",
   "metadata": {},
   "outputs": [],
   "source": [
    "def print_order_statistics (total_products_ordered, percentage_of_unique_products_ordered):\n",
    "    print (\"Order Statistics: Total Products Ordered: \", total_products_ordered, \"and Percentage of Unique Products Ordered: \", percentage_of_unique_products_ordered)\n",
    "    "
   ]
  },
  {
   "cell_type": "code",
   "execution_count": 65,
   "id": "b3565191",
   "metadata": {},
   "outputs": [
    {
     "name": "stdout",
     "output_type": "stream",
     "text": [
      "Order Statistics: Total Products Ordered:  2 and Percentage of Unique Products Ordered:  40.0\n"
     ]
    }
   ],
   "source": [
    "print_order_statistics (2, 40.0)"
   ]
  },
  {
   "cell_type": "markdown",
   "id": "9f7f96dc",
   "metadata": {},
   "source": [
    "# 6. Define a function named print_updated_inventory that takes inventory as a parameter. Inside the function, implement the code for printing the updated inventory."
   ]
  },
  {
   "cell_type": "code",
   "execution_count": 76,
   "id": "d3aef149",
   "metadata": {},
   "outputs": [],
   "source": [
    "inventory = {'t-shirt': 4, 'mug': 5, 'hat': 6, 'book': 7, 'keychain': 8}\n",
    "\n",
    "def print_updated_inventory(inventory):\n",
    "    for prod, quant in inventory.items():\n",
    "        print (prod, \":\", quant)\n"
   ]
  },
  {
   "cell_type": "code",
   "execution_count": 77,
   "id": "05856aa6",
   "metadata": {},
   "outputs": [
    {
     "name": "stdout",
     "output_type": "stream",
     "text": [
      "t-shirt : 4\n",
      "mug : 5\n",
      "hat : 6\n",
      "book : 7\n",
      "keychain : 8\n"
     ]
    }
   ],
   "source": [
    "print_updated_inventory(inventory)"
   ]
  },
  {
   "cell_type": "markdown",
   "id": "a190c0ae",
   "metadata": {},
   "source": [
    "# 7. Call the functions in the appropriate sequence to execute the program and manage customer orders."
   ]
  },
  {
   "cell_type": "code",
   "execution_count": 78,
   "id": "bf9a8d7b",
   "metadata": {},
   "outputs": [
    {
     "name": "stdout",
     "output_type": "stream",
     "text": [
      "Enter quantity of t-shirts available: 2\n",
      "Enter quantity of mugs available: 3\n",
      "Enter quantity of hats available: 4\n",
      "Enter quantity of books available: 5\n",
      "Enter quantity of keychains available: 6\n"
     ]
    },
    {
     "data": {
      "text/plain": [
       "{'t-shirt': 2, 'mug': 3, 'hat': 4, 'book': 5, 'keychain': 6}"
      ]
     },
     "execution_count": 78,
     "metadata": {},
     "output_type": "execute_result"
    }
   ],
   "source": [
    "initialize_inventory(products)"
   ]
  },
  {
   "cell_type": "code",
   "execution_count": 79,
   "id": "25b3fa0c",
   "metadata": {},
   "outputs": [
    {
     "name": "stdout",
     "output_type": "stream",
     "text": [
      "Do you want another product? (Enter yes or no): yes\n",
      "Please enter a product for order: hat\n",
      "Do you want another product? (Enter yes or no): yes\n",
      "Please enter a product for order: book\n",
      "Do you want another product? (Enter yes or no): no\n",
      "Thank you for your order\n"
     ]
    },
    {
     "data": {
      "text/plain": [
       "{'book', 'hat'}"
      ]
     },
     "execution_count": 79,
     "metadata": {},
     "output_type": "execute_result"
    }
   ],
   "source": [
    "get_customer_orders()"
   ]
  },
  {
   "cell_type": "code",
   "execution_count": 83,
   "id": "e79ba94b",
   "metadata": {},
   "outputs": [
    {
     "data": {
      "text/plain": [
       "{'t-shirt': 2, 'mug': 3, 'hat': 4, 'book': 4, 'keychain': 6}"
      ]
     },
     "execution_count": 83,
     "metadata": {},
     "output_type": "execute_result"
    }
   ],
   "source": [
    "update_inventory()     # this is not working, I will come back to it"
   ]
  },
  {
   "cell_type": "code",
   "execution_count": 90,
   "id": "55706259",
   "metadata": {},
   "outputs": [
    {
     "data": {
      "text/plain": [
       "(2, 40.0)"
      ]
     },
     "execution_count": 90,
     "metadata": {},
     "output_type": "execute_result"
    }
   ],
   "source": [
    "calculate_order_statistics(customer_orders_set, products)"
   ]
  },
  {
   "cell_type": "code",
   "execution_count": 91,
   "id": "74412f4d",
   "metadata": {},
   "outputs": [
    {
     "name": "stdout",
     "output_type": "stream",
     "text": [
      "Order Statistics: Total Products Ordered:  2 and Percentage of Unique Products Ordered:  40.0\n"
     ]
    }
   ],
   "source": [
    "print_order_statistics (2, 40.0)"
   ]
  },
  {
   "cell_type": "code",
   "execution_count": 92,
   "id": "aff8e74c",
   "metadata": {},
   "outputs": [
    {
     "name": "stdout",
     "output_type": "stream",
     "text": [
      "t-shirt : 3\n",
      "mug : 4\n",
      "hat : 5\n",
      "book : 6\n",
      "keychain : 7\n"
     ]
    }
   ],
   "source": [
    "print_updated_inventory(inventory)"
   ]
  },
  {
   "cell_type": "code",
   "execution_count": null,
   "id": "3f140e24",
   "metadata": {},
   "outputs": [],
   "source": []
  },
  {
   "cell_type": "code",
   "execution_count": null,
   "id": "3c94c24f",
   "metadata": {},
   "outputs": [],
   "source": []
  },
  {
   "cell_type": "code",
   "execution_count": null,
   "id": "f8fe9ccf",
   "metadata": {},
   "outputs": [],
   "source": [
    "# CODE FOR NEXT LAB PUT TOGETHER\n",
    "\n",
    "products= [\"t-shirt\", \"mug\", \"hat\", \"book\", \"keychain\"]\n",
    "\n",
    "def initialize_inventory(products):\n",
    "    inventory = {product: int(input(f\"Enter quantity of {product}s available: \")) for product in products}\n",
    "\n",
    "def get_customer_orders_2():\n",
    "    customer_orders_no = int(input(f\"Enter number of customer orders: \"))\n",
    "    customer_orders = [(input(f\"Enter the name of a product that a customer wants to order: \")) for product in range(customer_orders_no)]"
   ]
  }
 ],
 "metadata": {
  "kernelspec": {
   "display_name": "Python 3 (ipykernel)",
   "language": "python",
   "name": "python3"
  },
  "language_info": {
   "codemirror_mode": {
    "name": "ipython",
    "version": 3
   },
   "file_extension": ".py",
   "mimetype": "text/x-python",
   "name": "python",
   "nbconvert_exporter": "python",
   "pygments_lexer": "ipython3",
   "version": "3.11.4"
  }
 },
 "nbformat": 4,
 "nbformat_minor": 5
}
