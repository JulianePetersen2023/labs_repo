{
 "cells": [
  {
   "cell_type": "code",
   "execution_count": 12,
   "id": "f23f7e75",
   "metadata": {},
   "outputs": [],
   "source": [
    "from typing import List\n",
    "integers = [30, 20, 40, 10]\n",
    "\n",
    "def sum_two_smallest_numbers(integers: List[int]) -> int:\n",
    "    sorted_list = sorted(integers)\n",
    "    sum_smallest = integers[0] + integers[1]\n",
    "    print (sorted_list)\n",
    "    return sum_smallest"
   ]
  },
  {
   "cell_type": "code",
   "execution_count": 13,
   "id": "9a511c3e",
   "metadata": {},
   "outputs": [
    {
     "name": "stdout",
     "output_type": "stream",
     "text": [
      "[10, 20, 30, 40]\n"
     ]
    }
   ],
   "source": [
    "print(integers)"
   ]
  },
  {
   "cell_type": "code",
   "execution_count": 14,
   "id": "48ec2654",
   "metadata": {},
   "outputs": [
    {
     "ename": "NameError",
     "evalue": "name 'sorted_list' is not defined",
     "output_type": "error",
     "traceback": [
      "\u001b[1;31m---------------------------------------------------------------------------\u001b[0m",
      "\u001b[1;31mNameError\u001b[0m                                 Traceback (most recent call last)",
      "Cell \u001b[1;32mIn[14], line 1\u001b[0m\n\u001b[1;32m----> 1\u001b[0m \u001b[38;5;28mprint\u001b[39m(sorted_list)\n",
      "\u001b[1;31mNameError\u001b[0m: name 'sorted_list' is not defined"
     ]
    }
   ],
   "source": [
    "print(sorted_list)"
   ]
  },
  {
   "cell_type": "code",
   "execution_count": 15,
   "id": "e8584ae9",
   "metadata": {},
   "outputs": [
    {
     "name": "stdout",
     "output_type": "stream",
     "text": [
      "[10, 20, 30, 40]\n"
     ]
    },
    {
     "data": {
      "text/plain": [
       "30"
      ]
     },
     "execution_count": 15,
     "metadata": {},
     "output_type": "execute_result"
    }
   ],
   "source": [
    "sum_two_smallest_numbers(integers)"
   ]
  },
  {
   "cell_type": "code",
   "execution_count": 1,
   "id": "28eb45ac",
   "metadata": {},
   "outputs": [],
   "source": [
    "list = [2,4,0,4,11,2602,36]\n",
    "\n",
    "def find_outlier(integers):\n",
    "    for i in list:\n",
    "        if i %2 ==0 and i+1 %2 ==0:\n",
    "            for en in list:\n",
    "                if en %2!=0:\n",
    "                    outlier = en\n",
    "    for i in list:\n",
    "        if i %2 !=0 and i+1 %2 ==0:\n",
    "            for en2 in i:\n",
    "                if en2 %2==0:\n",
    "                    outlier = en2\n",
    "                    "
   ]
  },
  {
   "cell_type": "code",
   "execution_count": 2,
   "id": "a27b266c",
   "metadata": {},
   "outputs": [],
   "source": [
    "find_outlier(list)"
   ]
  },
  {
   "cell_type": "code",
   "execution_count": 3,
   "id": "8ed4f637",
   "metadata": {},
   "outputs": [],
   "source": [
    "x = \"1 2 3 4 5\""
   ]
  },
  {
   "cell_type": "code",
   "execution_count": 4,
   "id": "883dd2b9",
   "metadata": {},
   "outputs": [
    {
     "ename": "NameError",
     "evalue": "name 'split' is not defined",
     "output_type": "error",
     "traceback": [
      "\u001b[1;31m---------------------------------------------------------------------------\u001b[0m",
      "\u001b[1;31mNameError\u001b[0m                                 Traceback (most recent call last)",
      "Cell \u001b[1;32mIn[4], line 1\u001b[0m\n\u001b[1;32m----> 1\u001b[0m split(x)\n",
      "\u001b[1;31mNameError\u001b[0m: name 'split' is not defined"
     ]
    }
   ],
   "source": [
    "split(x)"
   ]
  },
  {
   "cell_type": "code",
   "execution_count": 5,
   "id": "ddb0f63d",
   "metadata": {},
   "outputs": [
    {
     "ename": "NameError",
     "evalue": "name 'split' is not defined",
     "output_type": "error",
     "traceback": [
      "\u001b[1;31m---------------------------------------------------------------------------\u001b[0m",
      "\u001b[1;31mNameError\u001b[0m                                 Traceback (most recent call last)",
      "Cell \u001b[1;32mIn[5], line 1\u001b[0m\n\u001b[1;32m----> 1\u001b[0m split\u001b[38;5;241m.\u001b[39mx\n",
      "\u001b[1;31mNameError\u001b[0m: name 'split' is not defined"
     ]
    }
   ],
   "source": [
    "split.x"
   ]
  },
  {
   "cell_type": "code",
   "execution_count": 6,
   "id": "ac131902",
   "metadata": {},
   "outputs": [
    {
     "data": {
      "text/plain": [
       "<function str.split(sep=None, maxsplit=-1)>"
      ]
     },
     "execution_count": 6,
     "metadata": {},
     "output_type": "execute_result"
    }
   ],
   "source": [
    "x.split"
   ]
  },
  {
   "cell_type": "code",
   "execution_count": 7,
   "id": "e50456cb",
   "metadata": {},
   "outputs": [
    {
     "ename": "SyntaxError",
     "evalue": "invalid syntax (351200397.py, line 1)",
     "output_type": "error",
     "traceback": [
      "\u001b[1;36m  Cell \u001b[1;32mIn[7], line 1\u001b[1;36m\u001b[0m\n\u001b[1;33m    help split\u001b[0m\n\u001b[1;37m         ^\u001b[0m\n\u001b[1;31mSyntaxError\u001b[0m\u001b[1;31m:\u001b[0m invalid syntax\n"
     ]
    }
   ],
   "source": [
    "help split"
   ]
  },
  {
   "cell_type": "code",
   "execution_count": 8,
   "id": "41b0650a",
   "metadata": {},
   "outputs": [],
   "source": [
    "def high_and_low(numbers: str) -> str:\n",
    "  split_= numbers.split()\n",
    "  for i in split_:\n",
    "        int(i)\n",
    "        return min(split), max(split)"
   ]
  },
  {
   "cell_type": "code",
   "execution_count": 15,
   "id": "7adc20ad",
   "metadata": {},
   "outputs": [
    {
     "name": "stdout",
     "output_type": "stream",
     "text": [
      "1 4\n",
      "1 4\n",
      "1 4\n",
      "1 4\n"
     ]
    }
   ],
   "source": [
    "x = \"1 2 3 4\"\n",
    "split_= x.split()\n",
    "for i in split_:\n",
    "    int(i)\n",
    "    print (min(split_), max(split_))"
   ]
  },
  {
   "cell_type": "code",
   "execution_count": 16,
   "id": "674dc363",
   "metadata": {},
   "outputs": [
    {
     "data": {
      "text/plain": [
       "'1,2,3,4'"
      ]
     },
     "execution_count": 16,
     "metadata": {},
     "output_type": "execute_result"
    }
   ],
   "source": [
    "x.replace(\" \", \",\")"
   ]
  },
  {
   "cell_type": "code",
   "execution_count": 9,
   "id": "e4c5bea1",
   "metadata": {},
   "outputs": [
    {
     "ename": "NameError",
     "evalue": "name 'split' is not defined",
     "output_type": "error",
     "traceback": [
      "\u001b[1;31m---------------------------------------------------------------------------\u001b[0m",
      "\u001b[1;31mNameError\u001b[0m                                 Traceback (most recent call last)",
      "Cell \u001b[1;32mIn[9], line 1\u001b[0m\n\u001b[1;32m----> 1\u001b[0m high_and_low(\u001b[38;5;124m\"\u001b[39m\u001b[38;5;124m1 2 3 4\u001b[39m\u001b[38;5;124m\"\u001b[39m)\n",
      "Cell \u001b[1;32mIn[8], line 5\u001b[0m, in \u001b[0;36mhigh_and_low\u001b[1;34m(numbers)\u001b[0m\n\u001b[0;32m      3\u001b[0m \u001b[38;5;28;01mfor\u001b[39;00m i \u001b[38;5;129;01min\u001b[39;00m split_:\n\u001b[0;32m      4\u001b[0m       \u001b[38;5;28mint\u001b[39m(i)\n\u001b[1;32m----> 5\u001b[0m       \u001b[38;5;28;01mreturn\u001b[39;00m \u001b[38;5;28mmin\u001b[39m(split), \u001b[38;5;28mmax\u001b[39m(split)\n",
      "\u001b[1;31mNameError\u001b[0m: name 'split' is not defined"
     ]
    }
   ],
   "source": [
    "high_and_low(\"1 2 3 4\")"
   ]
  },
  {
   "cell_type": "code",
   "execution_count": null,
   "id": "2b281e7d",
   "metadata": {},
   "outputs": [],
   "source": []
  }
 ],
 "metadata": {
  "kernelspec": {
   "display_name": "Python 3 (ipykernel)",
   "language": "python",
   "name": "python3"
  },
  "language_info": {
   "codemirror_mode": {
    "name": "ipython",
    "version": 3
   },
   "file_extension": ".py",
   "mimetype": "text/x-python",
   "name": "python",
   "nbconvert_exporter": "python",
   "pygments_lexer": "ipython3",
   "version": "3.11.4"
  }
 },
 "nbformat": 4,
 "nbformat_minor": 5
}
