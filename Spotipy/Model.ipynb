{
 "cells": [
  {
   "cell_type": "code",
   "execution_count": 1,
   "id": "6c64cb2f",
   "metadata": {},
   "outputs": [],
   "source": [
    "import numpy as np\n",
    "import pandas as pd\n",
    "import pickle\n",
    "from sklearn import datasets # sklearn comes with some toy datasets to practice\n",
    "from sklearn.preprocessing import StandardScaler\n",
    "from sklearn.cluster import KMeans\n",
    "import matplotlib.pyplot as plt\n",
    "from sklearn.metrics import silhouette_score\n"
   ]
  },
  {
   "cell_type": "code",
   "execution_count": 2,
   "id": "5c57bfa0",
   "metadata": {},
   "outputs": [],
   "source": [
    "#IMPORT FULL MUSIC DF\n",
    "df = pd.read_csv(\"C:\\\\Users\\\\Juliane\\\\Documents\\\\GitHub\\\\labs_repo\\\\Spotipy\\\\music_df.csv\", on_bad_lines='skip')"
   ]
  },
  {
   "cell_type": "code",
   "execution_count": 3,
   "id": "c5f9932c",
   "metadata": {},
   "outputs": [
    {
     "data": {
      "text/plain": [
       "Index(['danceability', 'energy', 'key', 'loudness', 'mode', 'speechiness',\n",
       "       'acousticness', 'instrumentalness', 'liveness', 'valence', 'tempo',\n",
       "       'type', 'id', 'uri', 'track_href', 'analysis_url', 'duration_ms',\n",
       "       'time_signature'],\n",
       "      dtype='object')"
      ]
     },
     "execution_count": 3,
     "metadata": {},
     "output_type": "execute_result"
    }
   ],
   "source": [
    "df.columns"
   ]
  },
  {
   "cell_type": "code",
   "execution_count": 4,
   "id": "68647ee5",
   "metadata": {},
   "outputs": [],
   "source": [
    "#DROP UNNECESSARY COLUMNS\n",
    "# df_new = df.drop(('key', 'mode', 'type', 'uri', 'track_href', 'analysis_url', 'duration_ms', 'time_signature'), axis=1)\n",
    "columns_to_drop = ['key', 'mode', 'type', 'uri', 'track_href', 'analysis_url', 'duration_ms', 'time_signature', 'id']\n",
    "df_new = df.drop(columns=columns_to_drop, axis=1)\n"
   ]
  },
  {
   "cell_type": "code",
   "execution_count": 5,
   "id": "3460c702",
   "metadata": {},
   "outputs": [
    {
     "data": {
      "text/html": [
       "<div>\n",
       "<style scoped>\n",
       "    .dataframe tbody tr th:only-of-type {\n",
       "        vertical-align: middle;\n",
       "    }\n",
       "\n",
       "    .dataframe tbody tr th {\n",
       "        vertical-align: top;\n",
       "    }\n",
       "\n",
       "    .dataframe thead th {\n",
       "        text-align: right;\n",
       "    }\n",
       "</style>\n",
       "<table border=\"1\" class=\"dataframe\">\n",
       "  <thead>\n",
       "    <tr style=\"text-align: right;\">\n",
       "      <th></th>\n",
       "      <th>danceability</th>\n",
       "      <th>energy</th>\n",
       "      <th>loudness</th>\n",
       "      <th>speechiness</th>\n",
       "      <th>acousticness</th>\n",
       "      <th>instrumentalness</th>\n",
       "      <th>liveness</th>\n",
       "      <th>valence</th>\n",
       "      <th>tempo</th>\n",
       "    </tr>\n",
       "  </thead>\n",
       "  <tbody>\n",
       "    <tr>\n",
       "      <th>0</th>\n",
       "      <td>0.765</td>\n",
       "      <td>0.52900</td>\n",
       "      <td>-8.243</td>\n",
       "      <td>0.2340</td>\n",
       "      <td>0.408</td>\n",
       "      <td>0.004310</td>\n",
       "      <td>0.0862</td>\n",
       "      <td>0.5290</td>\n",
       "      <td>123.946</td>\n",
       "    </tr>\n",
       "    <tr>\n",
       "      <th>1</th>\n",
       "      <td>0.605</td>\n",
       "      <td>0.46000</td>\n",
       "      <td>-7.360</td>\n",
       "      <td>0.0476</td>\n",
       "      <td>0.467</td>\n",
       "      <td>0.000463</td>\n",
       "      <td>0.1120</td>\n",
       "      <td>0.2160</td>\n",
       "      <td>77.947</td>\n",
       "    </tr>\n",
       "    <tr>\n",
       "      <th>2</th>\n",
       "      <td>0.679</td>\n",
       "      <td>0.48400</td>\n",
       "      <td>-10.156</td>\n",
       "      <td>0.0279</td>\n",
       "      <td>0.683</td>\n",
       "      <td>0.001230</td>\n",
       "      <td>0.0833</td>\n",
       "      <td>0.4540</td>\n",
       "      <td>139.951</td>\n",
       "    </tr>\n",
       "    <tr>\n",
       "      <th>3</th>\n",
       "      <td>0.717</td>\n",
       "      <td>0.68000</td>\n",
       "      <td>-6.263</td>\n",
       "      <td>0.0371</td>\n",
       "      <td>0.466</td>\n",
       "      <td>0.000083</td>\n",
       "      <td>0.2400</td>\n",
       "      <td>0.8080</td>\n",
       "      <td>107.962</td>\n",
       "    </tr>\n",
       "    <tr>\n",
       "      <th>4</th>\n",
       "      <td>0.496</td>\n",
       "      <td>0.80200</td>\n",
       "      <td>-3.684</td>\n",
       "      <td>0.0396</td>\n",
       "      <td>0.107</td>\n",
       "      <td>0.000000</td>\n",
       "      <td>0.3070</td>\n",
       "      <td>0.3710</td>\n",
       "      <td>101.024</td>\n",
       "    </tr>\n",
       "    <tr>\n",
       "      <th>...</th>\n",
       "      <td>...</td>\n",
       "      <td>...</td>\n",
       "      <td>...</td>\n",
       "      <td>...</td>\n",
       "      <td>...</td>\n",
       "      <td>...</td>\n",
       "      <td>...</td>\n",
       "      <td>...</td>\n",
       "      <td>...</td>\n",
       "    </tr>\n",
       "    <tr>\n",
       "      <th>858</th>\n",
       "      <td>0.108</td>\n",
       "      <td>0.01360</td>\n",
       "      <td>-27.620</td>\n",
       "      <td>0.0426</td>\n",
       "      <td>0.895</td>\n",
       "      <td>0.867000</td>\n",
       "      <td>0.2040</td>\n",
       "      <td>0.0753</td>\n",
       "      <td>77.981</td>\n",
       "    </tr>\n",
       "    <tr>\n",
       "      <th>859</th>\n",
       "      <td>0.174</td>\n",
       "      <td>0.00950</td>\n",
       "      <td>-36.054</td>\n",
       "      <td>0.0440</td>\n",
       "      <td>0.843</td>\n",
       "      <td>0.064300</td>\n",
       "      <td>0.0739</td>\n",
       "      <td>0.1020</td>\n",
       "      <td>103.265</td>\n",
       "    </tr>\n",
       "    <tr>\n",
       "      <th>860</th>\n",
       "      <td>0.131</td>\n",
       "      <td>0.01450</td>\n",
       "      <td>-30.363</td>\n",
       "      <td>0.0366</td>\n",
       "      <td>0.826</td>\n",
       "      <td>0.332000</td>\n",
       "      <td>0.1100</td>\n",
       "      <td>0.1970</td>\n",
       "      <td>171.133</td>\n",
       "    </tr>\n",
       "    <tr>\n",
       "      <th>861</th>\n",
       "      <td>0.194</td>\n",
       "      <td>0.00739</td>\n",
       "      <td>-38.915</td>\n",
       "      <td>0.0507</td>\n",
       "      <td>0.960</td>\n",
       "      <td>0.000351</td>\n",
       "      <td>0.0544</td>\n",
       "      <td>0.0332</td>\n",
       "      <td>133.636</td>\n",
       "    </tr>\n",
       "    <tr>\n",
       "      <th>862</th>\n",
       "      <td>0.127</td>\n",
       "      <td>0.05680</td>\n",
       "      <td>-19.729</td>\n",
       "      <td>0.0382</td>\n",
       "      <td>0.930</td>\n",
       "      <td>0.679000</td>\n",
       "      <td>0.0945</td>\n",
       "      <td>0.0369</td>\n",
       "      <td>84.352</td>\n",
       "    </tr>\n",
       "  </tbody>\n",
       "</table>\n",
       "<p>863 rows × 9 columns</p>\n",
       "</div>"
      ],
      "text/plain": [
       "     danceability   energy  loudness  speechiness  acousticness  \\\n",
       "0           0.765  0.52900    -8.243       0.2340         0.408   \n",
       "1           0.605  0.46000    -7.360       0.0476         0.467   \n",
       "2           0.679  0.48400   -10.156       0.0279         0.683   \n",
       "3           0.717  0.68000    -6.263       0.0371         0.466   \n",
       "4           0.496  0.80200    -3.684       0.0396         0.107   \n",
       "..            ...      ...       ...          ...           ...   \n",
       "858         0.108  0.01360   -27.620       0.0426         0.895   \n",
       "859         0.174  0.00950   -36.054       0.0440         0.843   \n",
       "860         0.131  0.01450   -30.363       0.0366         0.826   \n",
       "861         0.194  0.00739   -38.915       0.0507         0.960   \n",
       "862         0.127  0.05680   -19.729       0.0382         0.930   \n",
       "\n",
       "     instrumentalness  liveness  valence    tempo  \n",
       "0            0.004310    0.0862   0.5290  123.946  \n",
       "1            0.000463    0.1120   0.2160   77.947  \n",
       "2            0.001230    0.0833   0.4540  139.951  \n",
       "3            0.000083    0.2400   0.8080  107.962  \n",
       "4            0.000000    0.3070   0.3710  101.024  \n",
       "..                ...       ...      ...      ...  \n",
       "858          0.867000    0.2040   0.0753   77.981  \n",
       "859          0.064300    0.0739   0.1020  103.265  \n",
       "860          0.332000    0.1100   0.1970  171.133  \n",
       "861          0.000351    0.0544   0.0332  133.636  \n",
       "862          0.679000    0.0945   0.0369   84.352  \n",
       "\n",
       "[863 rows x 9 columns]"
      ]
     },
     "execution_count": 5,
     "metadata": {},
     "output_type": "execute_result"
    }
   ],
   "source": [
    "#CREATING THE DATAFRAME FOR TRAINING THE MODEL\n",
    "df_new\n"
   ]
  },
  {
   "cell_type": "code",
   "execution_count": 6,
   "id": "15255c2f",
   "metadata": {},
   "outputs": [
    {
     "name": "stdout",
     "output_type": "stream",
     "text": [
      "\n"
     ]
    },
    {
     "data": {
      "text/html": [
       "<div>\n",
       "<style scoped>\n",
       "    .dataframe tbody tr th:only-of-type {\n",
       "        vertical-align: middle;\n",
       "    }\n",
       "\n",
       "    .dataframe tbody tr th {\n",
       "        vertical-align: top;\n",
       "    }\n",
       "\n",
       "    .dataframe thead th {\n",
       "        text-align: right;\n",
       "    }\n",
       "</style>\n",
       "<table border=\"1\" class=\"dataframe\">\n",
       "  <thead>\n",
       "    <tr style=\"text-align: right;\">\n",
       "      <th></th>\n",
       "      <th>danceability</th>\n",
       "      <th>energy</th>\n",
       "      <th>loudness</th>\n",
       "      <th>speechiness</th>\n",
       "      <th>acousticness</th>\n",
       "      <th>instrumentalness</th>\n",
       "      <th>liveness</th>\n",
       "      <th>valence</th>\n",
       "      <th>tempo</th>\n",
       "    </tr>\n",
       "  </thead>\n",
       "  <tbody>\n",
       "    <tr>\n",
       "      <th>0</th>\n",
       "      <td>0.861682</td>\n",
       "      <td>-0.304045</td>\n",
       "      <td>0.059140</td>\n",
       "      <td>1.969358</td>\n",
       "      <td>0.407880</td>\n",
       "      <td>-0.363984</td>\n",
       "      <td>-0.622191</td>\n",
       "      <td>-0.021074</td>\n",
       "      <td>0.274334</td>\n",
       "    </tr>\n",
       "    <tr>\n",
       "      <th>1</th>\n",
       "      <td>-0.047817</td>\n",
       "      <td>-0.602756</td>\n",
       "      <td>0.219146</td>\n",
       "      <td>-0.443692</td>\n",
       "      <td>0.603510</td>\n",
       "      <td>-0.378567</td>\n",
       "      <td>-0.431006</td>\n",
       "      <td>-1.247752</td>\n",
       "      <td>-1.348245</td>\n",
       "    </tr>\n",
       "    <tr>\n",
       "      <th>2</th>\n",
       "      <td>0.372826</td>\n",
       "      <td>-0.498857</td>\n",
       "      <td>-0.287509</td>\n",
       "      <td>-0.698719</td>\n",
       "      <td>1.319716</td>\n",
       "      <td>-0.375660</td>\n",
       "      <td>-0.643681</td>\n",
       "      <td>-0.315007</td>\n",
       "      <td>0.838898</td>\n",
       "    </tr>\n",
       "    <tr>\n",
       "      <th>3</th>\n",
       "      <td>0.588833</td>\n",
       "      <td>0.349654</td>\n",
       "      <td>0.417930</td>\n",
       "      <td>-0.579620</td>\n",
       "      <td>0.600195</td>\n",
       "      <td>-0.380006</td>\n",
       "      <td>0.517511</td>\n",
       "      <td>1.072355</td>\n",
       "      <td>-0.289489</td>\n",
       "    </tr>\n",
       "    <tr>\n",
       "      <th>4</th>\n",
       "      <td>-0.667414</td>\n",
       "      <td>0.877809</td>\n",
       "      <td>0.885262</td>\n",
       "      <td>-0.547256</td>\n",
       "      <td>-0.590167</td>\n",
       "      <td>-0.380322</td>\n",
       "      <td>1.014001</td>\n",
       "      <td>-0.640292</td>\n",
       "      <td>-0.534222</td>\n",
       "    </tr>\n",
       "  </tbody>\n",
       "</table>\n",
       "</div>"
      ],
      "text/plain": [
       "   danceability    energy  loudness  speechiness  acousticness  \\\n",
       "0      0.861682 -0.304045  0.059140     1.969358      0.407880   \n",
       "1     -0.047817 -0.602756  0.219146    -0.443692      0.603510   \n",
       "2      0.372826 -0.498857 -0.287509    -0.698719      1.319716   \n",
       "3      0.588833  0.349654  0.417930    -0.579620      0.600195   \n",
       "4     -0.667414  0.877809  0.885262    -0.547256     -0.590167   \n",
       "\n",
       "   instrumentalness  liveness   valence     tempo  \n",
       "0         -0.363984 -0.622191 -0.021074  0.274334  \n",
       "1         -0.378567 -0.431006 -1.247752 -1.348245  \n",
       "2         -0.375660 -0.643681 -0.315007  0.838898  \n",
       "3         -0.380006  0.517511  1.072355 -0.289489  \n",
       "4         -0.380322  1.014001 -0.640292 -0.534222  "
      ]
     },
     "metadata": {},
     "output_type": "display_data"
    }
   ],
   "source": [
    "#SCALING THE DATAFRAME \n",
    "#scaling > reneamed as M_scaled_df\n",
    "\n",
    "scaler = StandardScaler()\n",
    "scaler.fit(df_new)\n",
    "M_scaled = scaler.transform(df_new)\n",
    "M_scaled_df = pd.DataFrame(M_scaled, columns = df_new.columns)\n",
    "#display(X.head())\n",
    "print()\n",
    "display(M_scaled_df.head())"
   ]
  },
  {
   "cell_type": "code",
   "execution_count": 7,
   "id": "ce0deb9d",
   "metadata": {},
   "outputs": [
    {
     "name": "stderr",
     "output_type": "stream",
     "text": [
      "Exception in thread Thread-6 (_readerthread):\n",
      "Traceback (most recent call last):\n",
      "  File \"C:\\Users\\Juliane\\anaconda3\\Lib\\threading.py\", line 1038, in _bootstrap_inner\n",
      "    self.run()\n",
      "  File \"C:\\Users\\Juliane\\anaconda3\\Lib\\threading.py\", line 975, in run\n",
      "    self._target(*self._args, **self._kwargs)\n",
      "  File \"C:\\Users\\Juliane\\anaconda3\\Lib\\subprocess.py\", line 1597, in _readerthread\n",
      "    buffer.append(fh.read())\n",
      "                  ^^^^^^^^^\n",
      "  File \"C:\\Users\\Juliane\\anaconda3\\Lib\\encodings\\cp1252.py\", line 23, in decode\n",
      "    return codecs.charmap_decode(input,self.errors,decoding_table)[0]\n",
      "           ^^^^^^^^^^^^^^^^^^^^^^^^^^^^^^^^^^^^^^^^^^^^^^^^^^^^^^^\n",
      "UnicodeDecodeError: 'charmap' codec can't decode byte 0x81 in position 3: character maps to <undefined>\n",
      "C:\\Users\\Juliane\\anaconda3\\Lib\\site-packages\\joblib\\externals\\loky\\backend\\context.py:110: UserWarning: Could not find the number of physical cores for the following reason:\n",
      "found 0 physical cores < 1\n",
      "Returning the number of logical cores instead. You can silence this warning by setting LOKY_MAX_CPU_COUNT to the number of cores you want to use.\n",
      "  warnings.warn(\n",
      "  File \"C:\\Users\\Juliane\\anaconda3\\Lib\\site-packages\\joblib\\externals\\loky\\backend\\context.py\", line 217, in _count_physical_cores\n",
      "    raise ValueError(\n",
      "C:\\Users\\Juliane\\anaconda3\\Lib\\site-packages\\sklearn\\cluster\\_kmeans.py:1436: UserWarning: KMeans is known to have a memory leak on Windows with MKL, when there are less chunks than available threads. You can avoid it by setting the environment variable OMP_NUM_THREADS=4.\n",
      "  warnings.warn(\n",
      "C:\\Users\\Juliane\\anaconda3\\Lib\\site-packages\\sklearn\\cluster\\_kmeans.py:1436: UserWarning: KMeans is known to have a memory leak on Windows with MKL, when there are less chunks than available threads. You can avoid it by setting the environment variable OMP_NUM_THREADS=4.\n",
      "  warnings.warn(\n",
      "C:\\Users\\Juliane\\anaconda3\\Lib\\site-packages\\sklearn\\cluster\\_kmeans.py:1436: UserWarning: KMeans is known to have a memory leak on Windows with MKL, when there are less chunks than available threads. You can avoid it by setting the environment variable OMP_NUM_THREADS=4.\n",
      "  warnings.warn(\n",
      "C:\\Users\\Juliane\\anaconda3\\Lib\\site-packages\\sklearn\\cluster\\_kmeans.py:1436: UserWarning: KMeans is known to have a memory leak on Windows with MKL, when there are less chunks than available threads. You can avoid it by setting the environment variable OMP_NUM_THREADS=4.\n",
      "  warnings.warn(\n",
      "C:\\Users\\Juliane\\anaconda3\\Lib\\site-packages\\sklearn\\cluster\\_kmeans.py:1436: UserWarning: KMeans is known to have a memory leak on Windows with MKL, when there are less chunks than available threads. You can avoid it by setting the environment variable OMP_NUM_THREADS=4.\n",
      "  warnings.warn(\n",
      "C:\\Users\\Juliane\\anaconda3\\Lib\\site-packages\\sklearn\\cluster\\_kmeans.py:1436: UserWarning: KMeans is known to have a memory leak on Windows with MKL, when there are less chunks than available threads. You can avoid it by setting the environment variable OMP_NUM_THREADS=4.\n",
      "  warnings.warn(\n",
      "C:\\Users\\Juliane\\anaconda3\\Lib\\site-packages\\sklearn\\cluster\\_kmeans.py:1436: UserWarning: KMeans is known to have a memory leak on Windows with MKL, when there are less chunks than available threads. You can avoid it by setting the environment variable OMP_NUM_THREADS=4.\n",
      "  warnings.warn(\n",
      "C:\\Users\\Juliane\\anaconda3\\Lib\\site-packages\\sklearn\\cluster\\_kmeans.py:1436: UserWarning: KMeans is known to have a memory leak on Windows with MKL, when there are less chunks than available threads. You can avoid it by setting the environment variable OMP_NUM_THREADS=4.\n",
      "  warnings.warn(\n",
      "C:\\Users\\Juliane\\anaconda3\\Lib\\site-packages\\sklearn\\cluster\\_kmeans.py:1436: UserWarning: KMeans is known to have a memory leak on Windows with MKL, when there are less chunks than available threads. You can avoid it by setting the environment variable OMP_NUM_THREADS=4.\n",
      "  warnings.warn(\n",
      "C:\\Users\\Juliane\\anaconda3\\Lib\\site-packages\\sklearn\\cluster\\_kmeans.py:1436: UserWarning: KMeans is known to have a memory leak on Windows with MKL, when there are less chunks than available threads. You can avoid it by setting the environment variable OMP_NUM_THREADS=4.\n",
      "  warnings.warn(\n",
      "C:\\Users\\Juliane\\anaconda3\\Lib\\site-packages\\sklearn\\cluster\\_kmeans.py:1436: UserWarning: KMeans is known to have a memory leak on Windows with MKL, when there are less chunks than available threads. You can avoid it by setting the environment variable OMP_NUM_THREADS=4.\n",
      "  warnings.warn(\n",
      "C:\\Users\\Juliane\\anaconda3\\Lib\\site-packages\\sklearn\\cluster\\_kmeans.py:1436: UserWarning: KMeans is known to have a memory leak on Windows with MKL, when there are less chunks than available threads. You can avoid it by setting the environment variable OMP_NUM_THREADS=4.\n",
      "  warnings.warn(\n",
      "C:\\Users\\Juliane\\anaconda3\\Lib\\site-packages\\sklearn\\cluster\\_kmeans.py:1436: UserWarning: KMeans is known to have a memory leak on Windows with MKL, when there are less chunks than available threads. You can avoid it by setting the environment variable OMP_NUM_THREADS=4.\n",
      "  warnings.warn(\n",
      "C:\\Users\\Juliane\\anaconda3\\Lib\\site-packages\\sklearn\\cluster\\_kmeans.py:1436: UserWarning: KMeans is known to have a memory leak on Windows with MKL, when there are less chunks than available threads. You can avoid it by setting the environment variable OMP_NUM_THREADS=4.\n",
      "  warnings.warn(\n",
      "C:\\Users\\Juliane\\anaconda3\\Lib\\site-packages\\sklearn\\cluster\\_kmeans.py:1436: UserWarning: KMeans is known to have a memory leak on Windows with MKL, when there are less chunks than available threads. You can avoid it by setting the environment variable OMP_NUM_THREADS=4.\n",
      "  warnings.warn(\n",
      "C:\\Users\\Juliane\\anaconda3\\Lib\\site-packages\\sklearn\\cluster\\_kmeans.py:1436: UserWarning: KMeans is known to have a memory leak on Windows with MKL, when there are less chunks than available threads. You can avoid it by setting the environment variable OMP_NUM_THREADS=4.\n",
      "  warnings.warn(\n",
      "C:\\Users\\Juliane\\anaconda3\\Lib\\site-packages\\sklearn\\cluster\\_kmeans.py:1436: UserWarning: KMeans is known to have a memory leak on Windows with MKL, when there are less chunks than available threads. You can avoid it by setting the environment variable OMP_NUM_THREADS=4.\n",
      "  warnings.warn(\n",
      "C:\\Users\\Juliane\\anaconda3\\Lib\\site-packages\\sklearn\\cluster\\_kmeans.py:1436: UserWarning: KMeans is known to have a memory leak on Windows with MKL, when there are less chunks than available threads. You can avoid it by setting the environment variable OMP_NUM_THREADS=4.\n",
      "  warnings.warn(\n"
     ]
    },
    {
     "data": {
      "text/plain": [
       "Text(0.5, 1.0, 'Silhouette Method showing the optimal k')"
      ]
     },
     "execution_count": 7,
     "metadata": {},
     "output_type": "execute_result"
    },
    {
     "data": {
      "image/png": "[encoded data removed]",
      "text/plain": [
       "<Figure size 1600x800 with 1 Axes>"
      ]
     },
     "metadata": {},
     "output_type": "display_data"
    }
   ],
   "source": [
    "K = range(2, 20)\n",
    "silhouette = []\n",
    "\n",
    "for k in K:\n",
    "    kmeans = KMeans(n_clusters=k,\n",
    "                    random_state=1234, n_init='auto')\n",
    "    kmeans.fit(M_scaled_df)\n",
    "    \n",
    "    filename = \"Model/kmeans_\" + str(k) + \".pickle\"\n",
    "    #with open(filename, \"wb\") as f:\n",
    "        #pickle.dump(kmeans,f)\n",
    "    \n",
    "    silhouette.append(silhouette_score(M_scaled_df, kmeans.predict(M_scaled_df)))\n",
    "\n",
    "\n",
    "plt.figure(figsize=(16,8))\n",
    "plt.plot(K, silhouette, 'bx-')\n",
    "plt.xlabel('k')\n",
    "plt.ylabel('silhouette score')\n",
    "plt.xticks(np.arange(min(K), max(K)+1, 1.0))\n",
    "plt.title('Silhouette Method showing the optimal k')"
   ]
  },
  {
   "cell_type": "code",
   "execution_count": 7,
   "id": "12f22b41",
   "metadata": {},
   "outputs": [
    {
     "name": "stderr",
     "output_type": "stream",
     "text": [
      "C:\\Users\\Juliane\\anaconda3\\Lib\\site-packages\\sklearn\\cluster\\_kmeans.py:1412: FutureWarning: The default value of `n_init` will change from 10 to 'auto' in 1.4. Set the value of `n_init` explicitly to suppress the warning\n",
      "  super()._check_params_vs_input(X, default_n_init=10)\n",
      "Exception in thread Thread-6 (_readerthread):\n",
      "Traceback (most recent call last):\n",
      "  File \"C:\\Users\\Juliane\\anaconda3\\Lib\\threading.py\", line 1038, in _bootstrap_inner\n",
      "    self.run()\n",
      "  File \"C:\\Users\\Juliane\\anaconda3\\Lib\\threading.py\", line 975, in run\n",
      "    self._target(*self._args, **self._kwargs)\n",
      "  File \"C:\\Users\\Juliane\\anaconda3\\Lib\\subprocess.py\", line 1597, in _readerthread\n",
      "    buffer.append(fh.read())\n",
      "                  ^^^^^^^^^\n",
      "  File \"C:\\Users\\Juliane\\anaconda3\\Lib\\encodings\\cp1252.py\", line 23, in decode\n",
      "    return codecs.charmap_decode(input,self.errors,decoding_table)[0]\n",
      "           ^^^^^^^^^^^^^^^^^^^^^^^^^^^^^^^^^^^^^^^^^^^^^^^^^^^^^^^\n",
      "UnicodeDecodeError: 'charmap' codec can't decode byte 0x81 in position 3: character maps to <undefined>\n",
      "C:\\Users\\Juliane\\anaconda3\\Lib\\site-packages\\joblib\\externals\\loky\\backend\\context.py:110: UserWarning: Could not find the number of physical cores for the following reason:\n",
      "found 0 physical cores < 1\n",
      "Returning the number of logical cores instead. You can silence this warning by setting LOKY_MAX_CPU_COUNT to the number of cores you want to use.\n",
      "  warnings.warn(\n",
      "  File \"C:\\Users\\Juliane\\anaconda3\\Lib\\site-packages\\joblib\\externals\\loky\\backend\\context.py\", line 217, in _count_physical_cores\n",
      "    raise ValueError(\n",
      "C:\\Users\\Juliane\\anaconda3\\Lib\\site-packages\\sklearn\\cluster\\_kmeans.py:1436: UserWarning: KMeans is known to have a memory leak on Windows with MKL, when there are less chunks than available threads. You can avoid it by setting the environment variable OMP_NUM_THREADS=4.\n",
      "  warnings.warn(\n"
     ]
    },
    {
     "data": {
      "text/html": [
       "<style>#sk-container-id-1 {color: black;}#sk-container-id-1 pre{padding: 0;}#sk-container-id-1 div.sk-toggleable {background-color: white;}#sk-container-id-1 label.sk-toggleable__label {cursor: pointer;display: block;width: 100%;margin-bottom: 0;padding: 0.3em;box-sizing: border-box;text-align: center;}#sk-container-id-1 label.sk-toggleable__label-arrow:before {content: \"▸\";float: left;margin-right: 0.25em;color: #696969;}#sk-container-id-1 label.sk-toggleable__label-arrow:hover:before {color: black;}#sk-container-id-1 div.sk-estimator:hover label.sk-toggleable__label-arrow:before {color: black;}#sk-container-id-1 div.sk-toggleable__content {max-height: 0;max-width: 0;overflow: hidden;text-align: left;background-color: #f0f8ff;}#sk-container-id-1 div.sk-toggleable__content pre {margin: 0.2em;color: black;border-radius: 0.25em;background-color: #f0f8ff;}#sk-container-id-1 input.sk-toggleable__control:checked~div.sk-toggleable__content {max-height: 200px;max-width: 100%;overflow: auto;}#sk-container-id-1 input.sk-toggleable__control:checked~label.sk-toggleable__label-arrow:before {content: \"▾\";}#sk-container-id-1 div.sk-estimator input.sk-toggleable__control:checked~label.sk-toggleable__label {background-color: #d4ebff;}#sk-container-id-1 div.sk-label input.sk-toggleable__control:checked~label.sk-toggleable__label {background-color: #d4ebff;}#sk-container-id-1 input.sk-hidden--visually {border: 0;clip: rect(1px 1px 1px 1px);clip: rect(1px, 1px, 1px, 1px);height: 1px;margin: -1px;overflow: hidden;padding: 0;position: absolute;width: 1px;}#sk-container-id-1 div.sk-estimator {font-family: monospace;background-color: #f0f8ff;border: 1px dotted black;border-radius: 0.25em;box-sizing: border-box;margin-bottom: 0.5em;}#sk-container-id-1 div.sk-estimator:hover {background-color: #d4ebff;}#sk-container-id-1 div.sk-parallel-item::after {content: \"\";width: 100%;border-bottom: 1px solid gray;flex-grow: 1;}#sk-container-id-1 div.sk-label:hover label.sk-toggleable__label {background-color: #d4ebff;}#sk-container-id-1 div.sk-serial::before {content: \"\";position: absolute;border-left: 1px solid gray;box-sizing: border-box;top: 0;bottom: 0;left: 50%;z-index: 0;}#sk-container-id-1 div.sk-serial {display: flex;flex-direction: column;align-items: center;background-color: white;padding-right: 0.2em;padding-left: 0.2em;position: relative;}#sk-container-id-1 div.sk-item {position: relative;z-index: 1;}#sk-container-id-1 div.sk-parallel {display: flex;align-items: stretch;justify-content: center;background-color: white;position: relative;}#sk-container-id-1 div.sk-item::before, #sk-container-id-1 div.sk-parallel-item::before {content: \"\";position: absolute;border-left: 1px solid gray;box-sizing: border-box;top: 0;bottom: 0;left: 50%;z-index: -1;}#sk-container-id-1 div.sk-parallel-item {display: flex;flex-direction: column;z-index: 1;position: relative;background-color: white;}#sk-container-id-1 div.sk-parallel-item:first-child::after {align-self: flex-end;width: 50%;}#sk-container-id-1 div.sk-parallel-item:last-child::after {align-self: flex-start;width: 50%;}#sk-container-id-1 div.sk-parallel-item:only-child::after {width: 0;}#sk-container-id-1 div.sk-dashed-wrapped {border: 1px dashed gray;margin: 0 0.4em 0.5em 0.4em;box-sizing: border-box;padding-bottom: 0.4em;background-color: white;}#sk-container-id-1 div.sk-label label {font-family: monospace;font-weight: bold;display: inline-block;line-height: 1.2em;}#sk-container-id-1 div.sk-label-container {text-align: center;}#sk-container-id-1 div.sk-container {/* jupyter's `normalize.less` sets `[hidden] { display: none; }` but bootstrap.min.css set `[hidden] { display: none !important; }` so we also need the `!important` here to be able to override the default hidden behavior on the sphinx rendered scikit-learn.org. See: https://github.com/scikit-learn/scikit-learn/issues/21755 */display: inline-block !important;position: relative;}#sk-container-id-1 div.sk-text-repr-fallback {display: none;}</style><div id=\"sk-container-id-1\" class=\"sk-top-container\"><div class=\"sk-text-repr-fallback\"><pre>KMeans(n_clusters=4, random_state=1234)</pre><b>In a Jupyter environment, please rerun this cell to show the HTML representation or trust the notebook. <br />On GitHub, the HTML representation is unable to render, please try loading this page with nbviewer.org.</b></div><div class=\"sk-container\" hidden><div class=\"sk-item\"><div class=\"sk-estimator sk-toggleable\"><input class=\"sk-toggleable__control sk-hidden--visually\" id=\"sk-estimator-id-1\" type=\"checkbox\" checked><label for=\"sk-estimator-id-1\" class=\"sk-toggleable__label sk-toggleable__label-arrow\">KMeans</label><div class=\"sk-toggleable__content\"><pre>KMeans(n_clusters=4, random_state=1234)</pre></div></div></div></div></div>"
      ],
      "text/plain": [
       "KMeans(n_clusters=4, random_state=1234)"
      ]
     },
     "execution_count": 7,
     "metadata": {},
     "output_type": "execute_result"
    }
   ],
   "source": [
    "kmeans = KMeans(n_clusters=4, random_state=1234)\n",
    "kmeans.fit(M_scaled_df)"
   ]
  },
  {
   "cell_type": "code",
   "execution_count": 13,
   "id": "7c3f03fa",
   "metadata": {},
   "outputs": [
    {
     "data": {
      "text/plain": [
       "array([ 4, 17,  9,  3, 14,  1,  3,  9,  3, 14,  7,  8,  5,  5, 13, 14,  0,\n",
       "       17, 11,  0,  4,  4,  0, 13, 11,  5, 13,  7,  3, 16, 16, 13,  5,  0,\n",
       "        8,  1, 17, 17,  3,  3,  8, 18,  3, 16,  3,  9,  3, 13,  9,  0,  3,\n",
       "        7, 18,  5, 13,  5,  0, 16,  3, 17,  3,  7,  3, 13, 13, 18,  3, 18,\n",
       "       13, 14, 13,  5,  5, 11, 15,  5, 18, 11, 16, 14,  5,  9,  5, 13,  9,\n",
       "        1,  5, 17,  5,  3, 12,  8, 16,  3, 17, 13, 13,  0, 13,  3, 13,  9,\n",
       "       14, 13,  7, 13,  7,  5,  5, 14, 17, 13, 17,  5,  1, 17, 13,  9, 13,\n",
       "       11,  7,  9,  5,  3,  5,  5, 13, 17,  5,  5, 17, 13,  8,  9, 18,  9,\n",
       "        3,  7,  9,  5, 13,  3,  0,  7,  5,  9,  8,  3,  5, 16,  5, 17,  5,\n",
       "       12,  5, 11,  0,  9, 13,  7, 17, 11,  5, 17, 17,  0, 13,  8,  5, 17,\n",
       "       11, 13, 14,  5, 18,  5,  0, 18,  0, 13, 17, 17, 12, 17,  5, 14,  1,\n",
       "       13,  5,  5,  5, 17,  5,  9,  5, 14,  3,  9,  9,  5, 17,  8,  5, 16,\n",
       "       17, 11,  9,  9,  0,  9, 18,  5,  9, 18,  1, 18,  9, 17,  5,  3, 17,\n",
       "        4, 16, 18, 17,  5,  9, 18,  8,  8,  0,  3,  4, 11,  4,  3,  8,  3,\n",
       "        0,  4,  4,  0,  5, 16, 18, 18,  0,  1,  5,  5,  3, 16,  4, 16,  4,\n",
       "        5,  3, 14,  0,  4,  3,  4,  1,  4,  3,  9,  3, 14,  8,  4, 16,  1,\n",
       "        4,  3,  4,  8,  4,  4,  8,  9,  9,  5,  4, 12,  1,  8,  4,  4,  3,\n",
       "        9, 14,  4,  8,  4,  3,  3,  3, 14,  3,  8,  8,  8,  4,  3,  1,  3,\n",
       "       13,  4, 13, 14, 13, 12, 16, 16, 12,  9, 13,  1, 13, 13, 12,  8,  1,\n",
       "       16, 16, 13,  1,  8, 13,  8, 12,  8, 16, 18,  8, 13,  1, 17,  5, 13,\n",
       "        0,  8, 16,  1, 12,  5, 16,  8,  8,  5, 17,  5,  3,  1,  5,  5,  1,\n",
       "        8, 13, 14, 12, 13,  9,  7,  9,  7,  8, 16,  1,  8,  3, 13,  1, 13,\n",
       "        7, 12, 13, 11,  5, 14,  8,  3,  1,  9,  8, 17, 12, 11,  7,  5,  8,\n",
       "       12,  8, 12, 16, 15,  7,  8, 13,  3,  8, 16,  1,  1,  8,  0,  9, 15,\n",
       "        8,  1, 13,  9, 17,  1,  1,  8,  3, 14, 16, 14,  7, 14,  8, 13,  1,\n",
       "       12, 18, 14, 16,  1,  1, 16,  1, 16, 13, 13, 11, 13,  8,  8,  3, 18,\n",
       "        8,  7,  0, 13,  5, 14,  8, 16, 13, 18,  8,  8, 17,  3, 13,  3,  3,\n",
       "        8, 13,  5, 11,  7, 17,  9,  5,  5,  8, 18, 13, 16,  3, 13,  4,  7,\n",
       "       16,  9,  7, 12,  8,  3, 17,  0, 16,  7,  1,  5,  8,  3,  1, 16,  8,\n",
       "        5, 16,  8, 17,  1, 18,  8,  1,  8,  1, 13,  0, 16,  8, 17, 18,  7,\n",
       "       16, 13,  9, 13, 14,  5,  1,  8, 16, 16,  7,  5, 13,  8,  9, 13,  7,\n",
       "       13,  1,  5,  7,  5, 14, 13, 13,  8,  8,  4,  1,  3,  5, 13,  8, 17,\n",
       "       13,  8,  8,  1, 13, 18,  8,  3, 18, 12,  5,  7,  3, 16,  1,  8,  1,\n",
       "       13,  9, 16,  1, 12,  8, 14, 16,  8,  9,  5,  8, 18, 15, 17,  0,  1,\n",
       "        8,  4,  7,  3,  5,  8,  1,  5,  7, 12,  1, 16,  7, 16, 16, 12,  5,\n",
       "       16,  8,  8, 13,  7, 17,  8, 17, 13,  7,  8,  1,  8, 16,  8, 13, 12,\n",
       "        5,  3, 14,  8,  8,  3, 17,  1,  7,  8, 16,  8,  5,  1, 14,  8, 12,\n",
       "        8, 16, 14,  5, 14,  1,  8,  1, 16, 14, 15, 11, 12,  1, 16,  5,  8,\n",
       "       13, 16,  8, 13,  7, 14, 12,  3,  8,  8,  5,  7,  1,  1, 16,  3,  5,\n",
       "       13, 17,  3, 17,  0, 13,  1, 13, 16, 18,  7,  0, 13, 16, 14,  7,  4,\n",
       "       13,  8, 16, 16,  5,  9,  8,  8,  8, 13,  3,  8,  3,  8, 17, 15,  9,\n",
       "        1,  5,  8,  7, 11,  3, 11,  8,  8,  5,  5,  8, 13,  5,  8,  3,  3,\n",
       "        1,  1,  8, 16,  3,  9, 13,  7, 13,  7,  8, 16, 14, 13, 14,  5,  0,\n",
       "       18,  5,  3,  0,  1, 15,  0,  3,  1,  7,  1,  5,  7, 15, 17, 14,  3,\n",
       "        7, 13, 14,  1,  3,  9, 15, 17,  9,  3, 14,  1,  7,  8,  8,  3, 13,\n",
       "       17, 15,  5, 14,  8,  1, 14, 13, 18,  9, 18, 13,  3,  5,  7,  2, 10,\n",
       "       10,  6, 10, 10, 10, 10, 17,  6, 10,  2,  2,  6,  6,  6,  6,  6,  2,\n",
       "        6,  6,  6,  2, 10,  2, 10, 10,  6, 10,  6, 10, 17, 10,  2,  6, 17,\n",
       "        2,  6,  2,  6,  6,  2,  2,  2, 10, 10,  6,  9,  2,  2, 10,  6,  6,\n",
       "        6,  6,  6,  6,  6,  2,  6,  6,  6,  6, 10,  6,  6,  6,  6,  2, 10,\n",
       "       10,  2, 10, 10, 10,  6, 10, 10,  6,  6,  2,  6,  6])"
      ]
     },
     "execution_count": 13,
     "metadata": {},
     "output_type": "execute_result"
    }
   ],
   "source": [
    "labels = kmeans.labels_\n",
    "labels"
   ]
  },
  {
   "cell_type": "code",
   "execution_count": 15,
   "id": "b0ec0aeb",
   "metadata": {},
   "outputs": [
    {
     "data": {
      "text/plain": [
       "array([ 0,  1,  2,  3,  4,  5,  6,  7,  8,  9, 10, 11, 12, 13, 14, 15, 16,\n",
       "       17, 18])"
      ]
     },
     "execution_count": 15,
     "metadata": {},
     "output_type": "execute_result"
    }
   ],
   "source": [
    "np.unique(labels)"
   ]
  },
  {
   "cell_type": "code",
   "execution_count": 14,
   "id": "ce3e8c35",
   "metadata": {},
   "outputs": [
    {
     "data": {
      "text/plain": [
       "0      29\n",
       "1      63\n",
       "2      18\n",
       "3      73\n",
       "4      29\n",
       "5      87\n",
       "6      37\n",
       "7      44\n",
       "8     102\n",
       "9      46\n",
       "10     24\n",
       "11     17\n",
       "12     24\n",
       "13     86\n",
       "14     39\n",
       "15     10\n",
       "16     57\n",
       "17     49\n",
       "18     29\n",
       "dtype: int64"
      ]
     },
     "execution_count": 14,
     "metadata": {},
     "output_type": "execute_result"
    }
   ],
   "source": [
    "clusters = kmeans.predict(M_scaled_df)\n",
    "#clusters\n",
    "pd.Series(clusters).value_counts().sort_index()"
   ]
  },
  {
   "cell_type": "code",
   "execution_count": 2,
   "id": "87a4fc35",
   "metadata": {},
   "outputs": [
    {
     "ename": "NameError",
     "evalue": "name 'kmeans' is not defined",
     "output_type": "error",
     "traceback": [
      "\u001b[1;31m---------------------------------------------------------------------------\u001b[0m",
      "\u001b[1;31mNameError\u001b[0m                                 Traceback (most recent call last)",
      "Cell \u001b[1;32mIn[2], line 2\u001b[0m\n\u001b[0;32m      1\u001b[0m \u001b[38;5;66;03m# assign a cluster to each example\u001b[39;00m\n\u001b[1;32m----> 2\u001b[0m labels \u001b[38;5;241m=\u001b[39m kmeans\u001b[38;5;241m.\u001b[39mpredict(M_scaled_df)\n\u001b[0;32m      3\u001b[0m \u001b[38;5;66;03m# retrieve unique clusters\u001b[39;00m\n\u001b[0;32m      4\u001b[0m clusters \u001b[38;5;241m=\u001b[39m np\u001b[38;5;241m.\u001b[39munique(labels)\n",
      "\u001b[1;31mNameError\u001b[0m: name 'kmeans' is not defined"
     ]
    }
   ],
   "source": [
    "# assign a cluster to each example\n",
    "labels = kmeans.predict(M_scaled_df)\n",
    "# retrieve unique clusters\n",
    "clusters = np.unique(labels)\n",
    "# create scatter plot for samples from each cluster\n",
    "for cluster in clusters:\n",
    "    # get row indexes for samples with this cluster\n",
    "    row_ix = np.where(labels == cluster)\n",
    "    # create scatter of these samples\n",
    "    plt.scatter(df_new.to_numpy()[row_ix, 1], df_new.to_numpy()[row_ix, 3])\n",
    "    # show the plot\n",
    "plt.show()"
   ]
  },
  {
   "cell_type": "code",
   "execution_count": 1,
   "id": "c638d136",
   "metadata": {},
   "outputs": [
    {
     "ename": "NameError",
     "evalue": "name 'clusters' is not defined",
     "output_type": "error",
     "traceback": [
      "\u001b[1;31m---------------------------------------------------------------------------\u001b[0m",
      "\u001b[1;31mNameError\u001b[0m                                 Traceback (most recent call last)",
      "Cell \u001b[1;32mIn[1], line 2\u001b[0m\n\u001b[0;32m      1\u001b[0m \u001b[38;5;66;03m#adding \u001b[39;00m\n\u001b[1;32m----> 2\u001b[0m df_new[\u001b[38;5;124m\"\u001b[39m\u001b[38;5;124mcluster\u001b[39m\u001b[38;5;124m\"\u001b[39m] \u001b[38;5;241m=\u001b[39m clusters\n\u001b[0;32m      3\u001b[0m df_new\u001b[38;5;241m.\u001b[39mhead(\u001b[38;5;241m2\u001b[39m)\n",
      "\u001b[1;31mNameError\u001b[0m: name 'clusters' is not defined"
     ]
    }
   ],
   "source": [
    "#adding \n",
    "df_new[\"cluster\"] = clusters\n",
    "df_new.head(2)"
   ]
  },
  {
   "cell_type": "code",
   "execution_count": 14,
   "id": "0c991294",
   "metadata": {},
   "outputs": [
    {
     "data": {
      "text/html": [
       "<div>\n",
       "<style scoped>\n",
       "    .dataframe tbody tr th:only-of-type {\n",
       "        vertical-align: middle;\n",
       "    }\n",
       "\n",
       "    .dataframe tbody tr th {\n",
       "        vertical-align: top;\n",
       "    }\n",
       "\n",
       "    .dataframe thead th {\n",
       "        text-align: right;\n",
       "    }\n",
       "</style>\n",
       "<table border=\"1\" class=\"dataframe\">\n",
       "  <thead>\n",
       "    <tr style=\"text-align: right;\">\n",
       "      <th></th>\n",
       "      <th>danceability</th>\n",
       "      <th>energy</th>\n",
       "      <th>loudness</th>\n",
       "      <th>speechiness</th>\n",
       "      <th>acousticness</th>\n",
       "      <th>instrumentalness</th>\n",
       "      <th>liveness</th>\n",
       "      <th>valence</th>\n",
       "      <th>tempo</th>\n",
       "    </tr>\n",
       "  </thead>\n",
       "  <tbody>\n",
       "    <tr>\n",
       "      <th>0</th>\n",
       "      <td>0.861682</td>\n",
       "      <td>-0.304045</td>\n",
       "      <td>0.059140</td>\n",
       "      <td>1.969358</td>\n",
       "      <td>0.40788</td>\n",
       "      <td>-0.363984</td>\n",
       "      <td>-0.622191</td>\n",
       "      <td>-0.021074</td>\n",
       "      <td>0.274334</td>\n",
       "    </tr>\n",
       "    <tr>\n",
       "      <th>1</th>\n",
       "      <td>-0.047817</td>\n",
       "      <td>-0.602756</td>\n",
       "      <td>0.219146</td>\n",
       "      <td>-0.443692</td>\n",
       "      <td>0.60351</td>\n",
       "      <td>-0.378567</td>\n",
       "      <td>-0.431006</td>\n",
       "      <td>-1.247752</td>\n",
       "      <td>-1.348245</td>\n",
       "    </tr>\n",
       "  </tbody>\n",
       "</table>\n",
       "</div>"
      ],
      "text/plain": [
       "   danceability    energy  loudness  speechiness  acousticness  \\\n",
       "0      0.861682 -0.304045  0.059140     1.969358       0.40788   \n",
       "1     -0.047817 -0.602756  0.219146    -0.443692       0.60351   \n",
       "\n",
       "   instrumentalness  liveness   valence     tempo  \n",
       "0         -0.363984 -0.622191 -0.021074  0.274334  \n",
       "1         -0.378567 -0.431006 -1.247752 -1.348245  "
      ]
     },
     "execution_count": 14,
     "metadata": {},
     "output_type": "execute_result"
    }
   ],
   "source": [
    "#just to check\n",
    "M_scaled_df.head(2)"
   ]
  },
  {
   "cell_type": "code",
   "execution_count": 16,
   "id": "6a7a04e1",
   "metadata": {},
   "outputs": [],
   "source": [
    "#M_scaled_df = M_scaled_df.to_csv(\"C:\\\\Users\\\\Juliane\\\\Documents\\\\GitHub\\\\labs_repo\\\\Spotipy\\\\M_scaled_df.csv\")"
   ]
  },
  {
   "cell_type": "code",
   "execution_count": 17,
   "id": "340147ce",
   "metadata": {},
   "outputs": [],
   "source": [
    "#df_new = df_new.to_csv(\"C:\\\\Users\\\\Juliane\\\\Documents\\\\GitHub\\\\labs_repo\\\\Spotipy\\\\df_new.csv\")"
   ]
  },
  {
   "cell_type": "code",
   "execution_count": 16,
   "id": "f060bc08",
   "metadata": {},
   "outputs": [
    {
     "name": "stdout",
     "output_type": "stream",
     "text": [
      "4009.467293474793\n"
     ]
    }
   ],
   "source": [
    "kmeans2 = KMeans(n_clusters=4,\n",
    "                init=\"k-means++\",\n",
    "                n_init=20,  # try with 1, 4, 8, >> prob best 20, 30,<<< 100...\n",
    "                max_iter=1,\n",
    "                tol=0,   #not important now\n",
    "                algorithm=\"elkan\",\n",
    "                random_state=1234)\n",
    "kmeans2.fit(M_scaled_df)\n",
    "print(kmeans2.inertia_)"
   ]
  },
  {
   "cell_type": "markdown",
   "id": "cb7e525f",
   "metadata": {},
   "source": [
    "# Create a KMeans object and fit it to the data\n",
    "kmeans = KMeans(n_clusters=k, random_state=42)\n",
    "kmeans.fit(df_new_song_scaled)\n",
    "\n",
    "# Now you can use the trained kmeans model for predictions\n",
    "new_song_predict = kmeans.predict(df_new_song_scaled)"
   ]
  },
  {
   "cell_type": "code",
   "execution_count": 17,
   "id": "68ad0080",
   "metadata": {},
   "outputs": [],
   "source": [
    "#saving the SCALER pickle\n",
    "\n",
    "def save(kmeans, M_scaled_df = \"M_scaled_df.pickle\"):\n",
    "    with open(M_scaled_df, \"wb\") as f:\n",
    "        \tpickle.dump(kmeans, f)\n"
   ]
  },
  {
   "cell_type": "code",
   "execution_count": 18,
   "id": "956d8479",
   "metadata": {},
   "outputs": [],
   "source": [
    "save(scaler, \"M_scaled_df.pickle\")"
   ]
  },
  {
   "cell_type": "code",
   "execution_count": 26,
   "id": "1e64cc9a",
   "metadata": {},
   "outputs": [],
   "source": [
    "#saving the KMEANS pickle\n",
    "\n",
    "def save(kmeans2, name = \"kmeans2.pickle\"):\n",
    "    with open(name, \"wb\") as f:\n",
    "        \tpickle.dump(kmeans2, f)"
   ]
  },
  {
   "cell_type": "code",
   "execution_count": 21,
   "id": "c1b4e022",
   "metadata": {},
   "outputs": [
    {
     "data": {
      "text/html": [
       "<style>#sk-container-id-2 {color: black;}#sk-container-id-2 pre{padding: 0;}#sk-container-id-2 div.sk-toggleable {background-color: white;}#sk-container-id-2 label.sk-toggleable__label {cursor: pointer;display: block;width: 100%;margin-bottom: 0;padding: 0.3em;box-sizing: border-box;text-align: center;}#sk-container-id-2 label.sk-toggleable__label-arrow:before {content: \"▸\";float: left;margin-right: 0.25em;color: #696969;}#sk-container-id-2 label.sk-toggleable__label-arrow:hover:before {color: black;}#sk-container-id-2 div.sk-estimator:hover label.sk-toggleable__label-arrow:before {color: black;}#sk-container-id-2 div.sk-toggleable__content {max-height: 0;max-width: 0;overflow: hidden;text-align: left;background-color: #f0f8ff;}#sk-container-id-2 div.sk-toggleable__content pre {margin: 0.2em;color: black;border-radius: 0.25em;background-color: #f0f8ff;}#sk-container-id-2 input.sk-toggleable__control:checked~div.sk-toggleable__content {max-height: 200px;max-width: 100%;overflow: auto;}#sk-container-id-2 input.sk-toggleable__control:checked~label.sk-toggleable__label-arrow:before {content: \"▾\";}#sk-container-id-2 div.sk-estimator input.sk-toggleable__control:checked~label.sk-toggleable__label {background-color: #d4ebff;}#sk-container-id-2 div.sk-label input.sk-toggleable__control:checked~label.sk-toggleable__label {background-color: #d4ebff;}#sk-container-id-2 input.sk-hidden--visually {border: 0;clip: rect(1px 1px 1px 1px);clip: rect(1px, 1px, 1px, 1px);height: 1px;margin: -1px;overflow: hidden;padding: 0;position: absolute;width: 1px;}#sk-container-id-2 div.sk-estimator {font-family: monospace;background-color: #f0f8ff;border: 1px dotted black;border-radius: 0.25em;box-sizing: border-box;margin-bottom: 0.5em;}#sk-container-id-2 div.sk-estimator:hover {background-color: #d4ebff;}#sk-container-id-2 div.sk-parallel-item::after {content: \"\";width: 100%;border-bottom: 1px solid gray;flex-grow: 1;}#sk-container-id-2 div.sk-label:hover label.sk-toggleable__label {background-color: #d4ebff;}#sk-container-id-2 div.sk-serial::before {content: \"\";position: absolute;border-left: 1px solid gray;box-sizing: border-box;top: 0;bottom: 0;left: 50%;z-index: 0;}#sk-container-id-2 div.sk-serial {display: flex;flex-direction: column;align-items: center;background-color: white;padding-right: 0.2em;padding-left: 0.2em;position: relative;}#sk-container-id-2 div.sk-item {position: relative;z-index: 1;}#sk-container-id-2 div.sk-parallel {display: flex;align-items: stretch;justify-content: center;background-color: white;position: relative;}#sk-container-id-2 div.sk-item::before, #sk-container-id-2 div.sk-parallel-item::before {content: \"\";position: absolute;border-left: 1px solid gray;box-sizing: border-box;top: 0;bottom: 0;left: 50%;z-index: -1;}#sk-container-id-2 div.sk-parallel-item {display: flex;flex-direction: column;z-index: 1;position: relative;background-color: white;}#sk-container-id-2 div.sk-parallel-item:first-child::after {align-self: flex-end;width: 50%;}#sk-container-id-2 div.sk-parallel-item:last-child::after {align-self: flex-start;width: 50%;}#sk-container-id-2 div.sk-parallel-item:only-child::after {width: 0;}#sk-container-id-2 div.sk-dashed-wrapped {border: 1px dashed gray;margin: 0 0.4em 0.5em 0.4em;box-sizing: border-box;padding-bottom: 0.4em;background-color: white;}#sk-container-id-2 div.sk-label label {font-family: monospace;font-weight: bold;display: inline-block;line-height: 1.2em;}#sk-container-id-2 div.sk-label-container {text-align: center;}#sk-container-id-2 div.sk-container {/* jupyter's `normalize.less` sets `[hidden] { display: none; }` but bootstrap.min.css set `[hidden] { display: none !important; }` so we also need the `!important` here to be able to override the default hidden behavior on the sphinx rendered scikit-learn.org. See: https://github.com/scikit-learn/scikit-learn/issues/21755 */display: inline-block !important;position: relative;}#sk-container-id-2 div.sk-text-repr-fallback {display: none;}</style><div id=\"sk-container-id-2\" class=\"sk-top-container\"><div class=\"sk-text-repr-fallback\"><pre>KMeans(algorithm=&#x27;elkan&#x27;, max_iter=1, n_clusters=4, n_init=20,\n",
       "       random_state=1234, tol=0)</pre><b>In a Jupyter environment, please rerun this cell to show the HTML representation or trust the notebook. <br />On GitHub, the HTML representation is unable to render, please try loading this page with nbviewer.org.</b></div><div class=\"sk-container\" hidden><div class=\"sk-item\"><div class=\"sk-estimator sk-toggleable\"><input class=\"sk-toggleable__control sk-hidden--visually\" id=\"sk-estimator-id-2\" type=\"checkbox\" checked><label for=\"sk-estimator-id-2\" class=\"sk-toggleable__label sk-toggleable__label-arrow\">KMeans</label><div class=\"sk-toggleable__content\"><pre>KMeans(algorithm=&#x27;elkan&#x27;, max_iter=1, n_clusters=4, n_init=20,\n",
       "       random_state=1234, tol=0)</pre></div></div></div></div></div>"
      ],
      "text/plain": [
       "KMeans(algorithm='elkan', max_iter=1, n_clusters=4, n_init=20,\n",
       "       random_state=1234, tol=0)"
      ]
     },
     "execution_count": 21,
     "metadata": {},
     "output_type": "execute_result"
    }
   ],
   "source": [
    "kmeans2"
   ]
  },
  {
   "cell_type": "code",
   "execution_count": 27,
   "id": "b32fc835",
   "metadata": {},
   "outputs": [],
   "source": [
    "save(kmeans2, \"kmeans2.pickle\")"
   ]
  },
  {
   "cell_type": "markdown",
   "id": "552a61cc",
   "metadata": {},
   "source": [
    "\n",
    "with open(\"Model/scaler.pickle\", \"wb\") as f:\n",
    "    pickle.dump(scaler,f)\n",
    "\n",
    "with open(\"Model/kmeans_4.pickle\", \"wb\") as f:\n",
    "    pickle.dump(kmeans,f)"
   ]
  }
 ],
 "metadata": {
  "kernelspec": {
   "display_name": "Python 3 (ipykernel)",
   "language": "python",
   "name": "python3"
  },
  "language_info": {
   "codemirror_mode": {
    "name": "ipython",
    "version": 3
   },
   "file_extension": ".py",
   "mimetype": "text/x-python",
   "name": "python",
   "nbconvert_exporter": "python",
   "pygments_lexer": "ipython3",
   "version": "3.11.4"
  }
 },
 "nbformat": 4,
 "nbformat_minor": 5
}
