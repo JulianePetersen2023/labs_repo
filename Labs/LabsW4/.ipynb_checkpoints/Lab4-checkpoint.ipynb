{
 "cells": [
  {
   "cell_type": "markdown",
   "id": "5a847791",
   "metadata": {},
   "source": [
    "LAB 4\n",
    "\n",
    "It is assumed that the mean systolic blood pressure is μ = 120 mm Hg. In the Honolulu Heart Study, a sample of n = 100 people had an average systolic blood pressure of 130.1 mm Hg with a standard deviation of 21.21 mm Hg. Is the group significantly different (with respect to systolic blood pressure!) from the regular population?\n",
    "\n",
    "Set up the hypothesis test.\n",
    "Write down all the steps followed for setting up the test.\n",
    "Calculate the test statistic by hand and also code it in Python. It should be 4.76190. What decision can you make based on this calculated value?\n",
    "\n",
    "μ = 120 mm Hg\n",
    "sigma = ?\n",
    "x bar = 130.1 mm Hg\n",
    "standard deviation of 21.21 mm Hg\n",
    "n = 100\n",
    "\n",
    "STEP 1: \n",
    "H0: μ = 120 mm Hg\n",
    "Ha: μ != 120 mm Hg\n",
    "\n",
    "STEP 2: \n",
    "alpha = 0.05\n"
   ]
  },
  {
   "cell_type": "code",
   "execution_count": 6,
   "id": "8e53b435",
   "metadata": {},
   "outputs": [],
   "source": [
    "import numpy as np\n",
    "import pandas as pd\n",
    "import scipy.stats as stats\n",
    "import matplotlib.pyplot as plt\n",
    "import seaborn as sns\n",
    "\n",
    "%matplotlib inline"
   ]
  },
  {
   "cell_type": "code",
   "execution_count": 7,
   "id": "624c7d7b",
   "metadata": {},
   "outputs": [],
   "source": [
    "μ = 120\n",
    "# sigma = \n",
    "x_bar = 130.1\n",
    "s_std = 21.21\n",
    "n = 100"
   ]
  },
  {
   "cell_type": "code",
   "execution_count": 9,
   "id": "4c9ba000",
   "metadata": {},
   "outputs": [
    {
     "data": {
      "text/plain": [
       "2.121"
      ]
     },
     "execution_count": 9,
     "metadata": {},
     "output_type": "execute_result"
    }
   ],
   "source": [
    "# Let's compute the standard error:\n",
    "sem = s_std/np.sqrt(n)\n",
    "sem"
   ]
  },
  {
   "cell_type": "code",
   "execution_count": 11,
   "id": "0fb14c7c",
   "metadata": {},
   "outputs": [
    {
     "data": {
      "text/plain": [
       "4.761904761904759"
      ]
     },
     "execution_count": 11,
     "metadata": {},
     "output_type": "execute_result"
    }
   ],
   "source": [
    "# STEP 3: Calculate t-statistic\n",
    "\n",
    "t = (130.1 - 120)/sem\n",
    "t"
   ]
  },
  {
   "cell_type": "code",
   "execution_count": 12,
   "id": "c062292a",
   "metadata": {},
   "outputs": [
    {
     "name": "stdout",
     "output_type": "stream",
     "text": [
      "The critical value corresponding to a 0.95 area of a t distribution is: 1.66\n"
     ]
    }
   ],
   "source": [
    "# STEP 4: Calculate CV  >> according to the table its 2.626\n",
    "\n",
    "#this is wrong...\n",
    "tc = stats.t.ppf(1-0.05/2, df=99) # 0.95 is the confidence level.\n",
    "print(\"The critical value corresponding to a 0.95 area of a t distribution is: {:.2f}\".format(tc))"
   ]
  },
  {
   "cell_type": "code",
   "execution_count": 15,
   "id": "415c12f2",
   "metadata": {},
   "outputs": [
    {
     "data": {
      "text/plain": [
       "1.6448536269514722"
      ]
     },
     "execution_count": 15,
     "metadata": {},
     "output_type": "execute_result"
    }
   ],
   "source": [
    "tc = stats.norm.ppf(0.95)\n",
    "tc"
   ]
  },
  {
   "cell_type": "code",
   "execution_count": 13,
   "id": "088e0400",
   "metadata": {},
   "outputs": [
    {
     "data": {
      "text/plain": [
       "3.281350908546088e-06"
      ]
     },
     "execution_count": 13,
     "metadata": {},
     "output_type": "execute_result"
    }
   ],
   "source": [
    "p_value = (1- stats.t.cdf(t, 99))\n",
    "p_value"
   ]
  },
  {
   "cell_type": "markdown",
   "id": "a2630f91",
   "metadata": {},
   "source": [
    "Conclusion: Fail to reject H0"
   ]
  }
 ],
 "metadata": {
  "kernelspec": {
   "display_name": "Python 3 (ipykernel)",
   "language": "python",
   "name": "python3"
  },
  "language_info": {
   "codemirror_mode": {
    "name": "ipython",
    "version": 3
   },
   "file_extension": ".py",
   "mimetype": "text/x-python",
   "name": "python",
   "nbconvert_exporter": "python",
   "pygments_lexer": "ipython3",
   "version": "3.11.4"
  }
 },
 "nbformat": 4,
 "nbformat_minor": 5
}
