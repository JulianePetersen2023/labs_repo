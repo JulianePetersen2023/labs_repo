{
 "cells": [
  {
   "cell_type": "code",
   "execution_count": 1,
   "metadata": {},
   "outputs": [],
   "source": [
    "\n",
    "# game room\n",
    "\n",
    "couch = {\n",
    "    \"name\": \"couch\",\n",
    "    \"type\": \"furniture\"\n",
    "}\n",
    "\n",
    "door_a = {\n",
    "    \"name\": \"door_a\",\n",
    "    \"type\": \"door\"\n",
    "}\n",
    "\n",
    "key_a = {\n",
    "    \"name\": \"key_a\",\n",
    "    \"type\": \"key\",\n",
    "    \"target\": door_a\n",
    "}\n",
    "\n",
    "piano = {\n",
    "    \"name\": \"piano\",\n",
    "    \"type\": \"furniture\"\n",
    "}\n",
    "\n",
    "game_room = {\n",
    "    \"name\": \"game_room\",\n",
    "    \"type\": \"room\"\n",
    "}\n",
    "\n",
    "#Bedroom 1\n",
    "door_a = {\n",
    "    \"name\": \"door_a\",\n",
    "    \"type\": \"door\"\n",
    "}\n",
    "\n",
    "door_b = {\n",
    "    \"name\": \"door_b\",\n",
    "    \"type\": \"door\"\n",
    "}\n",
    "\n",
    "door_c = {\n",
    "    \"name\": \"door_c\",\n",
    "    \"type\": \"door\"\n",
    "}\n",
    "\n",
    "key_b = {\n",
    "    \"name\": \"key_b\",\n",
    "    \"type\": \"key\",\n",
    "    \"target\": door_b\n",
    "}\n",
    "\n",
    "key_c = {\n",
    "    \"name\": \"key_c\",\n",
    "    \"type\": \"key\",\n",
    "    \"target\": door_c\n",
    "}\n",
    "\n",
    "bedroom_1 = {\n",
    "    \"name\": \"bedroom_1\",\n",
    "    \"type\": \"room\"\n",
    "}\n",
    "\n",
    "queen_bed = {\n",
    "    \"name\": \"queen_bed\",\n",
    "    \"type\": \"furniture\"\n",
    "}\n",
    "\n",
    "#Bedroom 2\n",
    "\n",
    "door_b = {\n",
    "    \"name\": \"door_b\",\n",
    "    \"type\": \"door\"\n",
    "}\n",
    "\n",
    "\n",
    "key_c = {\n",
    "    \"name\": \"key_c\",\n",
    "    \"type\": \"key\",\n",
    "    \"target\": door_c\n",
    "}\n",
    "\n",
    "\n",
    "door_d = {\n",
    "    \"name\": \"door_d\",\n",
    "    \"type\": \"door\"\n",
    "}\n",
    "\n",
    "\n",
    "key_d = {\n",
    "    \"name\": \"key_d\",\n",
    "    \"type\": \"key\",\n",
    "    \"target\": door_d\n",
    "}\n",
    "\n",
    "\n",
    "bedroom_2 = {\n",
    "    \"name\": \"bedroom_2\",\n",
    "    \"type\": \"room\"\n",
    "}\n",
    "\n",
    "dresser = {\n",
    "    \"name\": \"dresser\",\n",
    "    \"type\": \"furniture\"\n",
    "}\n",
    "\n",
    "double_bed = {\n",
    "    \"name\": \"double_bed\",\n",
    "    \"type\": \"furniture\"\n",
    "}\n",
    "\n",
    "#Living room\n",
    "\n",
    "living_room = {\n",
    "    \"name\": \"living_room\",\n",
    "    \"type\": \"room\"\n",
    "}\n",
    "\n",
    "\n",
    "narnia = {                 # we added the definition of narnia\n",
    "  \"name\": \"narnia\"      \n",
    "}\n",
    "\n",
    "\n",
    "dining_table = {\n",
    "    \"name\": \"dining_table\",\n",
    "    \"type\": \"special\",      # we changed the type from \"furniture\" to \"special\"\n",
    "    \"target\": narnia,       # we created a target\n",
    "}\n",
    "\n",
    "\n",
    "#Outside\n",
    "\n",
    "outside = {\n",
    "  \"name\": \"outside\"\n",
    "}\n",
    "\n",
    "all_rooms = [game_room, bedroom_1, bedroom_2, living_room, narnia] # we added narnia\n",
    "\n",
    "all_doors = [door_a, door_b, door_c, door_d]\n",
    "\n",
    "all_keys=[key_a, key_b, key_c, key_d]\n",
    "\n",
    "# define which items/rooms are related\n",
    "\n",
    "object_relations = {\n",
    "    \"game_room\": [couch, piano, door_a],\n",
    "    \"piano\": [key_a],\n",
    "    \"door_a\": [game_room, bedroom_1],\n",
    "    \"bedroom_1\": [queen_bed, door_a, door_b, door_c],\n",
    "    \"door_b\": [bedroom_1, bedroom_2],\n",
    "    \"door_c\": [bedroom_1, living_room],\n",
    "    \"queen_bed\": [key_b],\n",
    "    \"bedroom_2\": [double_bed, dresser, door_b],\n",
    "    \"double_bed\": [key_c],\n",
    "    \"dresser\": [key_d],\n",
    "    \"living_room\": [dining_table, door_c, door_d],\n",
    "    \"door_d\": [living_room, outside],\n",
    "    \"outside\": [door_d],\n",
    "    \"dining_table\":[narnia] # we added this line\n",
    "\n",
    "}\n",
    "\n",
    "# define game state. Do not directly change this dict. \n",
    "# Instead, when a new game starts, make a copy of this\n",
    "# dict and use the copy to store gameplay state. This \n",
    "# way you can replay the game multiple times.\n",
    "\n",
    "INIT_GAME_STATE = {\n",
    "    \"current_room\": game_room,\n",
    "    \"keys_collected\": [],\n",
    "    \"target_room\": [outside, narnia] #we added narnia and made a list in the target_room keys\n",
    "}"
   ]
  },
  {
   "cell_type": "code",
   "execution_count": 2,
   "metadata": {},
   "outputs": [],
   "source": [
    "%load_ext autoreload\n",
    "%autoreload 2\n",
    "\n",
    "import functions\n"
   ]
  },
  {
   "cell_type": "code",
   "execution_count": 3,
   "metadata": {},
   "outputs": [
    {
     "name": "stdout",
     "output_type": "stream",
     "text": [
      "You wake up on a couch and find yourself in a strange house with no windows which you have never been to before. You don't remember why you are here and what had happened before. You feel some unknown danger is approaching and you must get out of the house, NOW!\n"
     ]
    },
    {
     "ename": "NameError",
     "evalue": "name 'game_state' is not defined",
     "output_type": "error",
     "traceback": [
      "\u001b[1;31m---------------------------------------------------------------------------\u001b[0m",
      "\u001b[1;31mNameError\u001b[0m                                 Traceback (most recent call last)",
      "Cell \u001b[1;32mIn[3], line 1\u001b[0m\n\u001b[1;32m----> 1\u001b[0m functions\u001b[38;5;241m.\u001b[39mstart_game()\n",
      "File \u001b[1;32m~\\Documents\\GitHub\\labs_repo\\Lessons\\functions.py:12\u001b[0m, in \u001b[0;36mstart_game\u001b[1;34m()\u001b[0m\n\u001b[0;32m      8\u001b[0m \u001b[38;5;250m\u001b[39m\u001b[38;5;124;03m\"\"\"\u001b[39;00m\n\u001b[0;32m      9\u001b[0m \u001b[38;5;124;03mStart the game\u001b[39;00m\n\u001b[0;32m     10\u001b[0m \u001b[38;5;124;03m\"\"\"\u001b[39;00m\n\u001b[0;32m     11\u001b[0m \u001b[38;5;28mprint\u001b[39m(\u001b[38;5;124m\"\u001b[39m\u001b[38;5;124mYou wake up on a couch and find yourself in a strange house with no windows which you have never been to before. You don\u001b[39m\u001b[38;5;124m'\u001b[39m\u001b[38;5;124mt remember why you are here and what had happened before. You feel some unknown danger is approaching and you must get out of the house, NOW!\u001b[39m\u001b[38;5;124m\"\u001b[39m)\n\u001b[1;32m---> 12\u001b[0m play_room(game_state[\u001b[38;5;124m\"\u001b[39m\u001b[38;5;124mcurrent_room\u001b[39m\u001b[38;5;124m\"\u001b[39m])\n",
      "\u001b[1;31mNameError\u001b[0m: name 'game_state' is not defined"
     ]
    }
   ],
   "source": [
    "functions.start_game()"
   ]
  },
  {
   "cell_type": "code",
   "execution_count": 5,
   "metadata": {},
   "outputs": [
    {
     "name": "stdout",
     "output_type": "stream",
     "text": [
      "You wake up on a couch and find yourself in a strange house with no windows which you have never been to before. You don't remember why you are here and what had happened before. You feel some unknown danger is approaching and you must get out of the house, NOW!\n"
     ]
    },
    {
     "ename": "NameError",
     "evalue": "name 'game_state' is not defined",
     "output_type": "error",
     "traceback": [
      "\u001b[1;31m---------------------------------------------------------------------------\u001b[0m",
      "\u001b[1;31mNameError\u001b[0m                                 Traceback (most recent call last)",
      "Cell \u001b[1;32mIn[5], line 3\u001b[0m\n\u001b[0;32m      1\u001b[0m game_state \u001b[38;5;241m=\u001b[39m INIT_GAME_STATE\u001b[38;5;241m.\u001b[39mcopy()\n\u001b[1;32m----> 3\u001b[0m functions\u001b[38;5;241m.\u001b[39mstart_game()\n",
      "File \u001b[1;32m~\\Documents\\GitHub\\labs_repo\\Lessons\\functions.py:12\u001b[0m, in \u001b[0;36mstart_game\u001b[1;34m()\u001b[0m\n\u001b[0;32m      8\u001b[0m \u001b[38;5;250m\u001b[39m\u001b[38;5;124;03m\"\"\"\u001b[39;00m\n\u001b[0;32m      9\u001b[0m \u001b[38;5;124;03mStart the game\u001b[39;00m\n\u001b[0;32m     10\u001b[0m \u001b[38;5;124;03m\"\"\"\u001b[39;00m\n\u001b[0;32m     11\u001b[0m \u001b[38;5;28mprint\u001b[39m(\u001b[38;5;124m\"\u001b[39m\u001b[38;5;124mYou wake up on a couch and find yourself in a strange house with no windows which you have never been to before. You don\u001b[39m\u001b[38;5;124m'\u001b[39m\u001b[38;5;124mt remember why you are here and what had happened before. You feel some unknown danger is approaching and you must get out of the house, NOW!\u001b[39m\u001b[38;5;124m\"\u001b[39m)\n\u001b[1;32m---> 12\u001b[0m play_room(game_state[\u001b[38;5;124m\"\u001b[39m\u001b[38;5;124mcurrent_room\u001b[39m\u001b[38;5;124m\"\u001b[39m])\n",
      "\u001b[1;31mNameError\u001b[0m: name 'game_state' is not defined"
     ]
    }
   ],
   "source": [
    "game_state = INIT_GAME_STATE.copy()\n",
    "\n",
    "functions.start_game()"
   ]
  },
  {
   "cell_type": "code",
   "execution_count": 10,
   "metadata": {},
   "outputs": [
    {
     "data": {
      "text/plain": [
       "{'current_room': {'name': 'game_room', 'type': 'room'},\n",
       " 'keys_collected': [],\n",
       " 'target_room': [{'name': 'outside'}, {'name': 'narnia'}]}"
      ]
     },
     "execution_count": 10,
     "metadata": {},
     "output_type": "execute_result"
    }
   ],
   "source": [
    "game_state"
   ]
  },
  {
   "cell_type": "code",
   "execution_count": null,
   "metadata": {},
   "outputs": [],
   "source": []
  }
 ],
 "metadata": {
  "kernelspec": {
   "display_name": "Python 3 (ipykernel)",
   "language": "python",
   "name": "python3"
  },
  "language_info": {
   "codemirror_mode": {
    "name": "ipython",
    "version": 3
   },
   "file_extension": ".py",
   "mimetype": "text/x-python",
   "name": "python",
   "nbconvert_exporter": "python",
   "pygments_lexer": "ipython3",
   "version": "3.11.4"
  }
 },
 "nbformat": 4,
 "nbformat_minor": 2
}
