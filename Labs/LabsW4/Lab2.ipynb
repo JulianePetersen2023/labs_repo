{
 "cells": [
  {
   "cell_type": "markdown",
   "id": "e46d272c",
   "metadata": {},
   "source": [
    "# LAB 2: Linear Regression\n",
    "# X-y split (y is the target variable, in this case, \"total claim amount\")"
   ]
  },
  {
   "cell_type": "code",
   "execution_count": 5,
   "id": "57785bad",
   "metadata": {},
   "outputs": [],
   "source": [
    "import seaborn as sns\n",
    "import pandas as pd"
   ]
  },
  {
   "cell_type": "code",
   "execution_count": 6,
   "id": "7dedfe1d",
   "metadata": {},
   "outputs": [],
   "source": [
    "df = pd.read_csv(r\"C:\\Users\\Juliane\\Documents\\GitHub\\labs_repo\\LessonsW4\\marketing_customer_analysis_clean.csv\")"
   ]
  },
  {
   "cell_type": "code",
   "execution_count": 7,
   "id": "9faa69ed",
   "metadata": {},
   "outputs": [
    {
     "data": {
      "text/html": [
       "<div>\n",
       "<style scoped>\n",
       "    .dataframe tbody tr th:only-of-type {\n",
       "        vertical-align: middle;\n",
       "    }\n",
       "\n",
       "    .dataframe tbody tr th {\n",
       "        vertical-align: top;\n",
       "    }\n",
       "\n",
       "    .dataframe thead th {\n",
       "        text-align: right;\n",
       "    }\n",
       "</style>\n",
       "<table border=\"1\" class=\"dataframe\">\n",
       "  <thead>\n",
       "    <tr style=\"text-align: right;\">\n",
       "      <th></th>\n",
       "      <th>unnamed:_0</th>\n",
       "      <th>customer</th>\n",
       "      <th>state</th>\n",
       "      <th>customer_lifetime_value</th>\n",
       "      <th>response</th>\n",
       "      <th>coverage</th>\n",
       "      <th>education</th>\n",
       "      <th>effective_to_date</th>\n",
       "      <th>employmentstatus</th>\n",
       "      <th>gender</th>\n",
       "      <th>...</th>\n",
       "      <th>number_of_policies</th>\n",
       "      <th>policy_type</th>\n",
       "      <th>policy</th>\n",
       "      <th>renew_offer_type</th>\n",
       "      <th>sales_channel</th>\n",
       "      <th>total_claim_amount</th>\n",
       "      <th>vehicle_class</th>\n",
       "      <th>vehicle_size</th>\n",
       "      <th>vehicle_type</th>\n",
       "      <th>month</th>\n",
       "    </tr>\n",
       "  </thead>\n",
       "  <tbody>\n",
       "    <tr>\n",
       "      <th>0</th>\n",
       "      <td>0</td>\n",
       "      <td>DK49336</td>\n",
       "      <td>Arizona</td>\n",
       "      <td>4809.216960</td>\n",
       "      <td>No</td>\n",
       "      <td>Basic</td>\n",
       "      <td>College</td>\n",
       "      <td>2011-02-18</td>\n",
       "      <td>Employed</td>\n",
       "      <td>M</td>\n",
       "      <td>...</td>\n",
       "      <td>9</td>\n",
       "      <td>Corporate Auto</td>\n",
       "      <td>Corporate L3</td>\n",
       "      <td>Offer3</td>\n",
       "      <td>Agent</td>\n",
       "      <td>292.800000</td>\n",
       "      <td>Four-Door Car</td>\n",
       "      <td>Medsize</td>\n",
       "      <td>A</td>\n",
       "      <td>2</td>\n",
       "    </tr>\n",
       "    <tr>\n",
       "      <th>1</th>\n",
       "      <td>1</td>\n",
       "      <td>KX64629</td>\n",
       "      <td>California</td>\n",
       "      <td>2228.525238</td>\n",
       "      <td>No</td>\n",
       "      <td>Basic</td>\n",
       "      <td>College</td>\n",
       "      <td>2011-01-18</td>\n",
       "      <td>Unemployed</td>\n",
       "      <td>F</td>\n",
       "      <td>...</td>\n",
       "      <td>1</td>\n",
       "      <td>Personal Auto</td>\n",
       "      <td>Personal L3</td>\n",
       "      <td>Offer4</td>\n",
       "      <td>Call Center</td>\n",
       "      <td>744.924331</td>\n",
       "      <td>Four-Door Car</td>\n",
       "      <td>Medsize</td>\n",
       "      <td>A</td>\n",
       "      <td>1</td>\n",
       "    </tr>\n",
       "    <tr>\n",
       "      <th>2</th>\n",
       "      <td>2</td>\n",
       "      <td>LZ68649</td>\n",
       "      <td>Washington</td>\n",
       "      <td>14947.917300</td>\n",
       "      <td>No</td>\n",
       "      <td>Basic</td>\n",
       "      <td>Bachelor</td>\n",
       "      <td>2011-02-10</td>\n",
       "      <td>Employed</td>\n",
       "      <td>M</td>\n",
       "      <td>...</td>\n",
       "      <td>2</td>\n",
       "      <td>Personal Auto</td>\n",
       "      <td>Personal L3</td>\n",
       "      <td>Offer3</td>\n",
       "      <td>Call Center</td>\n",
       "      <td>480.000000</td>\n",
       "      <td>SUV</td>\n",
       "      <td>Medsize</td>\n",
       "      <td>A</td>\n",
       "      <td>2</td>\n",
       "    </tr>\n",
       "  </tbody>\n",
       "</table>\n",
       "<p>3 rows × 27 columns</p>\n",
       "</div>"
      ],
      "text/plain": [
       "   unnamed:_0 customer       state  customer_lifetime_value response coverage  \\\n",
       "0           0  DK49336     Arizona              4809.216960       No    Basic   \n",
       "1           1  KX64629  California              2228.525238       No    Basic   \n",
       "2           2  LZ68649  Washington             14947.917300       No    Basic   \n",
       "\n",
       "  education effective_to_date employmentstatus gender  ...  \\\n",
       "0   College        2011-02-18         Employed      M  ...   \n",
       "1   College        2011-01-18       Unemployed      F  ...   \n",
       "2  Bachelor        2011-02-10         Employed      M  ...   \n",
       "\n",
       "   number_of_policies     policy_type        policy  renew_offer_type  \\\n",
       "0                   9  Corporate Auto  Corporate L3            Offer3   \n",
       "1                   1   Personal Auto   Personal L3            Offer4   \n",
       "2                   2   Personal Auto   Personal L3            Offer3   \n",
       "\n",
       "   sales_channel  total_claim_amount  vehicle_class  vehicle_size  \\\n",
       "0          Agent          292.800000  Four-Door Car       Medsize   \n",
       "1    Call Center          744.924331  Four-Door Car       Medsize   \n",
       "2    Call Center          480.000000            SUV       Medsize   \n",
       "\n",
       "  vehicle_type month  \n",
       "0            A     2  \n",
       "1            A     1  \n",
       "2            A     2  \n",
       "\n",
       "[3 rows x 27 columns]"
      ]
     },
     "execution_count": 7,
     "metadata": {},
     "output_type": "execute_result"
    }
   ],
   "source": [
    "df.head(3)"
   ]
  },
  {
   "cell_type": "code",
   "execution_count": 9,
   "id": "a3004bb8",
   "metadata": {},
   "outputs": [],
   "source": [
    "dfn = df.select_dtypes(include=['int64', 'float64'])"
   ]
  },
  {
   "cell_type": "code",
   "execution_count": 12,
   "id": "6939064b",
   "metadata": {},
   "outputs": [
    {
     "data": {
      "text/plain": [
       "Index(['unnamed:_0', 'customer_lifetime_value', 'income',\n",
       "       'monthly_premium_auto', 'months_since_last_claim',\n",
       "       'months_since_policy_inception', 'number_of_open_complaints',\n",
       "       'number_of_policies', 'total_claim_amount', 'month'],\n",
       "      dtype='object')"
      ]
     },
     "execution_count": 12,
     "metadata": {},
     "output_type": "execute_result"
    }
   ],
   "source": [
    "dfn.columns"
   ]
  },
  {
   "cell_type": "code",
   "execution_count": null,
   "id": "0c32399c",
   "metadata": {},
   "outputs": [],
   "source": [
    "# Train-test split."
   ]
  },
  {
   "cell_type": "code",
   "execution_count": 18,
   "id": "5693419a",
   "metadata": {},
   "outputs": [],
   "source": [
    "X = df[['customer_lifetime_value', 'income',\n",
    "       'monthly_premium_auto', 'months_since_last_claim',\n",
    "       'months_since_policy_inception', 'number_of_open_complaints',\n",
    "       'number_of_policies', 'month']]\n",
    "y = df[[\"total_claim_amount\"]]"
   ]
  },
  {
   "cell_type": "code",
   "execution_count": 19,
   "id": "36bee02b",
   "metadata": {},
   "outputs": [],
   "source": [
    "from sklearn.model_selection import train_test_split"
   ]
  },
  {
   "cell_type": "code",
   "execution_count": 20,
   "id": "9d877db6",
   "metadata": {},
   "outputs": [],
   "source": [
    "X_train, X_test, y_train, y_test = train_test_split(X, y, test_size = 0.25, random_state = 100)"
   ]
  },
  {
   "cell_type": "code",
   "execution_count": 46,
   "id": "72e820cc",
   "metadata": {},
   "outputs": [],
   "source": [
    "# Standardize the data (after the data split!)\n",
    "from sklearn.preprocessing import StandardScaler\n",
    "scaler = StandardScaler()\n",
    "\n",
    "c_scale = ['customer_lifetime_value', 'income',\n",
    "                    'monthly_premium_auto', 'months_since_last_claim',\n",
    "                    'months_since_policy_inception', 'number_of_open_complaints',\n",
    "                    'number_of_policies', 'month']\n",
    "\n",
    "df[c_scale] = scaler.fit_transform(df[c_scale])\n"
   ]
  },
  {
   "cell_type": "code",
   "execution_count": 47,
   "id": "8916e1a8",
   "metadata": {},
   "outputs": [
    {
     "data": {
      "text/plain": [
       "['customer_lifetime_value',\n",
       " 'income',\n",
       " 'monthly_premium_auto',\n",
       " 'months_since_last_claim',\n",
       " 'months_since_policy_inception',\n",
       " 'number_of_open_complaints',\n",
       " 'number_of_policies',\n",
       " 'month']"
      ]
     },
     "execution_count": 47,
     "metadata": {},
     "output_type": "execute_result"
    }
   ],
   "source": [
    "c_scale"
   ]
  },
  {
   "cell_type": "code",
   "execution_count": 54,
   "id": "70e8b890",
   "metadata": {},
   "outputs": [
    {
     "data": {
      "text/plain": [
       "array([[-0.76043343, -0.35616218, -0.64372705, ..., -0.42923353,\n",
       "        -0.83292699,  1.06283582],\n",
       "       [-0.7907347 , -0.5605567 , -0.64372705, ...,  0.70799066,\n",
       "        -0.83292699,  1.06283582],\n",
       "       [-0.073986  , -1.23962932,  0.40000755, ..., -0.42923353,\n",
       "         2.08053707, -0.94087909],\n",
       "       ...,\n",
       "       [-0.18143387, -1.23962932,  0.05209602, ..., -0.42923353,\n",
       "         0.83190962,  1.06283582],\n",
       "       [-0.59334724,  1.81207528,  0.19705916, ..., -0.42923353,\n",
       "        -0.83292699,  1.06283582],\n",
       "       [ 0.05092055,  1.18606345,  0.31302967, ..., -0.42923353,\n",
       "         2.49674622,  1.06283582]])"
      ]
     },
     "execution_count": 54,
     "metadata": {},
     "output_type": "execute_result"
    }
   ],
   "source": [
    "scaler.fit(X_train)\n",
    "scaler.transform(X_train)\n",
    "scaler.transform(X_test)"
   ]
  },
  {
   "cell_type": "code",
   "execution_count": 55,
   "id": "6d7be1b8",
   "metadata": {},
   "outputs": [
    {
     "data": {
      "text/html": [
       "<div>\n",
       "<style scoped>\n",
       "    .dataframe tbody tr th:only-of-type {\n",
       "        vertical-align: middle;\n",
       "    }\n",
       "\n",
       "    .dataframe tbody tr th {\n",
       "        vertical-align: top;\n",
       "    }\n",
       "\n",
       "    .dataframe thead th {\n",
       "        text-align: right;\n",
       "    }\n",
       "</style>\n",
       "<table border=\"1\" class=\"dataframe\">\n",
       "  <thead>\n",
       "    <tr style=\"text-align: right;\">\n",
       "      <th></th>\n",
       "      <th>customer_lifetime_value</th>\n",
       "      <th>income</th>\n",
       "      <th>monthly_premium_auto</th>\n",
       "      <th>months_since_last_claim</th>\n",
       "      <th>months_since_policy_inception</th>\n",
       "      <th>number_of_open_complaints</th>\n",
       "      <th>number_of_policies</th>\n",
       "      <th>month</th>\n",
       "    </tr>\n",
       "  </thead>\n",
       "  <tbody>\n",
       "    <tr>\n",
       "      <th>8752</th>\n",
       "      <td>5932.560456</td>\n",
       "      <td>48278</td>\n",
       "      <td>74</td>\n",
       "      <td>15.149071</td>\n",
       "      <td>7</td>\n",
       "      <td>0.384256</td>\n",
       "      <td>4</td>\n",
       "      <td>1</td>\n",
       "    </tr>\n",
       "    <tr>\n",
       "      <th>2531</th>\n",
       "      <td>5295.625697</td>\n",
       "      <td>0</td>\n",
       "      <td>74</td>\n",
       "      <td>19.000000</td>\n",
       "      <td>71</td>\n",
       "      <td>0.000000</td>\n",
       "      <td>3</td>\n",
       "      <td>1</td>\n",
       "    </tr>\n",
       "    <tr>\n",
       "      <th>8626</th>\n",
       "      <td>2397.036098</td>\n",
       "      <td>22283</td>\n",
       "      <td>65</td>\n",
       "      <td>16.000000</td>\n",
       "      <td>93</td>\n",
       "      <td>0.000000</td>\n",
       "      <td>1</td>\n",
       "      <td>1</td>\n",
       "    </tr>\n",
       "    <tr>\n",
       "      <th>9496</th>\n",
       "      <td>27420.813180</td>\n",
       "      <td>0</td>\n",
       "      <td>112</td>\n",
       "      <td>23.000000</td>\n",
       "      <td>20</td>\n",
       "      <td>0.000000</td>\n",
       "      <td>2</td>\n",
       "      <td>2</td>\n",
       "    </tr>\n",
       "    <tr>\n",
       "      <th>3985</th>\n",
       "      <td>14727.505260</td>\n",
       "      <td>97785</td>\n",
       "      <td>73</td>\n",
       "      <td>35.000000</td>\n",
       "      <td>36</td>\n",
       "      <td>0.000000</td>\n",
       "      <td>2</td>\n",
       "      <td>2</td>\n",
       "    </tr>\n",
       "    <tr>\n",
       "      <th>...</th>\n",
       "      <td>...</td>\n",
       "      <td>...</td>\n",
       "      <td>...</td>\n",
       "      <td>...</td>\n",
       "      <td>...</td>\n",
       "      <td>...</td>\n",
       "      <td>...</td>\n",
       "      <td>...</td>\n",
       "    </tr>\n",
       "    <tr>\n",
       "      <th>350</th>\n",
       "      <td>2476.480866</td>\n",
       "      <td>47918</td>\n",
       "      <td>62</td>\n",
       "      <td>2.000000</td>\n",
       "      <td>51</td>\n",
       "      <td>0.000000</td>\n",
       "      <td>1</td>\n",
       "      <td>2</td>\n",
       "    </tr>\n",
       "    <tr>\n",
       "      <th>79</th>\n",
       "      <td>9312.585034</td>\n",
       "      <td>75986</td>\n",
       "      <td>115</td>\n",
       "      <td>11.000000</td>\n",
       "      <td>44</td>\n",
       "      <td>0.000000</td>\n",
       "      <td>3</td>\n",
       "      <td>2</td>\n",
       "    </tr>\n",
       "    <tr>\n",
       "      <th>8039</th>\n",
       "      <td>4874.665223</td>\n",
       "      <td>67467</td>\n",
       "      <td>61</td>\n",
       "      <td>4.000000</td>\n",
       "      <td>22</td>\n",
       "      <td>0.000000</td>\n",
       "      <td>9</td>\n",
       "      <td>2</td>\n",
       "    </tr>\n",
       "    <tr>\n",
       "      <th>6936</th>\n",
       "      <td>21159.301510</td>\n",
       "      <td>0</td>\n",
       "      <td>108</td>\n",
       "      <td>15.000000</td>\n",
       "      <td>17</td>\n",
       "      <td>0.000000</td>\n",
       "      <td>2</td>\n",
       "      <td>1</td>\n",
       "    </tr>\n",
       "    <tr>\n",
       "      <th>5640</th>\n",
       "      <td>4558.498445</td>\n",
       "      <td>0</td>\n",
       "      <td>65</td>\n",
       "      <td>24.000000</td>\n",
       "      <td>93</td>\n",
       "      <td>0.000000</td>\n",
       "      <td>9</td>\n",
       "      <td>2</td>\n",
       "    </tr>\n",
       "  </tbody>\n",
       "</table>\n",
       "<p>8182 rows × 8 columns</p>\n",
       "</div>"
      ],
      "text/plain": [
       "      customer_lifetime_value  income  monthly_premium_auto  \\\n",
       "8752              5932.560456   48278                    74   \n",
       "2531              5295.625697       0                    74   \n",
       "8626              2397.036098   22283                    65   \n",
       "9496             27420.813180       0                   112   \n",
       "3985             14727.505260   97785                    73   \n",
       "...                       ...     ...                   ...   \n",
       "350               2476.480866   47918                    62   \n",
       "79                9312.585034   75986                   115   \n",
       "8039              4874.665223   67467                    61   \n",
       "6936             21159.301510       0                   108   \n",
       "5640              4558.498445       0                    65   \n",
       "\n",
       "      months_since_last_claim  months_since_policy_inception  \\\n",
       "8752                15.149071                              7   \n",
       "2531                19.000000                             71   \n",
       "8626                16.000000                             93   \n",
       "9496                23.000000                             20   \n",
       "3985                35.000000                             36   \n",
       "...                       ...                            ...   \n",
       "350                  2.000000                             51   \n",
       "79                  11.000000                             44   \n",
       "8039                 4.000000                             22   \n",
       "6936                15.000000                             17   \n",
       "5640                24.000000                             93   \n",
       "\n",
       "      number_of_open_complaints  number_of_policies  month  \n",
       "8752                   0.384256                   4      1  \n",
       "2531                   0.000000                   3      1  \n",
       "8626                   0.000000                   1      1  \n",
       "9496                   0.000000                   2      2  \n",
       "3985                   0.000000                   2      2  \n",
       "...                         ...                 ...    ...  \n",
       "350                    0.000000                   1      2  \n",
       "79                     0.000000                   3      2  \n",
       "8039                   0.000000                   9      2  \n",
       "6936                   0.000000                   2      1  \n",
       "5640                   0.000000                   9      2  \n",
       "\n",
       "[8182 rows x 8 columns]"
      ]
     },
     "execution_count": 55,
     "metadata": {},
     "output_type": "execute_result"
    }
   ],
   "source": [
    "X_train"
   ]
  },
  {
   "cell_type": "code",
   "execution_count": 66,
   "id": "4d91b1ca",
   "metadata": {},
   "outputs": [
    {
     "data": {
      "text/html": [
       "<div>\n",
       "<style scoped>\n",
       "    .dataframe tbody tr th:only-of-type {\n",
       "        vertical-align: middle;\n",
       "    }\n",
       "\n",
       "    .dataframe tbody tr th {\n",
       "        vertical-align: top;\n",
       "    }\n",
       "\n",
       "    .dataframe thead th {\n",
       "        text-align: right;\n",
       "    }\n",
       "</style>\n",
       "<table border=\"1\" class=\"dataframe\">\n",
       "  <thead>\n",
       "    <tr style=\"text-align: right;\">\n",
       "      <th></th>\n",
       "      <th>customer_lifetime_value</th>\n",
       "      <th>income</th>\n",
       "      <th>monthly_premium_auto</th>\n",
       "      <th>months_since_last_claim</th>\n",
       "      <th>months_since_policy_inception</th>\n",
       "      <th>number_of_open_complaints</th>\n",
       "      <th>number_of_policies</th>\n",
       "      <th>month</th>\n",
       "    </tr>\n",
       "  </thead>\n",
       "  <tbody>\n",
       "    <tr>\n",
       "      <th>1250</th>\n",
       "      <td>2810.464447</td>\n",
       "      <td>26790</td>\n",
       "      <td>71</td>\n",
       "      <td>4.0</td>\n",
       "      <td>41</td>\n",
       "      <td>0.0</td>\n",
       "      <td>1</td>\n",
       "      <td>2</td>\n",
       "    </tr>\n",
       "    <tr>\n",
       "      <th>5438</th>\n",
       "      <td>2605.599527</td>\n",
       "      <td>20592</td>\n",
       "      <td>71</td>\n",
       "      <td>15.0</td>\n",
       "      <td>81</td>\n",
       "      <td>1.0</td>\n",
       "      <td>1</td>\n",
       "      <td>2</td>\n",
       "    </tr>\n",
       "    <tr>\n",
       "      <th>10156</th>\n",
       "      <td>7451.492020</td>\n",
       "      <td>0</td>\n",
       "      <td>107</td>\n",
       "      <td>6.0</td>\n",
       "      <td>63</td>\n",
       "      <td>0.0</td>\n",
       "      <td>8</td>\n",
       "      <td>1</td>\n",
       "    </tr>\n",
       "    <tr>\n",
       "      <th>3441</th>\n",
       "      <td>16477.768430</td>\n",
       "      <td>49825</td>\n",
       "      <td>70</td>\n",
       "      <td>14.0</td>\n",
       "      <td>27</td>\n",
       "      <td>3.0</td>\n",
       "      <td>2</td>\n",
       "      <td>2</td>\n",
       "    </tr>\n",
       "    <tr>\n",
       "      <th>682</th>\n",
       "      <td>9192.592887</td>\n",
       "      <td>37388</td>\n",
       "      <td>117</td>\n",
       "      <td>30.0</td>\n",
       "      <td>21</td>\n",
       "      <td>0.0</td>\n",
       "      <td>5</td>\n",
       "      <td>2</td>\n",
       "    </tr>\n",
       "    <tr>\n",
       "      <th>...</th>\n",
       "      <td>...</td>\n",
       "      <td>...</td>\n",
       "      <td>...</td>\n",
       "      <td>...</td>\n",
       "      <td>...</td>\n",
       "      <td>...</td>\n",
       "      <td>...</td>\n",
       "      <td>...</td>\n",
       "    </tr>\n",
       "    <tr>\n",
       "      <th>5063</th>\n",
       "      <td>16727.771860</td>\n",
       "      <td>30915</td>\n",
       "      <td>72</td>\n",
       "      <td>1.0</td>\n",
       "      <td>6</td>\n",
       "      <td>2.0</td>\n",
       "      <td>2</td>\n",
       "      <td>1</td>\n",
       "    </tr>\n",
       "    <tr>\n",
       "      <th>10053</th>\n",
       "      <td>5067.208338</td>\n",
       "      <td>29095</td>\n",
       "      <td>127</td>\n",
       "      <td>2.0</td>\n",
       "      <td>80</td>\n",
       "      <td>0.0</td>\n",
       "      <td>1</td>\n",
       "      <td>1</td>\n",
       "    </tr>\n",
       "    <tr>\n",
       "      <th>3453</th>\n",
       "      <td>6725.043747</td>\n",
       "      <td>0</td>\n",
       "      <td>95</td>\n",
       "      <td>15.0</td>\n",
       "      <td>8</td>\n",
       "      <td>0.0</td>\n",
       "      <td>5</td>\n",
       "      <td>2</td>\n",
       "    </tr>\n",
       "    <tr>\n",
       "      <th>9241</th>\n",
       "      <td>3940.123576</td>\n",
       "      <td>92539</td>\n",
       "      <td>100</td>\n",
       "      <td>1.0</td>\n",
       "      <td>55</td>\n",
       "      <td>0.0</td>\n",
       "      <td>1</td>\n",
       "      <td>2</td>\n",
       "    </tr>\n",
       "    <tr>\n",
       "      <th>10449</th>\n",
       "      <td>8295.977271</td>\n",
       "      <td>73556</td>\n",
       "      <td>104</td>\n",
       "      <td>31.0</td>\n",
       "      <td>4</td>\n",
       "      <td>0.0</td>\n",
       "      <td>9</td>\n",
       "      <td>2</td>\n",
       "    </tr>\n",
       "  </tbody>\n",
       "</table>\n",
       "<p>2728 rows × 8 columns</p>\n",
       "</div>"
      ],
      "text/plain": [
       "       customer_lifetime_value  income  monthly_premium_auto  \\\n",
       "1250               2810.464447   26790                    71   \n",
       "5438               2605.599527   20592                    71   \n",
       "10156              7451.492020       0                   107   \n",
       "3441              16477.768430   49825                    70   \n",
       "682                9192.592887   37388                   117   \n",
       "...                        ...     ...                   ...   \n",
       "5063              16727.771860   30915                    72   \n",
       "10053              5067.208338   29095                   127   \n",
       "3453               6725.043747       0                    95   \n",
       "9241               3940.123576   92539                   100   \n",
       "10449              8295.977271   73556                   104   \n",
       "\n",
       "       months_since_last_claim  months_since_policy_inception  \\\n",
       "1250                       4.0                             41   \n",
       "5438                      15.0                             81   \n",
       "10156                      6.0                             63   \n",
       "3441                      14.0                             27   \n",
       "682                       30.0                             21   \n",
       "...                        ...                            ...   \n",
       "5063                       1.0                              6   \n",
       "10053                      2.0                             80   \n",
       "3453                      15.0                              8   \n",
       "9241                       1.0                             55   \n",
       "10449                     31.0                              4   \n",
       "\n",
       "       number_of_open_complaints  number_of_policies  month  \n",
       "1250                         0.0                   1      2  \n",
       "5438                         1.0                   1      2  \n",
       "10156                        0.0                   8      1  \n",
       "3441                         3.0                   2      2  \n",
       "682                          0.0                   5      2  \n",
       "...                          ...                 ...    ...  \n",
       "5063                         2.0                   2      1  \n",
       "10053                        0.0                   1      1  \n",
       "3453                         0.0                   5      2  \n",
       "9241                         0.0                   1      2  \n",
       "10449                        0.0                   9      2  \n",
       "\n",
       "[2728 rows x 8 columns]"
      ]
     },
     "execution_count": 66,
     "metadata": {},
     "output_type": "execute_result"
    }
   ],
   "source": [
    "X_test"
   ]
  },
  {
   "cell_type": "markdown",
   "id": "706754bc",
   "metadata": {},
   "source": [
    "# Apply linear regression."
   ]
  },
  {
   "cell_type": "code",
   "execution_count": 57,
   "id": "e6f13e81",
   "metadata": {},
   "outputs": [],
   "source": [
    "# Creating our model\n",
    "from sklearn.linear_model import LinearRegression"
   ]
  },
  {
   "cell_type": "code",
   "execution_count": 58,
   "id": "5490401d",
   "metadata": {},
   "outputs": [],
   "source": [
    "lm = LinearRegression()"
   ]
  },
  {
   "cell_type": "code",
   "execution_count": 59,
   "id": "5b805dea",
   "metadata": {},
   "outputs": [],
   "source": [
    "model = lm.fit(X_train, y_train) # where do I put the scale?"
   ]
  },
  {
   "cell_type": "code",
   "execution_count": 60,
   "id": "1e120d74",
   "metadata": {},
   "outputs": [
    {
     "data": {
      "text/plain": [
       "array([[-5.94432559e-04, -3.35413017e-03,  5.26490520e+00,\n",
       "        -1.39022328e-01, -1.77680197e-01, -2.75039018e+00,\n",
       "         1.77896047e-01, -1.70958415e+00]])"
      ]
     },
     "execution_count": 60,
     "metadata": {},
     "output_type": "execute_result"
    }
   ],
   "source": [
    "model.coef_"
   ]
  },
  {
   "cell_type": "code",
   "execution_count": 61,
   "id": "586d42d6",
   "metadata": {},
   "outputs": [
    {
     "data": {
      "text/plain": [
       "array([87.81289817])"
      ]
     },
     "execution_count": 61,
     "metadata": {},
     "output_type": "execute_result"
    }
   ],
   "source": [
    "model.intercept_"
   ]
  },
  {
   "cell_type": "markdown",
   "id": "3b6040b1",
   "metadata": {},
   "source": [
    "# Model Interpretation."
   ]
  },
  {
   "cell_type": "code",
   "execution_count": 62,
   "id": "d31be81f",
   "metadata": {},
   "outputs": [],
   "source": [
    "import numpy as np"
   ]
  },
  {
   "cell_type": "code",
   "execution_count": null,
   "id": "9f8a668d",
   "metadata": {},
   "outputs": [],
   "source": [
    "#'customer_lifetime_value', 'income',\n",
    "                    # 'monthly_premium_auto', 'months_since_last_claim',\n",
    "                    'months_since_policy_inception', 'number_of_open_complaints',\n",
    "                    'number_of_policies', 'month'"
   ]
  },
  {
   "cell_type": "code",
   "execution_count": null,
   "id": "4c8b04ad",
   "metadata": {},
   "outputs": [],
   "source": [
    "#Predict random"
   ]
  },
  {
   "cell_type": "code",
   "execution_count": 70,
   "id": "15ad9988",
   "metadata": {},
   "outputs": [],
   "source": [
    "random_tca = np.array([[2810.464447, 26790, 71, 4.0, 41, 0.0, 1, 2]]).reshape(1,-1)"
   ]
  },
  {
   "cell_type": "code",
   "execution_count": 71,
   "id": "e0df5397",
   "metadata": {},
   "outputs": [
    {
     "name": "stderr",
     "output_type": "stream",
     "text": [
      "C:\\Users\\Juliane\\anaconda3\\Lib\\site-packages\\sklearn\\base.py:464: UserWarning: X does not have valid feature names, but LinearRegression was fitted with feature names\n",
      "  warnings.warn(\n"
     ]
    },
    {
     "data": {
      "text/plain": [
       "array([[359.01113903]])"
      ]
     },
     "execution_count": 71,
     "metadata": {},
     "output_type": "execute_result"
    }
   ],
   "source": [
    "model.predict(random_tca)"
   ]
  },
  {
   "cell_type": "markdown",
   "id": "4343aaf7",
   "metadata": {},
   "source": [
    "# Apply linear regression."
   ]
  },
  {
   "cell_type": "code",
   "execution_count": 72,
   "id": "920eb47d",
   "metadata": {},
   "outputs": [],
   "source": [
    "y_pred = np.array(model.predict(X_test))\n"
   ]
  },
  {
   "cell_type": "code",
   "execution_count": 73,
   "id": "e2569e9e",
   "metadata": {},
   "outputs": [],
   "source": [
    "y_test.reset_index(inplace=True)"
   ]
  },
  {
   "cell_type": "code",
   "execution_count": 74,
   "id": "bc1c3b9a",
   "metadata": {},
   "outputs": [
    {
     "data": {
      "text/plain": [
       "0       359.011139\n",
       "1       368.534973\n",
       "2       634.413943\n",
       "3       261.383580\n",
       "4       562.506569\n",
       "           ...    \n",
       "2723    345.189930\n",
       "2724    639.831179\n",
       "2725    577.944843\n",
       "2726    288.420724\n",
       "2727    376.876725\n",
       "Name: 0, Length: 2728, dtype: float64"
      ]
     },
     "execution_count": 74,
     "metadata": {},
     "output_type": "execute_result"
    }
   ],
   "source": [
    "pd.DataFrame(y_pred)[0]"
   ]
  },
  {
   "cell_type": "code",
   "execution_count": 75,
   "id": "0a0170dd",
   "metadata": {},
   "outputs": [
    {
     "data": {
      "text/plain": [
       "(2728, 1)"
      ]
     },
     "execution_count": 75,
     "metadata": {},
     "output_type": "execute_result"
    }
   ],
   "source": [
    "y_pred.shape"
   ]
  },
  {
   "cell_type": "code",
   "execution_count": 76,
   "id": "03d54153",
   "metadata": {},
   "outputs": [],
   "source": [
    "real_vs_pred = pd.DataFrame({'y_test': y_test[\"total_claim_amount\"], 'y_pred':pd.DataFrame(y_pred)[0]})"
   ]
  },
  {
   "cell_type": "code",
   "execution_count": 77,
   "id": "9de6f1fd",
   "metadata": {},
   "outputs": [
    {
     "data": {
      "text/html": [
       "<div>\n",
       "<style scoped>\n",
       "    .dataframe tbody tr th:only-of-type {\n",
       "        vertical-align: middle;\n",
       "    }\n",
       "\n",
       "    .dataframe tbody tr th {\n",
       "        vertical-align: top;\n",
       "    }\n",
       "\n",
       "    .dataframe thead th {\n",
       "        text-align: right;\n",
       "    }\n",
       "</style>\n",
       "<table border=\"1\" class=\"dataframe\">\n",
       "  <thead>\n",
       "    <tr style=\"text-align: right;\">\n",
       "      <th></th>\n",
       "      <th>y_test</th>\n",
       "      <th>y_pred</th>\n",
       "    </tr>\n",
       "  </thead>\n",
       "  <tbody>\n",
       "    <tr>\n",
       "      <th>0</th>\n",
       "      <td>340.800000</td>\n",
       "      <td>359.011139</td>\n",
       "    </tr>\n",
       "    <tr>\n",
       "      <th>1</th>\n",
       "      <td>195.153339</td>\n",
       "      <td>368.534973</td>\n",
       "    </tr>\n",
       "    <tr>\n",
       "      <th>2</th>\n",
       "      <td>770.400000</td>\n",
       "      <td>634.413943</td>\n",
       "    </tr>\n",
       "    <tr>\n",
       "      <th>3</th>\n",
       "      <td>336.000000</td>\n",
       "      <td>261.383580</td>\n",
       "    </tr>\n",
       "    <tr>\n",
       "      <th>4</th>\n",
       "      <td>561.600000</td>\n",
       "      <td>562.506569</td>\n",
       "    </tr>\n",
       "    <tr>\n",
       "      <th>...</th>\n",
       "      <td>...</td>\n",
       "      <td>...</td>\n",
       "    </tr>\n",
       "    <tr>\n",
       "      <th>2723</th>\n",
       "      <td>345.600000</td>\n",
       "      <td>345.189930</td>\n",
       "    </tr>\n",
       "    <tr>\n",
       "      <th>2724</th>\n",
       "      <td>664.280864</td>\n",
       "      <td>639.831179</td>\n",
       "    </tr>\n",
       "    <tr>\n",
       "      <th>2725</th>\n",
       "      <td>684.000000</td>\n",
       "      <td>577.944843</td>\n",
       "    </tr>\n",
       "    <tr>\n",
       "      <th>2726</th>\n",
       "      <td>25.713622</td>\n",
       "      <td>288.420724</td>\n",
       "    </tr>\n",
       "    <tr>\n",
       "      <th>2727</th>\n",
       "      <td>497.684017</td>\n",
       "      <td>376.876725</td>\n",
       "    </tr>\n",
       "  </tbody>\n",
       "</table>\n",
       "<p>2728 rows × 2 columns</p>\n",
       "</div>"
      ],
      "text/plain": [
       "          y_test      y_pred\n",
       "0     340.800000  359.011139\n",
       "1     195.153339  368.534973\n",
       "2     770.400000  634.413943\n",
       "3     336.000000  261.383580\n",
       "4     561.600000  562.506569\n",
       "...          ...         ...\n",
       "2723  345.600000  345.189930\n",
       "2724  664.280864  639.831179\n",
       "2725  684.000000  577.944843\n",
       "2726   25.713622  288.420724\n",
       "2727  497.684017  376.876725\n",
       "\n",
       "[2728 rows x 2 columns]"
      ]
     },
     "execution_count": 77,
     "metadata": {},
     "output_type": "execute_result"
    }
   ],
   "source": [
    "real_vs_pred"
   ]
  },
  {
   "cell_type": "code",
   "execution_count": 78,
   "id": "5276f484",
   "metadata": {},
   "outputs": [],
   "source": [
    "# Compute the MSE\n",
    "from sklearn.metrics import mean_squared_error as mse"
   ]
  },
  {
   "cell_type": "code",
   "execution_count": 79,
   "id": "fdd40552",
   "metadata": {},
   "outputs": [
    {
     "data": {
      "text/plain": [
       "42443.37163762149"
      ]
     },
     "execution_count": 79,
     "metadata": {},
     "output_type": "execute_result"
    }
   ],
   "source": [
    "mse(real_vs_pred['y_test'], real_vs_pred['y_pred'])"
   ]
  },
  {
   "cell_type": "code",
   "execution_count": 83,
   "id": "ed4b55dc",
   "metadata": {},
   "outputs": [
    {
     "data": {
      "text/plain": [
       "206.01789154736412"
      ]
     },
     "execution_count": 83,
     "metadata": {},
     "output_type": "execute_result"
    }
   ],
   "source": [
    "import math\n",
    "math.sqrt(42443.37163762149)"
   ]
  },
  {
   "cell_type": "code",
   "execution_count": null,
   "id": "7f198797",
   "metadata": {},
   "outputs": [],
   "source": []
  }
 ],
 "metadata": {
  "kernelspec": {
   "display_name": "Python 3 (ipykernel)",
   "language": "python",
   "name": "python3"
  },
  "language_info": {
   "codemirror_mode": {
    "name": "ipython",
    "version": 3
   },
   "file_extension": ".py",
   "mimetype": "text/x-python",
   "name": "python",
   "nbconvert_exporter": "python",
   "pygments_lexer": "ipython3",
   "version": "3.11.4"
  }
 },
 "nbformat": 4,
 "nbformat_minor": 5
}
