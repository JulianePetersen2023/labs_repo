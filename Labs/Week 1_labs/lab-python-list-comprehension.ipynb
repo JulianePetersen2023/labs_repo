{
 "cells": [
  {
   "cell_type": "markdown",
   "id": "25d7736c-ba17-4aff-b6bb-66eba20fbf4e",
   "metadata": {},
   "source": [
    "# Lab | List, Dict and Set Comprehension"
   ]
  },
  {
   "cell_type": "markdown",
   "id": "7dd3cbde-675a-4b81-92c3-f728846dbe06",
   "metadata": {},
   "source": [
    "## Exercise: Managing Customer Orders Optimized with Comprehension"
   ]
  },
  {
   "cell_type": "markdown",
   "id": "5d500160-2fb7-4777-b5e4-09d45ebaf328",
   "metadata": {},
   "source": [
    "In the previous exercise, you developed a program to manage customer orders and inventory. Now, let's take it a step further and incorporate comprehension into your code.\n",
    "\n",
    "Follow the steps below to complete the exercise:\n",
    "\n",
    "1. Review your code from the previous exercise and identify areas where you can apply comprehension to simplify and streamline your code. \n",
    "\n",
    "    - *Hint: Apply it to initialize inventory, updating the inventory and printing the updated inventory.*\n",
    "    \n",
    "    - For example, in initializing the inventory, we could have:\n",
    "    \n",
    "        ```python\n",
    "        def initialize_inventory(products):\n",
    "            inventory = {product: int(input(f\"Enter the quantity of {product}s available: \")) for product in products}\n",
    "            return inventory\n",
    "\n",
    "        ```\n",
    "<br>\n",
    "    \n",
    "    \n",
    "2. Modify the function get_customer_orders so it prompts the user to enter the number of customer orders and gathers the product names using a loop and user input. Use comprehension.\n",
    "\n",
    "3. Add a new function to calculate the total price of the customer order. For each product in customer_orders, prompt the user to enter the price of that product. Use comprehension to calculate the total price. Note: assume that the user can only have 1 unit of each product.\n",
    "\n",
    "4. Modify the update_inventory function to remove the product from the inventory if its quantity becomes zero after fulfilling the customer orders. Use comprehension to filter out the products with a quantity of zero from the inventory.\n",
    "\n",
    "5. Print the total price of the customer order.\n",
    "\n",
    "Your code should produce output similar to the following:\n",
    "\n",
    "```python\n",
    "Enter the quantity of t-shirts available:  5\n",
    "Enter the quantity of mugs available:  4\n",
    "Enter the quantity of hats available:  3\n",
    "Enter the quantity of books available:  2\n",
    "Enter the quantity of keychains available:  1\n",
    "Enter the number of customer orders:  2\n",
    "Enter the name of a product that a customer wants to order:  hat\n",
    "Enter the name of a product that a customer wants to order:  keychain\n",
    "\n",
    "Order Statistics:\n",
    "Total Products Ordered: 2\n",
    "Percentage of Unique Products Ordered: 40.0\n",
    "\n",
    "Updated Inventory:\n",
    "t-shirt: 5\n",
    "mug: 4\n",
    "hat: 2\n",
    "book: 2\n",
    "Enter the price of keychain:  5\n",
    "Enter the price of hat:  10\n",
    "Total Price: 15.0\n",
    "\n",
    "```\n"
   ]
  },
  {
   "cell_type": "code",
   "execution_count": 1,
   "id": "9a209ba5",
   "metadata": {},
   "outputs": [],
   "source": [
    "products= [\"t-shirt\", \"mug\", \"hat\", \"book\", \"keychain\"]\n",
    "\n",
    "def initialize_inventory(products):\n",
    "    inventory = {product: int(input(f\"Enter quantity of {product}s available: \")) for product in products}\n",
    "    return inventory"
   ]
  },
  {
   "cell_type": "code",
   "execution_count": 2,
   "id": "9a4d948f",
   "metadata": {},
   "outputs": [
    {
     "name": "stdout",
     "output_type": "stream",
     "text": [
      "Enter quantity of t-shirts available: 3\n",
      "Enter quantity of mugs available: 4\n",
      "Enter quantity of hats available: 5\n",
      "Enter quantity of books available: 6\n",
      "Enter quantity of keychains available: 7\n"
     ]
    },
    {
     "data": {
      "text/plain": [
       "{'t-shirt': 3, 'mug': 4, 'hat': 5, 'book': 6, 'keychain': 7}"
      ]
     },
     "execution_count": 2,
     "metadata": {},
     "output_type": "execute_result"
    }
   ],
   "source": [
    "initialize_inventory(products)"
   ]
  },
  {
   "cell_type": "code",
   "execution_count": 22,
   "id": "81250c98",
   "metadata": {},
   "outputs": [],
   "source": [
    "#updating inventory previous:\n",
    "inventory = {'t-shirt': 3, 'mug': 4, 'hat': 5, 'book': 6, 'keychain': 7}\n",
    "\n",
    "def update_inventory(customer_orders, inventory):\n",
    "    inventory = {'t-shirt': 2, 'mug': 3, 'hat': 4, 'book': 5, 'keychain': 6}\n",
    "    for prod, quant in inventory.items():\n",
    "        if prod == customer_orders:\n",
    "            inventory.update({prod:(quant-1)})\n",
    "    return(inventory)"
   ]
  },
  {
   "cell_type": "code",
   "execution_count": 25,
   "id": "eb3c8b48",
   "metadata": {},
   "outputs": [
    {
     "data": {
      "text/plain": [
       "{'t-shirt': 2, 'mug': 2, 'hat': 4, 'book': 5, 'keychain': 6}"
      ]
     },
     "execution_count": 25,
     "metadata": {},
     "output_type": "execute_result"
    }
   ],
   "source": [
    "update_inventory(\"mug\", \"inventory\")"
   ]
  },
  {
   "cell_type": "code",
   "execution_count": 58,
   "id": "a1273896",
   "metadata": {},
   "outputs": [],
   "source": [
    "#new:\n",
    "inventory = {'t-shirt': 3, 'mug': 4, 'hat': 5, 'book': 6, 'keychain': 7}\n",
    "\n",
    "def update_i(customer_orders):\n",
    "    update_inv = {prod:(quant-1) for prod, quant in inventory.items() if prod == customer_orders}\n",
    "    return update_inv\n"
   ]
  },
  {
   "cell_type": "code",
   "execution_count": 59,
   "id": "7757b8fe",
   "metadata": {},
   "outputs": [
    {
     "data": {
      "text/plain": [
       "{'mug': 3}"
      ]
     },
     "execution_count": 59,
     "metadata": {},
     "output_type": "execute_result"
    }
   ],
   "source": [
    "update_i(\"mug\")"
   ]
  },
  {
   "cell_type": "code",
   "execution_count": null,
   "id": "b3f1efe5",
   "metadata": {},
   "outputs": [],
   "source": []
  },
  {
   "cell_type": "code",
   "execution_count": 57,
   "id": "b14a5877",
   "metadata": {},
   "outputs": [],
   "source": [
    "# 2\n",
    "# Modify the function get_customer_orders so it prompts the user to enter the number of customer orders \n",
    "# and gathers the product names using a loop and user input. Use comprehension.\n",
    "\n",
    "# previous\n",
    "def get_customer_orders():\n",
    "    customer_orders_set = set()\n",
    "    products= [\"t-shirt\", \"mug\", \"hat\", \"book\", \"keychain\"]\n",
    "    while input(\"Do you want another product? (Enter yes or no): \") == \"yes\":\n",
    "        product = input(\"Please enter a product for order: \")\n",
    "        customer_orders_set.add(product)\n",
    "    else:\n",
    "        print(\"Thank you for your order\")\n",
    "    return (customer_orders_set)   "
   ]
  },
  {
   "cell_type": "code",
   "execution_count": 99,
   "id": "8826eb34",
   "metadata": {},
   "outputs": [],
   "source": [
    "# 2\n",
    "# new and modified\n",
    "\n",
    "products= [\"t-shirt\", \"mug\", \"hat\", \"book\", \"keychain\"]\n",
    "\n",
    "def get_customer_orders_2():\n",
    "    # another possibility is > \"global\"-keyword customer_orders\n",
    "    customer_orders_no = int(input(f\"Enter number of customer orders: \"))\n",
    "    customer_orders = [(input(f\"Enter the name of a product that a customer wants to order: \")) for product in range(customer_orders_no)]\n",
    "                          \n",
    "    return customer_orders"
   ]
  },
  {
   "cell_type": "code",
   "execution_count": 100,
   "id": "5890cfdc",
   "metadata": {},
   "outputs": [
    {
     "name": "stdout",
     "output_type": "stream",
     "text": [
      "Enter number of customer orders: 2\n",
      "Enter the name of a product that a customer wants to order: hat\n",
      "Enter the name of a product that a customer wants to order: book\n"
     ]
    },
    {
     "data": {
      "text/plain": [
       "['hat', 'book']"
      ]
     },
     "execution_count": 100,
     "metadata": {},
     "output_type": "execute_result"
    }
   ],
   "source": [
    "get_customer_orders_2()"
   ]
  },
  {
   "cell_type": "code",
   "execution_count": null,
   "id": "4ca2691b",
   "metadata": {},
   "outputs": [],
   "source": [
    "customer_orders"
   ]
  },
  {
   "cell_type": "code",
   "execution_count": 131,
   "id": "3667fae4",
   "metadata": {},
   "outputs": [],
   "source": [
    "# 3\n",
    "# Add a new function to calculate the total price of the customer order. For each product in customer_orders, \n",
    "# prompt the user to enter the price of that product. Use comprehension to calculate the total price. \n",
    "# Note: assume that the user can only have 1 unit of each product.\n",
    "\n",
    "customer_orders = ['hat', 'book']\n",
    "\n",
    "def total_price():\n",
    "    p_price = [input(f\"Enter the price of {product}: \") for product in customer_orders]"
   ]
  },
  {
   "cell_type": "code",
   "execution_count": 132,
   "id": "3fa33ef0",
   "metadata": {},
   "outputs": [
    {
     "name": "stdout",
     "output_type": "stream",
     "text": [
      "Enter the price of hat: 2\n",
      "Enter the price of book: 3\n"
     ]
    }
   ],
   "source": [
    "total_price()"
   ]
  },
  {
   "cell_type": "code",
   "execution_count": 185,
   "id": "b28230be",
   "metadata": {},
   "outputs": [],
   "source": [
    "customer_orders = ['hat', 'book']\n",
    "\n",
    "def total_price():\n",
    "    try:\n",
    "        p_price = [int(input(f\"Enter the price of {product}: \")) for product in customer_orders]\n",
    "        t_price = sum(p_price[:])\n",
    "    except ValueError:\n",
    "            print(\"Error: Please enter a number\", str(ValueError))\n",
    "    print (\"Total price: \", t_price)\n",
    "    \n",
    "# If the user enters an invalid price (e.g., a negative value or a non-numeric value), display an error message and ask them to # re-enter the price for that product.\n",
    "# Use a try-except block to handle the error and continue prompting the user until a valid price is entered."
   ]
  },
  {
   "cell_type": "code",
   "execution_count": null,
   "id": "eb004034",
   "metadata": {},
   "outputs": [
    {
     "name": "stdout",
     "output_type": "stream",
     "text": [
      "Enter the price of hat: 2\n"
     ]
    }
   ],
   "source": [
    "total_price()"
   ]
  },
  {
   "cell_type": "code",
   "execution_count": null,
   "id": "8722f6c7",
   "metadata": {},
   "outputs": [],
   "source": [
    "def divide(a, b):\n",
    "    try:\n",
    "        result = a / b\n",
    "    except ZeroDivisionError:\n",
    "        print(\"Error: Cannot divide by zero.\")\n",
    "        return None\n",
    "    except TypeError:\n",
    "        print(\"Error: Both arguments must be numbers.\")\n",
    "        return None\n",
    "    else:\n",
    "        print(\"Division successful.\")\n",
    "        return result\n",
    "    finally: \n",
    "        print(\"Operation complete.\")"
   ]
  },
  {
   "cell_type": "code",
   "execution_count": 150,
   "id": "afdd8a70",
   "metadata": {},
   "outputs": [
    {
     "name": "stdout",
     "output_type": "stream",
     "text": [
      "Enter the price of hat: 2\n",
      "Enter the price of book: 3\n",
      "Total price:  5\n"
     ]
    }
   ],
   "source": [
    "total_price()"
   ]
  },
  {
   "cell_type": "code",
   "execution_count": null,
   "id": "f29a5dc2",
   "metadata": {},
   "outputs": [],
   "source": [
    "# 4\n",
    "# Modify the update_inventory function to remove the product from the inventory if its quantity becomes zero \n",
    "# after fulfilling the customer orders. Use comprehension to filter out the products with a quantity of zero from the inventory.\n",
    "\n",
    "#previous\n",
    "inventory = {'t-shirt': 3, 'mug': 4, 'hat': 5, 'book': 6, 'keychain': 7}\n",
    "\n",
    "def update_i(customer_orders, inventory):\n",
    "    update_inv = {prod:(quant-1) for prod, quant in inventory.items() if prod == customer_orders}\n",
    "    return update_inv"
   ]
  },
  {
   "cell_type": "code",
   "execution_count": 168,
   "id": "02246558",
   "metadata": {},
   "outputs": [],
   "source": [
    "def update_inventory(customer_orders, inventory):\n",
    "    for product in customer_orders:\n",
    "        if product in inventory and inventory[product] > 0:\n",
    "            inventory[product] -= 1\n",
    "        if inventory[product] == 0:\n",
    "            inventory.pop(product)"
   ]
  },
  {
   "cell_type": "code",
   "execution_count": null,
   "id": "acbbaee9",
   "metadata": {},
   "outputs": [],
   "source": [
    "def update_inventory(customer_orders, inventory):\n",
    "    up_inventory = {product: inventory[product] -= 1 for product in customer_orders if product in inventory and inventory[product] > 0}"
   ]
  },
  {
   "cell_type": "code",
   "execution_count": 180,
   "id": "4ccbaa66",
   "metadata": {},
   "outputs": [],
   "source": [
    "inventory = {'t-shirt': 3, 'mug': 4, 'hat': 5, 'book': 6, 'keychain': 7}\n",
    "customer_orders = {'hat', 'mug'}\n",
    "\n",
    "def update_inventory(customer_orders, inventory):\n",
    "    up_inventory = {product: (quantity - 1 if product in customer_orders else quantity) for product, quantity in inventory.items()}\n",
    "    up_inventory = {product: quantity for product, quantity in up_inventory.items() if quantity > 0}\n",
    "    return up_inventory"
   ]
  },
  {
   "cell_type": "code",
   "execution_count": 181,
   "id": "a4922153",
   "metadata": {},
   "outputs": [
    {
     "data": {
      "text/plain": [
       "{'t-shirt': 3, 'mug': 3, 'hat': 4, 'book': 6, 'keychain': 7}"
      ]
     },
     "execution_count": 181,
     "metadata": {},
     "output_type": "execute_result"
    }
   ],
   "source": [
    "update_inventory({'hat', 'mug'}, inventory)"
   ]
  },
  {
   "cell_type": "code",
   "execution_count": 158,
   "id": "0ed051f8",
   "metadata": {},
   "outputs": [],
   "source": [
    "# Modify calculate and print order statistics\n",
    "\n",
    "customer_orders_set = {'book', 'hat'}\n",
    "inventory = {'t-shirt': 4, 'mug': 5, 'hat': 6, 'book': 7, 'keychain': 8}\n",
    "products = [\"t-shirt\", \"mug\", \"hat\", \"book\", \"keychain\"]\n",
    "\n",
    "def calculate_order_statistics(customer_orders, products):\n",
    "    total_products_ordered = len(customer_orders_set)\n",
    "    percentage_of_unique_products_ordered = (len(customer_orders_set)/len(products))*100  \n",
    "    return total_products_ordered, percentage_of_unique_products_ordered\n",
    "\n",
    "def print_order_statistics (total_products_ordered, percentage_of_unique_products_ordered):\n",
    "    print (\"Order Statistics: Total Products Ordered: \", total_products_ordered, \"and Percentage of Unique Products Ordered: \", percentage_of_unique_products_ordered)\n"
   ]
  },
  {
   "cell_type": "code",
   "execution_count": 163,
   "id": "12ac5610",
   "metadata": {},
   "outputs": [],
   "source": [
    "# Modify print updated inventory\n",
    "\n",
    "inventory = {'t-shirt': 4, 'mug': 5, 'hat': 6, 'book': 7, 'keychain': 8}\n",
    "\n",
    "def print_updated_inventory(inventory):\n",
    "    for prod, quant in inventory.items():\n",
    "        print (prod, \":\", quant)"
   ]
  },
  {
   "cell_type": "code",
   "execution_count": 151,
   "id": "7086e798",
   "metadata": {},
   "outputs": [
    {
     "name": "stdout",
     "output_type": "stream",
     "text": [
      "Enter quantity of t-shirts available: 2\n",
      "Enter quantity of mugs available: 3\n",
      "Enter quantity of hats available: 4\n",
      "Enter quantity of books available: 5\n",
      "Enter quantity of keychains available: 6\n"
     ]
    },
    {
     "data": {
      "text/plain": [
       "{'t-shirt': 2, 'mug': 3, 'hat': 4, 'book': 5, 'keychain': 6}"
      ]
     },
     "execution_count": 151,
     "metadata": {},
     "output_type": "execute_result"
    }
   ],
   "source": [
    "#putting everything together\n",
    "\n",
    "initialize_inventory(products)\n"
   ]
  },
  {
   "cell_type": "code",
   "execution_count": 154,
   "id": "4ccb0665",
   "metadata": {},
   "outputs": [
    {
     "name": "stdout",
     "output_type": "stream",
     "text": [
      "Enter number of customer orders: 2\n",
      "Enter the name of a product that a customer wants to order: hat\n",
      "Enter the name of a product that a customer wants to order: book\n"
     ]
    },
    {
     "data": {
      "text/plain": [
       "['hat', 'book']"
      ]
     },
     "execution_count": 154,
     "metadata": {},
     "output_type": "execute_result"
    }
   ],
   "source": [
    "get_customer_orders_2()"
   ]
  },
  {
   "cell_type": "code",
   "execution_count": 159,
   "id": "9fef2fc2",
   "metadata": {},
   "outputs": [
    {
     "name": "stdout",
     "output_type": "stream",
     "text": [
      "Order Statistics: Total Products Ordered:  2 and Percentage of Unique Products Ordered:  40.0\n"
     ]
    }
   ],
   "source": [
    "print_order_statistics (2, 40.0)"
   ]
  },
  {
   "cell_type": "code",
   "execution_count": 164,
   "id": "97cb27ec",
   "metadata": {},
   "outputs": [
    {
     "name": "stdout",
     "output_type": "stream",
     "text": [
      "t-shirt : 4\n",
      "mug : 5\n",
      "hat : 6\n",
      "book : 7\n",
      "keychain : 8\n"
     ]
    }
   ],
   "source": [
    "print_updated_inventory(inventory)"
   ]
  },
  {
   "cell_type": "code",
   "execution_count": 165,
   "id": "b7246b38",
   "metadata": {},
   "outputs": [
    {
     "name": "stdout",
     "output_type": "stream",
     "text": [
      "Enter the price of hat: 2\n",
      "Enter the price of book: 3\n",
      "Total price:  5\n"
     ]
    }
   ],
   "source": [
    "total_price()"
   ]
  },
  {
   "cell_type": "code",
   "execution_count": 153,
   "id": "172071b4",
   "metadata": {},
   "outputs": [
    {
     "ename": "TypeError",
     "evalue": "update_inventory() missing 1 required positional argument: 'inventory'",
     "output_type": "error",
     "traceback": [
      "\u001b[1;31m---------------------------------------------------------------------------\u001b[0m",
      "\u001b[1;31mTypeError\u001b[0m                                 Traceback (most recent call last)",
      "Cell \u001b[1;32mIn[153], line 3\u001b[0m\n\u001b[0;32m      1\u001b[0m inventory \u001b[38;5;241m=\u001b[39m {\u001b[38;5;124m'\u001b[39m\u001b[38;5;124mt-shirt\u001b[39m\u001b[38;5;124m'\u001b[39m: \u001b[38;5;241m2\u001b[39m, \u001b[38;5;124m'\u001b[39m\u001b[38;5;124mmug\u001b[39m\u001b[38;5;124m'\u001b[39m: \u001b[38;5;241m3\u001b[39m, \u001b[38;5;124m'\u001b[39m\u001b[38;5;124mhat\u001b[39m\u001b[38;5;124m'\u001b[39m: \u001b[38;5;241m4\u001b[39m, \u001b[38;5;124m'\u001b[39m\u001b[38;5;124mbook\u001b[39m\u001b[38;5;124m'\u001b[39m: \u001b[38;5;241m5\u001b[39m, \u001b[38;5;124m'\u001b[39m\u001b[38;5;124mkeychain\u001b[39m\u001b[38;5;124m'\u001b[39m: \u001b[38;5;241m6\u001b[39m}\n\u001b[0;32m      2\u001b[0m customer_orders\n\u001b[1;32m----> 3\u001b[0m update_inventory(inventory)\n",
      "\u001b[1;31mTypeError\u001b[0m: update_inventory() missing 1 required positional argument: 'inventory'"
     ]
    }
   ],
   "source": [
    "inventory = {'t-shirt': 2, 'mug': 3, 'hat': 4, 'book': 5, 'keychain': 6}\n",
    "customer_orders\n",
    "update_inventory(inventory)     # this is not working, I will come back to it"
   ]
  },
  {
   "cell_type": "code",
   "execution_count": null,
   "id": "95fc6869",
   "metadata": {},
   "outputs": [],
   "source": []
  },
  {
   "cell_type": "code",
   "execution_count": null,
   "id": "97bfd0af",
   "metadata": {},
   "outputs": [],
   "source": []
  },
  {
   "cell_type": "code",
   "execution_count": null,
   "id": "5e71d07b",
   "metadata": {},
   "outputs": [],
   "source": []
  },
  {
   "cell_type": "code",
   "execution_count": null,
   "id": "94c582ba",
   "metadata": {},
   "outputs": [],
   "source": []
  }
 ],
 "metadata": {
  "kernelspec": {
   "display_name": "Python 3 (ipykernel)",
   "language": "python",
   "name": "python3"
  },
  "language_info": {
   "codemirror_mode": {
    "name": "ipython",
    "version": 3
   },
   "file_extension": ".py",
   "mimetype": "text/x-python",
   "name": "python",
   "nbconvert_exporter": "python",
   "pygments_lexer": "ipython3",
   "version": "3.11.4"
  }
 },
 "nbformat": 4,
 "nbformat_minor": 5
}
